{
 "cells": [
  {
   "cell_type": "code",
   "execution_count": 5,
   "id": "8d43655b-c46b-49e5-b78d-4c91326a7784",
   "metadata": {
    "tags": []
   },
   "outputs": [],
   "source": [
    "import numpy as np\n"
   ]
  },
  {
   "cell_type": "code",
   "execution_count": 8,
   "id": "30ce1e11-440c-4b39-9b80-f8a8ed0c42f9",
   "metadata": {
    "tags": []
   },
   "outputs": [
    {
     "data": {
      "text/plain": [
       "array([[ 0,  1,  2],\n",
       "       [ 3,  4,  5],\n",
       "       [ 6,  7,  8],\n",
       "       [ 9, 10, 11]])"
      ]
     },
     "execution_count": 8,
     "metadata": {},
     "output_type": "execute_result"
    }
   ],
   "source": [
    "np.arange(12).reshape(4,3)\n",
    "\n"
   ]
  },
  {
   "cell_type": "code",
   "execution_count": 13,
   "id": "1b6fd95b-0eec-4c5f-b5a9-d0dc39194648",
   "metadata": {
    "tags": []
   },
   "outputs": [
    {
     "data": {
      "text/plain": [
       "array([ 1.,  2.,  3.,  4.,  5.,  6.,  7.,  8.,  9., 10.])"
      ]
     },
     "execution_count": 13,
     "metadata": {},
     "output_type": "execute_result"
    }
   ],
   "source": [
    "np.linspace(1,10,10)"
   ]
  },
  {
   "cell_type": "code",
   "execution_count": 22,
   "id": "5c59a92f-06cc-42f9-b8b0-d768e64a4c81",
   "metadata": {
    "tags": []
   },
   "outputs": [
    {
     "data": {
      "text/plain": [
       "array([[10, 20, 30],\n",
       "       [40, 50, 60],\n",
       "       [70, 80, 90]])"
      ]
     },
     "execution_count": 22,
     "metadata": {},
     "output_type": "execute_result"
    }
   ],
   "source": [
    "a2 = np.arange(10, 100, 10).reshape(3,3)\n",
    "a2"
   ]
  },
  {
   "cell_type": "code",
   "execution_count": 28,
   "id": "ac1e53e7-0d19-49e3-86e3-6200b64abc6c",
   "metadata": {
    "tags": []
   },
   "outputs": [
    {
     "data": {
      "text/plain": [
       "50"
      ]
     },
     "execution_count": 28,
     "metadata": {},
     "output_type": "execute_result"
    }
   ],
   "source": [
    "a2[1,1]\n"
   ]
  },
  {
   "cell_type": "code",
   "execution_count": 32,
   "id": "011e93a5-559d-46d5-b5c8-5498f9e97db4",
   "metadata": {
    "tags": []
   },
   "outputs": [
    {
     "data": {
      "text/plain": [
       "array([[10, 20, 30],\n",
       "       [40, 50, 60],\n",
       "       [70, 80, 95]])"
      ]
     },
     "execution_count": 32,
     "metadata": {},
     "output_type": "execute_result"
    }
   ],
   "source": [
    "# 90을 95로 변경\n",
    "a2[2, 2] = 95\n",
    "a2"
   ]
  },
  {
   "cell_type": "code",
   "execution_count": 41,
   "id": "75ed21aa-9a8a-41c4-8271-624d6872f51c",
   "metadata": {
    "tags": []
   },
   "outputs": [
    {
     "data": {
      "text/plain": [
       "array([[ 1,  2,  3],\n",
       "       [40, 50, 60],\n",
       "       [70, 80, 95]])"
      ]
     },
     "execution_count": 41,
     "metadata": {},
     "output_type": "execute_result"
    }
   ],
   "source": [
    "a2[0,2] = 23\n",
    "a2[0] = np.array([1, 2, 3]) # 정석\n",
    "a2"
   ]
  },
  {
   "cell_type": "code",
   "execution_count": 50,
   "id": "3e803db6-6113-4f1a-95d5-4177da9cb20a",
   "metadata": {
    "tags": []
   },
   "outputs": [
    {
     "data": {
      "text/plain": [
       "array([[ 4,  5,  6],\n",
       "       [40, 50, 60],\n",
       "       [70, 80, 95]])"
      ]
     },
     "execution_count": 50,
     "metadata": {},
     "output_type": "execute_result"
    }
   ],
   "source": [
    "a2[0] = np.array([4, 5, 6]) # 에러 확인, array(배열)의 크기가 다름\n",
    "a2 "
   ]
  },
  {
   "cell_type": "markdown",
   "id": "11dbd971-5422-4be3-ba44-bfd7c6b3152c",
   "metadata": {},
   "source": [
    "- 2차원 배열의 행과 열 위치 지정해서 원소 추출\n",
    " + (행의 위치1, 열의 위치1) / (행의 위치2, 열의 위치2)"
   ]
  },
  {
   "cell_type": "code",
   "execution_count": 51,
   "id": "fc67eaf8-17a1-4d14-8d55-c60254857de8",
   "metadata": {
    "tags": []
   },
   "outputs": [
    {
     "data": {
      "text/plain": [
       "array([[ 4,  5,  6],\n",
       "       [40, 50, 60],\n",
       "       [70, 80, 95]])"
      ]
     },
     "execution_count": 51,
     "metadata": {},
     "output_type": "execute_result"
    }
   ],
   "source": [
    "a2"
   ]
  },
  {
   "cell_type": "code",
   "execution_count": 53,
   "id": "4009095a-fe9d-4084-9867-9bdbf80dfd37",
   "metadata": {
    "tags": []
   },
   "outputs": [
    {
     "data": {
      "text/plain": [
       "array([ 4, 80])"
      ]
     },
     "execution_count": 53,
     "metadata": {},
     "output_type": "execute_result"
    }
   ],
   "source": [
    "a2[[0, 2],[0, 1]]   "
   ]
  },
  {
   "cell_type": "code",
   "execution_count": 58,
   "id": "92c26990-ebc3-41fb-9cd4-550ee9ee5e8c",
   "metadata": {
    "tags": []
   },
   "outputs": [
    {
     "data": {
      "text/plain": [
       "(6, 5)"
      ]
     },
     "execution_count": 58,
     "metadata": {},
     "output_type": "execute_result"
    }
   ],
   "source": [
    "a2[0,2], a2[0,1]"
   ]
  },
  {
   "cell_type": "markdown",
   "id": "8075dea7-0d67-4a31-b3a0-ac731bca142d",
   "metadata": {
    "tags": []
   },
   "source": [
    "## 배열 조건문\n",
    "- pandas 문법과 유사하다 "
   ]
  },
  {
   "cell_type": "code",
   "execution_count": 62,
   "id": "01b898db-7276-409f-a490-bc7e05a0a083",
   "metadata": {
    "tags": []
   },
   "outputs": [
    {
     "data": {
      "text/plain": [
       "array([1, 2, 3, 4, 5, 6])"
      ]
     },
     "execution_count": 62,
     "metadata": {},
     "output_type": "execute_result"
    }
   ],
   "source": [
    "a = np.array([1,2,3,4,5,6])\n",
    "a"
   ]
  },
  {
   "cell_type": "code",
   "execution_count": 69,
   "id": "37361dd8-2d82-4a73-84cc-71ca98178245",
   "metadata": {
    "tags": []
   },
   "outputs": [
    {
     "data": {
      "text/plain": [
       "[array([False, False, False,  True,  True,  True])]"
      ]
     },
     "execution_count": 69,
     "metadata": {},
     "output_type": "execute_result"
    }
   ],
   "source": [
    "[a>3]"
   ]
  },
  {
   "cell_type": "code",
   "execution_count": 71,
   "id": "18f68476-e2d9-4664-8d8b-359549464111",
   "metadata": {
    "tags": []
   },
   "outputs": [
    {
     "data": {
      "text/plain": [
       "array([False,  True, False,  True, False,  True])"
      ]
     },
     "execution_count": 71,
     "metadata": {},
     "output_type": "execute_result"
    }
   ],
   "source": [
    "a % 2 == 0 # 실무에서는 이런 코드를 작성하는 것이 핵심"
   ]
  },
  {
   "cell_type": "markdown",
   "id": "346747bf-adb7-4292-9d3b-1f6b0a9653bc",
   "metadata": {},
   "source": [
    "# 배열의 슬라이싱 "
   ]
  },
  {
   "cell_type": "code",
   "execution_count": 101,
   "id": "1b1e6a5a-07a9-411c-b4be-ae1fab9d5782",
   "metadata": {
    "tags": []
   },
   "outputs": [
    {
     "name": "stdout",
     "output_type": "stream",
     "text": [
      "[0 1 2 3 4 5]\n"
     ]
    },
    {
     "data": {
      "text/plain": [
       "array([1, 2, 3])"
      ]
     },
     "execution_count": 101,
     "metadata": {},
     "output_type": "execute_result"
    }
   ],
   "source": [
    "# p 234\n",
    "b1 = np.array([0,1,2,3,4,5])\n",
    "print(b1)\n",
    "b1[1:4]"
   ]
  },
  {
   "cell_type": "code",
   "execution_count": 78,
   "id": "95cb77c2-4864-4adc-8fd1-c9dc949b8817",
   "metadata": {
    "tags": []
   },
   "outputs": [
    {
     "data": {
      "text/plain": [
       "array([0, 1, 2])"
      ]
     },
     "execution_count": 78,
     "metadata": {},
     "output_type": "execute_result"
    }
   ],
   "source": [
    "b1[:3]"
   ]
  },
  {
   "cell_type": "code",
   "execution_count": 80,
   "id": "69d4b2c9-a463-4f8b-a535-c16444019ca2",
   "metadata": {
    "tags": []
   },
   "outputs": [
    {
     "data": {
      "text/plain": [
       "array([2, 3, 4, 5])"
      ]
     },
     "execution_count": 80,
     "metadata": {},
     "output_type": "execute_result"
    }
   ],
   "source": [
    "b1[2:]"
   ]
  },
  {
   "cell_type": "code",
   "execution_count": 98,
   "id": "a8e4ed9f-3e11-4477-9fb1-61e0cc8bdec0",
   "metadata": {
    "tags": []
   },
   "outputs": [
    {
     "data": {
      "text/plain": [
       "array([0, 2])"
      ]
     },
     "execution_count": 98,
     "metadata": {},
     "output_type": "execute_result"
    }
   ],
   "source": [
    "b1[0:4:2]"
   ]
  },
  {
   "cell_type": "code",
   "execution_count": 105,
   "id": "00fc9fde-43b1-47ba-825c-f8fc326de590",
   "metadata": {
    "tags": []
   },
   "outputs": [
    {
     "data": {
      "text/plain": [
       "array([ 0,  1, 25, 35, 45,  5])"
      ]
     },
     "execution_count": 105,
     "metadata": {},
     "output_type": "execute_result"
    }
   ],
   "source": [
    "b1[2:5] = np.array([25,35,45])\n",
    "b1"
   ]
  },
  {
   "cell_type": "code",
   "execution_count": 107,
   "id": "0addefbb-4b8d-4ec8-b90b-069abd5347d6",
   "metadata": {
    "tags": []
   },
   "outputs": [
    {
     "data": {
      "text/plain": [
       "array([ 0,  1, 25, 60, 60, 60])"
      ]
     },
     "execution_count": 107,
     "metadata": {},
     "output_type": "execute_result"
    }
   ],
   "source": [
    "b1[3:6] = 60\n",
    "b1"
   ]
  },
  {
   "cell_type": "code",
   "execution_count": 118,
   "id": "73082a1d-c069-47b5-be30-8c55f87a6644",
   "metadata": {
    "tags": []
   },
   "outputs": [
    {
     "data": {
      "text/plain": [
       "array([[10, 20, 30],\n",
       "       [40, 50, 60],\n",
       "       [70, 80, 90]])"
      ]
     },
     "execution_count": 118,
     "metadata": {},
     "output_type": "execute_result"
    }
   ],
   "source": [
    "b2 = np.arange(10,100,10).reshape(3,3)\n",
    "b2"
   ]
  },
  {
   "cell_type": "code",
   "execution_count": 121,
   "id": "4300f4f9-e17e-4aa1-a96d-c826f4b31ca9",
   "metadata": {
    "tags": []
   },
   "outputs": [
    {
     "data": {
      "text/plain": [
       "array([[50, 60],\n",
       "       [80, 90]])"
      ]
     },
     "execution_count": 121,
     "metadata": {},
     "output_type": "execute_result"
    }
   ],
   "source": [
    "b2[1:3, 1:3]"
   ]
  },
  {
   "cell_type": "code",
   "execution_count": 124,
   "id": "a45f28ed-fe01-414a-aca7-3eb5e1136080",
   "metadata": {
    "tags": []
   },
   "outputs": [
    {
     "data": {
      "text/plain": [
       "array([[50, 60],\n",
       "       [80, 90]])"
      ]
     },
     "execution_count": 124,
     "metadata": {},
     "output_type": "execute_result"
    }
   ],
   "source": [
    "b2[1:, 1:]"
   ]
  },
  {
   "cell_type": "code",
   "execution_count": 126,
   "id": "93b29b1d-8002-4847-ba88-79abcc65529b",
   "metadata": {
    "tags": []
   },
   "outputs": [
    {
     "data": {
      "text/plain": [
       "'a'"
      ]
     },
     "execution_count": 126,
     "metadata": {},
     "output_type": "execute_result"
    }
   ],
   "source": [
    "nums = [1,2,3, ['a', 'b']]\n",
    "nums[3][0]"
   ]
  },
  {
   "cell_type": "code",
   "execution_count": 130,
   "id": "f9b186f1-56d1-40ec-a30f-23f50a19394b",
   "metadata": {
    "tags": []
   },
   "outputs": [
    {
     "data": {
      "text/plain": [
       "array([50, 60])"
      ]
     },
     "execution_count": 130,
     "metadata": {},
     "output_type": "execute_result"
    }
   ],
   "source": [
    "b2[1][1:3]"
   ]
  },
  {
   "cell_type": "markdown",
   "id": "2ec6fd16-7fc2-41c4-9215-03db49fc5002",
   "metadata": {},
   "source": [
    "## Numpy 조건문\n",
    "- np.where : 단일 조건문\n",
    "- np.select : 다중 조건문"
   ]
  },
  {
   "cell_type": "code",
   "execution_count": 134,
   "id": "a066951a-a987-490d-8b36-f35b4740762a",
   "metadata": {
    "tags": []
   },
   "outputs": [
    {
     "data": {
      "text/plain": [
       "array([0, 1, 2, 3, 4, 5, 6, 7, 8, 9])"
      ]
     },
     "execution_count": 134,
     "metadata": {},
     "output_type": "execute_result"
    }
   ],
   "source": [
    "arr = np.arange(10)\n",
    "arr"
   ]
  },
  {
   "cell_type": "code",
   "execution_count": 139,
   "id": "b8731838-c3fe-4b3c-b363-49a2a4ef17a3",
   "metadata": {
    "tags": []
   },
   "outputs": [
    {
     "data": {
      "text/plain": [
       "array([ 0,  1,  2,  3,  4, 50, 60, 70, 80, 90])"
      ]
     },
     "execution_count": 139,
     "metadata": {},
     "output_type": "execute_result"
    }
   ],
   "source": [
    "# 0, 1, 2, 3, 4, 50, 60, 70, 80, 90\n",
    "np.where(arr < 5, arr, arr * 10)"
   ]
  },
  {
   "cell_type": "code",
   "execution_count": 141,
   "id": "107a3815-5379-4854-a993-807989192d27",
   "metadata": {
    "tags": []
   },
   "outputs": [
    {
     "data": {
      "text/plain": [
       "array([0, 1, 2, 3, 4, 5, 6, 7, 8, 9])"
      ]
     },
     "execution_count": 141,
     "metadata": {},
     "output_type": "execute_result"
    }
   ],
   "source": [
    "arr = np.arange(10)\n",
    "arr"
   ]
  },
  {
   "cell_type": "code",
   "execution_count": 149,
   "id": "93153a49-4829-4260-987a-5137a6007192",
   "metadata": {
    "tags": []
   },
   "outputs": [
    {
     "data": {
      "text/plain": [
       "array([100, 101,   2,   3,   4,   5,  12,  14,  16,  18])"
      ]
     },
     "execution_count": 149,
     "metadata": {},
     "output_type": "execute_result"
    }
   ],
   "source": [
    "# 100, 101, 2, 3, 4, 5, 12, 14, 16, 18\n",
    "# 2 미만 일 때는 100을 더한다.\n",
    "# 5 초과 일 때는 2를 곱한다.\n",
    "\n",
    "# 조건식과 대응되는 결과를 리스트로 만들기\n",
    "cond_list = [arr > 5, arr < 2]\n",
    "choice_list = [arr * 2, arr + 100]\n",
    "np.select(cond_list, choice_list, default = arr)"
   ]
  },
  {
   "cell_type": "code",
   "execution_count": null,
   "id": "d173b86a-4c71-4906-b893-9a62630d2432",
   "metadata": {},
   "outputs": [],
   "source": []
  }
 ],
 "metadata": {
  "kernelspec": {
   "display_name": "Python 3 (ipykernel)",
   "language": "python",
   "name": "python3"
  },
  "language_info": {
   "codemirror_mode": {
    "name": "ipython",
    "version": 3
   },
   "file_extension": ".py",
   "mimetype": "text/x-python",
   "name": "python",
   "nbconvert_exporter": "python",
   "pygments_lexer": "ipython3",
   "version": "3.11.5"
  }
 },
 "nbformat": 4,
 "nbformat_minor": 5
}
