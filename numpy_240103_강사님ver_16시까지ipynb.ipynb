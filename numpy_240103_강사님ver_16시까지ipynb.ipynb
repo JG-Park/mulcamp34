{
 "cells": [
  {
   "cell_type": "markdown",
   "id": "8bd847ce-b9a7-47d8-a8ae-061d60ccbe83",
   "metadata": {},
   "source": [
    "## NumPy\n",
    "- 선형대수, 행렬 수치연산과 관련된 라이브러리\n",
    "- 문과생, 고졸인데, 전문대졸인데... 선형대수는 모르는데요?\n",
    "    + 선형대수를 공부해야 합니까?\n",
    "\n",
    "\n",
    "- NumPy 기반으로 ==> 통계, 머신러닝, 등등 "
   ]
  },
  {
   "cell_type": "code",
   "execution_count": 1,
   "id": "5c76d431-8139-45f4-b612-6ab2d002a909",
   "metadata": {},
   "outputs": [],
   "source": [
    "# !pip install numpy"
   ]
  },
  {
   "cell_type": "code",
   "execution_count": 2,
   "id": "39b73306-9c66-44ee-967e-a27f27e17521",
   "metadata": {},
   "outputs": [
    {
     "ename": "ModuleNotFoundError",
     "evalue": "No module named 'streamlit'",
     "output_type": "error",
     "traceback": [
      "\u001b[1;31m---------------------------------------------------------------------------\u001b[0m",
      "\u001b[1;31mModuleNotFoundError\u001b[0m                       Traceback (most recent call last)",
      "Cell \u001b[1;32mIn[2], line 1\u001b[0m\n\u001b[1;32m----> 1\u001b[0m \u001b[38;5;28;01mimport\u001b[39;00m \u001b[38;5;21;01mstreamlit\u001b[39;00m \u001b[38;5;28;01mas\u001b[39;00m \u001b[38;5;21;01mst\u001b[39;00m\n\u001b[0;32m      3\u001b[0m \u001b[38;5;28mprint\u001b[39m(st\u001b[38;5;241m.\u001b[39m__version__)\n",
      "\u001b[1;31mModuleNotFoundError\u001b[0m: No module named 'streamlit'"
     ]
    }
   ],
   "source": [
    "import streamlit as st\n",
    "\n",
    "print(st.__version__)"
   ]
  },
  {
   "cell_type": "code",
   "execution_count": 4,
   "id": "08127896-ef4a-41b1-bb2d-233c458c4507",
   "metadata": {},
   "outputs": [
    {
     "name": "stdout",
     "output_type": "stream",
     "text": [
      "1.26.2\n"
     ]
    }
   ],
   "source": [
    "import numpy as np # NumPy 라이브러리를 불러오기 \n",
    "\n",
    "print(np.__version__)"
   ]
  },
  {
   "cell_type": "code",
   "execution_count": 6,
   "id": "4fdce4da-cc0b-4fb4-98a8-9d668ca06b44",
   "metadata": {},
   "outputs": [
    {
     "data": {
      "text/plain": [
       "[1, 2, 3, 4, 3, 4, 5, 6]"
      ]
     },
     "execution_count": 6,
     "metadata": {},
     "output_type": "execute_result"
    }
   ],
   "source": [
    "num1 = [1, 2, 3, 4]\n",
    "num2 = [3, 4, 5, 6]\n",
    "\n",
    "num1 + num2"
   ]
  },
  {
   "cell_type": "code",
   "execution_count": 8,
   "id": "b54d1522-4697-446d-8496-c44139af4e08",
   "metadata": {},
   "outputs": [
    {
     "data": {
      "text/plain": [
       "array([1, 2, 3, 4])"
      ]
     },
     "execution_count": 8,
     "metadata": {},
     "output_type": "execute_result"
    }
   ],
   "source": [
    "arr1 = np.array(num1)\n",
    "arr2 = np.array(num2)\n",
    "arr1"
   ]
  },
  {
   "cell_type": "code",
   "execution_count": 9,
   "id": "ac280e84-56c0-48ab-88cd-0356a2d6f171",
   "metadata": {},
   "outputs": [
    {
     "data": {
      "text/plain": [
       "array([3, 4, 5, 6])"
      ]
     },
     "execution_count": 9,
     "metadata": {},
     "output_type": "execute_result"
    }
   ],
   "source": [
    "arr2"
   ]
  },
  {
   "cell_type": "code",
   "execution_count": 10,
   "id": "5a53678a-0156-4e88-abef-5d0fc47ab010",
   "metadata": {},
   "outputs": [
    {
     "data": {
      "text/plain": [
       "array([ 4,  6,  8, 10])"
      ]
     },
     "execution_count": 10,
     "metadata": {},
     "output_type": "execute_result"
    }
   ],
   "source": [
    "arr1 + arr2"
   ]
  },
  {
   "cell_type": "code",
   "execution_count": 12,
   "id": "a3672f07-e528-446a-b201-78d56b202f46",
   "metadata": {},
   "outputs": [
    {
     "name": "stdout",
     "output_type": "stream",
     "text": [
      "원래 배열: [ 1.          2.71828183  7.3890561  10.        ]\n",
      "자연로그 계산된 배열: [0.         1.         2.         2.30258509]\n"
     ]
    }
   ],
   "source": [
    "import numpy as np\n",
    "\n",
    "# 배열 생성\n",
    "arr = np.array([1, np.e, np.e**2, 10])\n",
    "\n",
    "# 자연로그 계산\n",
    "log_arr = np.log(arr)\n",
    "\n",
    "print(\"원래 배열:\", arr)\n",
    "print(\"자연로그 계산된 배열:\", log_arr)"
   ]
  },
  {
   "cell_type": "code",
   "execution_count": 14,
   "id": "1b2c6d1b-cc0e-47ce-a981-0441cd15cd90",
   "metadata": {},
   "outputs": [
    {
     "data": {
      "text/plain": [
       "array([0, 1, 2, 3, 4, 5])"
      ]
     },
     "execution_count": 14,
     "metadata": {},
     "output_type": "execute_result"
    }
   ],
   "source": [
    "data1 = [0, 1, 2, 3, 4, 5]\n",
    "a1 = np.array(data1)\n",
    "a1"
   ]
  },
  {
   "cell_type": "code",
   "execution_count": 16,
   "id": "6cd050e3-36a2-4711-8054-5e1c9fd07c04",
   "metadata": {},
   "outputs": [
    {
     "data": {
      "text/plain": [
       "dtype('int32')"
      ]
     },
     "execution_count": 16,
     "metadata": {},
     "output_type": "execute_result"
    }
   ],
   "source": [
    "a1.dtype # Python int  # Numpy int8, int16, int32, int64"
   ]
  },
  {
   "cell_type": "code",
   "execution_count": 18,
   "id": "a5ac0160-a67b-4430-9124-6c5f3a49cf83",
   "metadata": {},
   "outputs": [
    {
     "data": {
      "text/plain": [
       "dtype('float64')"
      ]
     },
     "execution_count": 18,
     "metadata": {},
     "output_type": "execute_result"
    }
   ],
   "source": [
    "np.array([0.5, 2, 0.01, 8]).dtype"
   ]
  },
  {
   "cell_type": "markdown",
   "id": "cda53650-2499-40aa-b0b7-c91fa52cdfb3",
   "metadata": {},
   "source": [
    "## NumPy 배열 생성 \n",
    "- 1차원, 2차원, 3차원.. 배열 생성"
   ]
  },
  {
   "cell_type": "code",
   "execution_count": 20,
   "id": "a10fac00-60eb-4a69-84bd-e90cc3dd6f8a",
   "metadata": {},
   "outputs": [
    {
     "data": {
      "text/plain": [
       "array([0, 2, 4, 6, 8])"
      ]
     },
     "execution_count": 20,
     "metadata": {},
     "output_type": "execute_result"
    }
   ],
   "source": [
    "np.arange(0, 10, 2)"
   ]
  },
  {
   "cell_type": "code",
   "execution_count": 22,
   "id": "75bb5567-971c-4816-92c7-9a8d30e6fcc6",
   "metadata": {},
   "outputs": [
    {
     "data": {
      "text/plain": [
       "array([1, 2, 3, 4, 5, 6, 7, 8, 9])"
      ]
     },
     "execution_count": 22,
     "metadata": {},
     "output_type": "execute_result"
    }
   ],
   "source": [
    "np.arange(1, 10)"
   ]
  },
  {
   "cell_type": "code",
   "execution_count": 24,
   "id": "11295e77-820e-4822-95da-e5e0b903b7a7",
   "metadata": {},
   "outputs": [
    {
     "data": {
      "text/plain": [
       "array([0, 1, 2, 3, 4, 5, 6, 7, 8, 9])"
      ]
     },
     "execution_count": 24,
     "metadata": {},
     "output_type": "execute_result"
    }
   ],
   "source": [
    "np.arange(10) # 1차원 배열, 2차원 또는 3차원으로 변경"
   ]
  },
  {
   "cell_type": "code",
   "execution_count": 27,
   "id": "d58779a9-6915-435d-9b83-228272903249",
   "metadata": {},
   "outputs": [
    {
     "data": {
      "text/plain": [
       "array([[ 0,  1,  2],\n",
       "       [ 3,  4,  5],\n",
       "       [ 6,  7,  8],\n",
       "       [ 9, 10, 11]])"
      ]
     },
     "execution_count": 27,
     "metadata": {},
     "output_type": "execute_result"
    }
   ],
   "source": [
    "np.arange(12).reshape(4, 3)"
   ]
  },
  {
   "cell_type": "code",
   "execution_count": 30,
   "id": "3860911e-9c41-46aa-b651-8cc82636bc80",
   "metadata": {},
   "outputs": [
    {
     "data": {
      "text/plain": [
       "array([[[ 0,  1,  2],\n",
       "        [ 3,  4,  5]],\n",
       "\n",
       "       [[ 6,  7,  8],\n",
       "        [ 9, 10, 11]]])"
      ]
     },
     "execution_count": 30,
     "metadata": {},
     "output_type": "execute_result"
    }
   ],
   "source": [
    "np.arange(12).reshape(2, 2, 3)"
   ]
  },
  {
   "cell_type": "code",
   "execution_count": 33,
   "id": "4e69509c-212e-43a6-835c-5e289c9e67cc",
   "metadata": {},
   "outputs": [
    {
     "data": {
      "text/plain": [
       "(4, 3)"
      ]
     },
     "execution_count": 33,
     "metadata": {},
     "output_type": "execute_result"
    }
   ],
   "source": [
    "b1 = np.arange(12).reshape(4, 3)\n",
    "b1.shape"
   ]
  },
  {
   "cell_type": "code",
   "execution_count": 35,
   "id": "5ec9b5fb-c56d-4460-aae3-8e8f51b70b32",
   "metadata": {},
   "outputs": [
    {
     "data": {
      "text/plain": [
       "(5,)"
      ]
     },
     "execution_count": 35,
     "metadata": {},
     "output_type": "execute_result"
    }
   ],
   "source": [
    "b2 = np.arange(5)\n",
    "b2.shape"
   ]
  },
  {
   "cell_type": "code",
   "execution_count": 40,
   "id": "3a778f07-477a-405e-a998-b3d342652ff4",
   "metadata": {},
   "outputs": [
    {
     "data": {
      "text/plain": [
       "array([ 1.        ,  3.11111111,  5.22222222,  7.33333333,  9.44444444,\n",
       "       11.55555556, 13.66666667, 15.77777778, 17.88888889, 20.        ])"
      ]
     },
     "execution_count": 40,
     "metadata": {},
     "output_type": "execute_result"
    }
   ],
   "source": [
    "# 범위의 시작과 끝 정하기 배열 생성\n",
    "np.linspace(1, 20, 10)"
   ]
  },
  {
   "cell_type": "code",
   "execution_count": 42,
   "id": "c3aeafec-d0ef-4167-9f34-08094bee366a",
   "metadata": {},
   "outputs": [
    {
     "data": {
      "text/plain": [
       "array([0.        , 0.16534698, 0.33069396, 0.49604095, 0.66138793,\n",
       "       0.82673491, 0.99208189, 1.15742887, 1.32277585, 1.48812284,\n",
       "       1.65346982, 1.8188168 , 1.98416378, 2.14951076, 2.31485774,\n",
       "       2.48020473, 2.64555171, 2.81089869, 2.97624567, 3.14159265])"
      ]
     },
     "execution_count": 42,
     "metadata": {},
     "output_type": "execute_result"
    }
   ],
   "source": [
    "np.linspace(0, np.pi, 20)"
   ]
  },
  {
   "cell_type": "code",
   "execution_count": 44,
   "id": "ebca049f-0687-4662-b911-9c9a43b5fe04",
   "metadata": {},
   "outputs": [
    {
     "data": {
      "text/plain": [
       "array([0., 0., 0., 0., 0., 0., 0., 0., 0., 0.])"
      ]
     },
     "execution_count": 44,
     "metadata": {},
     "output_type": "execute_result"
    }
   ],
   "source": [
    "np.zeros(10)"
   ]
  },
  {
   "cell_type": "code",
   "execution_count": 46,
   "id": "41882ade-30a4-43d5-aec2-fb618927d30d",
   "metadata": {},
   "outputs": [
    {
     "data": {
      "text/plain": [
       "array([[0., 0.],\n",
       "       [0., 0.]])"
      ]
     },
     "execution_count": 46,
     "metadata": {},
     "output_type": "execute_result"
    }
   ],
   "source": [
    "np.zeros((2, 2))"
   ]
  },
  {
   "cell_type": "code",
   "execution_count": 47,
   "id": "aa78e5ea-b733-4aa5-9084-9ffd17d4a37f",
   "metadata": {},
   "outputs": [
    {
     "data": {
      "text/plain": [
       "array([1., 1., 1., 1., 1., 1., 1., 1., 1., 1.])"
      ]
     },
     "execution_count": 47,
     "metadata": {},
     "output_type": "execute_result"
    }
   ],
   "source": [
    "np.ones(10)"
   ]
  },
  {
   "cell_type": "code",
   "execution_count": 49,
   "id": "b09cd1f7-fa6b-4728-b36e-819073a79d8d",
   "metadata": {},
   "outputs": [
    {
     "data": {
      "text/plain": [
       "array([[1., 1.],\n",
       "       [1., 1.]])"
      ]
     },
     "execution_count": 49,
     "metadata": {},
     "output_type": "execute_result"
    }
   ],
   "source": [
    "np.ones((2, 2))"
   ]
  },
  {
   "cell_type": "markdown",
   "id": "198312d1-b2ad-4dba-8688-dd5d4fe59c0d",
   "metadata": {},
   "source": [
    "## NumPy 기초 문법 배우는 이유\n",
    "- 문과생 : 데이터 분석가, 기초문법 있구나! 넘어가면 끝.\n",
    "- 이공계 : 수치연산, 배열, 수식을 활용해서 문제 풀이\n",
    "    + 클래스, 딥러닝 클래스, NumPy를 활용해서 딥러닝 알고리즘을 적용해서 클래스 & 라이브러리\n",
    "    + 밑바닥부터 시작하는 딥러닝3, "
   ]
  },
  {
   "cell_type": "code",
   "execution_count": 50,
   "id": "8471027d-a24b-4ee1-b463-9d8fe7f10530",
   "metadata": {},
   "outputs": [
    {
     "data": {
      "text/plain": [
       "array([[1., 0., 0.],\n",
       "       [0., 1., 0.],\n",
       "       [0., 0., 1.]])"
      ]
     },
     "execution_count": 50,
     "metadata": {},
     "output_type": "execute_result"
    }
   ],
   "source": [
    "# 단위행렬\n",
    "arr_I = np.eye(3)\n",
    "arr_I"
   ]
  },
  {
   "cell_type": "code",
   "execution_count": 52,
   "id": "67c1b131-ada0-48cc-9301-baa581e84dcd",
   "metadata": {},
   "outputs": [
    {
     "data": {
      "text/plain": [
       "(3, 3)"
      ]
     },
     "execution_count": 52,
     "metadata": {},
     "output_type": "execute_result"
    }
   ],
   "source": [
    "arr_I.shape"
   ]
  },
  {
   "cell_type": "code",
   "execution_count": 54,
   "id": "ef7febde-a9de-4369-b3fc-81188621746e",
   "metadata": {},
   "outputs": [
    {
     "data": {
      "text/plain": [
       "array(['1.5', '0.62'], dtype='<U4')"
      ]
     },
     "execution_count": 54,
     "metadata": {},
     "output_type": "execute_result"
    }
   ],
   "source": [
    "np.array(['1.5', '0.62']) # 데이터 형변환"
   ]
  },
  {
   "cell_type": "code",
   "execution_count": 57,
   "id": "6fc602fa-a50d-435d-9eb8-a44063d5af40",
   "metadata": {},
   "outputs": [
    {
     "data": {
      "text/plain": [
       "dtype('float64')"
      ]
     },
     "execution_count": 57,
     "metadata": {},
     "output_type": "execute_result"
    }
   ],
   "source": [
    "# astype() # pandas에서 사용가능\n",
    "arr = np.array(['1.5', '0.62'])\n",
    "num_arr = arr.astype(float)\n",
    "num_arr.dtype"
   ]
  },
  {
   "cell_type": "code",
   "execution_count": 59,
   "id": "c2e0e8b3-1763-4b05-8e1c-f260dbb51822",
   "metadata": {},
   "outputs": [
    {
     "data": {
      "text/plain": [
       "array([1.5 , 0.62])"
      ]
     },
     "execution_count": 59,
     "metadata": {},
     "output_type": "execute_result"
    }
   ],
   "source": [
    "np.array(['1.5', '0.62'], dtype = float)"
   ]
  },
  {
   "cell_type": "code",
   "execution_count": 63,
   "id": "b1457ede-ead3-4a30-ac05-39609adc45f5",
   "metadata": {},
   "outputs": [
    {
     "data": {
      "text/plain": [
       "array([10, 21,  0,  4,  5])"
      ]
     },
     "execution_count": 63,
     "metadata": {},
     "output_type": "execute_result"
    }
   ],
   "source": [
    "num_f1 = np.array([10, 21, 0.549, 4.75, 5.98])\n",
    "num_f1 = num_f1.astype(int)\n",
    "num_f1"
   ]
  },
  {
   "cell_type": "code",
   "execution_count": 65,
   "id": "13125391-f555-4824-9307-025f477818d2",
   "metadata": {},
   "outputs": [
    {
     "data": {
      "text/plain": [
       "array([10.   , 21.   ,  0.549,  4.75 ,  5.98 ])"
      ]
     },
     "execution_count": 65,
     "metadata": {},
     "output_type": "execute_result"
    }
   ],
   "source": [
    "num_f1 = np.array([10, 21, 0.549, 4.75, 5.98])\n",
    "num_f1 = num_f1.astype(float)\n",
    "num_f1"
   ]
  },
  {
   "cell_type": "code",
   "execution_count": 70,
   "id": "1fa48d97-d23e-4a73-9a1a-55cec31191cc",
   "metadata": {},
   "outputs": [
    {
     "data": {
      "text/plain": [
       "array([[[0.48010198, 0.16029575, 0.73040368, 0.59519409],\n",
       "        [0.55167095, 0.90776462, 0.46342539, 0.00123712]],\n",
       "\n",
       "       [[0.84668455, 0.91301339, 0.00746764, 0.37612191],\n",
       "        [0.17570518, 0.61870348, 0.8149266 , 0.79773169]]])"
      ]
     },
     "execution_count": 70,
     "metadata": {},
     "output_type": "execute_result"
    }
   ],
   "source": [
    "# p.224\n",
    "# 난수 무작위로 숫자를 추출한다\n",
    "\n",
    "np.random.rand(2, 2, 4) # 0 ~ 1 사이의 실수 난수를 갖음"
   ]
  },
  {
   "cell_type": "code",
   "execution_count": 89,
   "id": "f954a958-ed78-4481-acb4-105fee2bf90d",
   "metadata": {},
   "outputs": [
    {
     "data": {
      "text/plain": [
       "array([44,  3, 98, 91,  8, 17, 59, 36, 24, 48])"
      ]
     },
     "execution_count": 89,
     "metadata": {},
     "output_type": "execute_result"
    }
   ],
   "source": [
    "np.random.randint(1, 100, 10)"
   ]
  },
  {
   "cell_type": "code",
   "execution_count": 90,
   "id": "711e5820-367c-4a51-9c08-d8e297081a05",
   "metadata": {},
   "outputs": [
    {
     "name": "stdout",
     "output_type": "stream",
     "text": [
      "중복 제거된 set: {1, 2, 3}\n"
     ]
    }
   ],
   "source": [
    "# 리스트 생성\n",
    "my_list = [1, 2, 2, 3, 3, 3]\n",
    "\n",
    "# 리스트를 set으로 변환\n",
    "my_set = set(my_list)\n",
    "\n",
    "print(\"중복 제거된 set:\", my_set)"
   ]
  },
  {
   "cell_type": "markdown",
   "id": "c72b1669-0b72-48a4-ad98-8d42eee4e57b",
   "metadata": {},
   "source": [
    "## "
   ]
  },
  {
   "cell_type": "code",
   "execution_count": null,
   "id": "59b78c87-5868-4193-a907-4daff101a3cb",
   "metadata": {},
   "outputs": [],
   "source": []
  },
  {
   "cell_type": "code",
   "execution_count": 2,
   "id": "dfcf6cf4-e009-471f-b34c-24b828f9656c",
   "metadata": {},
   "outputs": [
    {
     "name": "stdout",
     "output_type": "stream",
     "text": [
      "1.26.2\n"
     ]
    }
   ],
   "source": [
    "import numpy as np\n",
    "print(np.__version__)"
   ]
  },
  {
   "cell_type": "code",
   "execution_count": 7,
   "id": "941ba693-885c-4761-8a32-3e7233788e47",
   "metadata": {},
   "outputs": [
    {
     "name": "stdout",
     "output_type": "stream",
     "text": [
      "1.26.2\n"
     ]
    }
   ],
   "source": [
    "import numpy \n",
    "\n",
    "print(numpy.__version__)"
   ]
  },
  {
   "cell_type": "code",
   "execution_count": 3,
   "id": "f8fc6396-07df-4d3e-bffb-01fe797c5f4d",
   "metadata": {},
   "outputs": [
    {
     "data": {
      "text/plain": [
       "dtype('float64')"
      ]
     },
     "execution_count": 3,
     "metadata": {},
     "output_type": "execute_result"
    }
   ],
   "source": [
    "arr = np.array(['1.5', '0.62'])\n",
    "num_arr = arr.astype(float)\n",
    "num_arr.dtype"
   ]
  },
  {
   "cell_type": "markdown",
   "id": "ed4c4b82-76c7-420a-bb5e-efc9d4351acd",
   "metadata": {},
   "source": [
    "## 분석 프로젝트 진행 시\n",
    "- 간단하고, 빠르게 하고 싶다! Google Colab 유용\n",
    "- 2-3주 내내, 로컬 환경에서 분석을 하는 것이 훨씬 효율적"
   ]
  },
  {
   "cell_type": "markdown",
   "id": "10f29cc9-5ca1-47ac-abb5-3ddfec66b06f",
   "metadata": {},
   "source": [
    "## 배열의 연산 \n",
    "- p.225"
   ]
  },
  {
   "cell_type": "code",
   "execution_count": 4,
   "id": "d13c6c06-15ee-42eb-9bd4-a2011bf9e1cd",
   "metadata": {},
   "outputs": [
    {
     "name": "stdout",
     "output_type": "stream",
     "text": [
      "[11 22 33 44]\n",
      "[ 9 18 27 36]\n",
      "[ 10  40  90 160]\n",
      "[10. 10. 10. 10.]\n"
     ]
    }
   ],
   "source": [
    "arr1 = np.array([10, 20, 30, 40])\n",
    "arr2 = np.array([1, 2, 3, 4])\n",
    "\n",
    "print(arr1 + arr2) # 덧셈\n",
    "print(arr1 - arr2) # 뺄셈\n",
    "print(arr1 * arr2) # 곱셈\n",
    "print(arr1 / arr2) # 나눗셈"
   ]
  },
  {
   "cell_type": "markdown",
   "id": "5e4df6cf-b66b-4691-a72f-9b9b479db99c",
   "metadata": {},
   "source": [
    "## 비교연산"
   ]
  },
  {
   "cell_type": "code",
   "execution_count": 6,
   "id": "0ec194dd-e063-4551-99de-8b27a29d2183",
   "metadata": {},
   "outputs": [
    {
     "data": {
      "text/plain": [
       "array([False, False,  True,  True])"
      ]
     },
     "execution_count": 6,
     "metadata": {},
     "output_type": "execute_result"
    }
   ],
   "source": [
    "arr1 > 20"
   ]
  },
  {
   "cell_type": "markdown",
   "id": "8c9bb050-4ea0-4e46-86f0-ec0908c3e0f7",
   "metadata": {},
   "source": [
    "## 통계 연산\n",
    "- NumPy, 합, 평균, 표준 편차, 분산, 최솟값, 최댓값, 누적합, 누적 곱 메서드가 존재한다.\n",
    "    + 기술통계량 (Descriptive Statistics) : 현재 데이터 상태를 표현(=묘사, Describe)한다.\n",
    "- 통계 : 평균이 전부다! (Mean is Everything)"
   ]
  },
  {
   "cell_type": "code",
   "execution_count": 8,
   "id": "456d62a6-3903-4465-a887-8c48ed427ec4",
   "metadata": {},
   "outputs": [
    {
     "data": {
      "text/plain": [
       "array([0, 1, 2, 3, 4])"
      ]
     },
     "execution_count": 8,
     "metadata": {},
     "output_type": "execute_result"
    }
   ],
   "source": [
    "arr3 = np.arange(5)\n",
    "arr3"
   ]
  },
  {
   "cell_type": "code",
   "execution_count": 9,
   "id": "56b24681-2672-4ca6-88ad-76c965af9228",
   "metadata": {},
   "outputs": [
    {
     "data": {
      "text/plain": [
       "10"
      ]
     },
     "execution_count": 9,
     "metadata": {},
     "output_type": "execute_result"
    }
   ],
   "source": [
    "arr3.sum()"
   ]
  },
  {
   "cell_type": "code",
   "execution_count": 11,
   "id": "5d5b1ff3-a8c1-4b87-82e7-acf698228f12",
   "metadata": {},
   "outputs": [
    {
     "data": {
      "text/plain": [
       "2.0"
      ]
     },
     "execution_count": 11,
     "metadata": {},
     "output_type": "execute_result"
    }
   ],
   "source": [
    "arr3.mean()"
   ]
  },
  {
   "cell_type": "code",
   "execution_count": 13,
   "id": "3472df84-a8ba-4959-8f02-a802fd48145e",
   "metadata": {},
   "outputs": [
    {
     "data": {
      "text/plain": [
       "1.4142135623730951"
      ]
     },
     "execution_count": 13,
     "metadata": {},
     "output_type": "execute_result"
    }
   ],
   "source": [
    "arr3.std() # 표준편차"
   ]
  },
  {
   "cell_type": "code",
   "execution_count": 14,
   "id": "0f810f56-591b-4c00-b025-46761faa7d8e",
   "metadata": {},
   "outputs": [
    {
     "data": {
      "text/plain": [
       "2.0"
      ]
     },
     "execution_count": 14,
     "metadata": {},
     "output_type": "execute_result"
    }
   ],
   "source": [
    "arr3.var() # 분산"
   ]
  },
  {
   "cell_type": "markdown",
   "id": "677a291e-3cb4-49c7-bdd9-a05304728e84",
   "metadata": {},
   "source": [
    "## 누적합과 누적곱\n",
    "- cumsum() : 누적합\n",
    "- cumprod() : 누적곱"
   ]
  },
  {
   "cell_type": "code",
   "execution_count": 16,
   "id": "d5898b40-8e4b-4fdb-8622-ab9ebade772f",
   "metadata": {},
   "outputs": [
    {
     "data": {
      "text/plain": [
       "array([1, 2, 3, 4])"
      ]
     },
     "execution_count": 16,
     "metadata": {},
     "output_type": "execute_result"
    }
   ],
   "source": [
    "arr4 = np.arange(1, 5)\n",
    "arr4"
   ]
  },
  {
   "cell_type": "code",
   "execution_count": 18,
   "id": "7fb4f14c-9d3c-4c76-825a-82610f1d16c6",
   "metadata": {},
   "outputs": [
    {
     "data": {
      "text/plain": [
       "array([ 1,  3,  6, 10])"
      ]
     },
     "execution_count": 18,
     "metadata": {},
     "output_type": "execute_result"
    }
   ],
   "source": [
    "arr4.cumsum()"
   ]
  },
  {
   "cell_type": "code",
   "execution_count": 19,
   "id": "725d15e0-74bd-40c3-a025-0164da165c0a",
   "metadata": {},
   "outputs": [
    {
     "data": {
      "text/plain": [
       "array([ 1,  2,  6, 24])"
      ]
     },
     "execution_count": 19,
     "metadata": {},
     "output_type": "execute_result"
    }
   ],
   "source": [
    "arr4.cumprod()"
   ]
  },
  {
   "cell_type": "markdown",
   "id": "731996fb-6de5-4013-acbc-dbdb138b1b61",
   "metadata": {},
   "source": [
    "## 행렬연산\n",
    "- 선형 대수(Linear Algebra)를 위한 2차원 배열 연산도 지원\n",
    "- p229, 행렬곱, 전치행렬, 역행렬, 행렬식 사용 예시"
   ]
  },
  {
   "cell_type": "code",
   "execution_count": 21,
   "id": "1d69a5f6-ad48-4797-9cca-5837c408a530",
   "metadata": {},
   "outputs": [
    {
     "data": {
      "text/plain": [
       "array([[0, 1],\n",
       "       [2, 3]])"
      ]
     },
     "execution_count": 21,
     "metadata": {},
     "output_type": "execute_result"
    }
   ],
   "source": [
    "A = np.array([0, 1, 2, 3]).reshape(2, 2)\n",
    "A"
   ]
  },
  {
   "cell_type": "code",
   "execution_count": 23,
   "id": "cca548c1-f543-4bff-8a13-aed8db4902f6",
   "metadata": {},
   "outputs": [
    {
     "data": {
      "text/plain": [
       "array([[3, 2],\n",
       "       [0, 1]])"
      ]
     },
     "execution_count": 23,
     "metadata": {},
     "output_type": "execute_result"
    }
   ],
   "source": [
    "B = np.array([3, 2, 0, 1]).reshape(2, 2)\n",
    "B"
   ]
  },
  {
   "cell_type": "code",
   "execution_count": 25,
   "id": "3d30d33a-2338-4468-915f-152e60993fb3",
   "metadata": {},
   "outputs": [
    {
     "data": {
      "text/plain": [
       "array([[0, 1],\n",
       "       [6, 7]])"
      ]
     },
     "execution_count": 25,
     "metadata": {},
     "output_type": "execute_result"
    }
   ],
   "source": [
    "A.dot(B)"
   ]
  },
  {
   "cell_type": "code",
   "execution_count": 27,
   "id": "6b32b547-9337-4cff-8a98-2293867857fb",
   "metadata": {},
   "outputs": [
    {
     "data": {
      "text/plain": [
       "array([[0, 2],\n",
       "       [1, 3]])"
      ]
     },
     "execution_count": 27,
     "metadata": {},
     "output_type": "execute_result"
    }
   ],
   "source": [
    "A.transpose()"
   ]
  },
  {
   "cell_type": "code",
   "execution_count": 28,
   "id": "e21ab816-f524-4806-ade8-d2ca9f267efc",
   "metadata": {},
   "outputs": [
    {
     "data": {
      "text/plain": [
       "array([[-1.5,  0.5],\n",
       "       [ 1. ,  0. ]])"
      ]
     },
     "execution_count": 28,
     "metadata": {},
     "output_type": "execute_result"
    }
   ],
   "source": [
    "np.linalg.inv(A)"
   ]
  },
  {
   "cell_type": "markdown",
   "id": "fe106997-17ea-4c54-9158-d28b328a855d",
   "metadata": {},
   "source": [
    "## 배열의 인덱싱과 슬라이싱 (p.230)\n",
    "- string, list, tuple과 동일한 방법으로 접근"
   ]
  },
  {
   "cell_type": "code",
   "execution_count": 30,
   "id": "e1a0fda9-ac37-4003-a359-283d15f86dd9",
   "metadata": {},
   "outputs": [
    {
     "data": {
      "text/plain": [
       "array([ 0, 10, 20, 30, 40, 50])"
      ]
     },
     "execution_count": 30,
     "metadata": {},
     "output_type": "execute_result"
    }
   ],
   "source": [
    "a1 = np.array([0, 10, 20, 30, 40, 50])\n",
    "a1"
   ]
  },
  {
   "cell_type": "code",
   "execution_count": 33,
   "id": "c4a560c6-eb24-42e2-b84d-51fe55d0c76a",
   "metadata": {},
   "outputs": [
    {
     "data": {
      "text/plain": [
       "40"
      ]
     },
     "execution_count": 33,
     "metadata": {},
     "output_type": "execute_result"
    }
   ],
   "source": [
    "a1[4]"
   ]
  },
  {
   "cell_type": "code",
   "execution_count": 35,
   "id": "19be34c1-7991-4dc3-a964-d381ce95f1c5",
   "metadata": {},
   "outputs": [
    {
     "data": {
      "text/plain": [
       "array([ 0, 10, 20, 30, 40, 70])"
      ]
     },
     "execution_count": 35,
     "metadata": {},
     "output_type": "execute_result"
    }
   ],
   "source": [
    "# 50을 70으로 변경하고 싶음\n",
    "a1[5] = 70\n",
    "a1"
   ]
  },
  {
   "cell_type": "code",
   "execution_count": 39,
   "id": "b82aa3db-f007-4ae8-a4b5-6c4078b7a030",
   "metadata": {},
   "outputs": [
    {
     "data": {
      "text/plain": [
       "array([ 0, 20, 40])"
      ]
     },
     "execution_count": 39,
     "metadata": {},
     "output_type": "execute_result"
    }
   ],
   "source": [
    "# 리스트 통해서 추출\n",
    "a1[[0, 2, 4]]"
   ]
  },
  {
   "cell_type": "code",
   "execution_count": 40,
   "id": "4806fcd0-fa23-4678-bb71-53b40abbb2c7",
   "metadata": {},
   "outputs": [
    {
     "data": {
      "text/plain": [
       "array([ 0, 20, 40])"
      ]
     },
     "execution_count": 40,
     "metadata": {},
     "output_type": "execute_result"
    }
   ],
   "source": [
    "idx_list = [0, 2, 4]\n",
    "a1[idx_list]"
   ]
  },
  {
   "cell_type": "code",
   "execution_count": 41,
   "id": "01376114-0bf6-432b-ab7f-5b6947f35b1d",
   "metadata": {},
   "outputs": [
    {
     "data": {
      "text/plain": [
       "array([[10, 20, 30],\n",
       "       [40, 50, 60],\n",
       "       [70, 80, 90]])"
      ]
     },
     "execution_count": 41,
     "metadata": {},
     "output_type": "execute_result"
    }
   ],
   "source": [
    "a2 = np.arange(10, 100, 10).reshape(3, 3)\n",
    "a2"
   ]
  },
  {
   "cell_type": "code",
   "execution_count": 47,
   "id": "6ad6282d-5d8e-408c-8dfc-ef19c2eb8d33",
   "metadata": {},
   "outputs": [
    {
     "data": {
      "text/plain": [
       "50"
      ]
     },
     "execution_count": 47,
     "metadata": {},
     "output_type": "execute_result"
    }
   ],
   "source": [
    "a2[1, 1]"
   ]
  },
  {
   "cell_type": "code",
   "execution_count": 49,
   "id": "7dd4fca0-c898-45c7-a1fa-335f2f36d99a",
   "metadata": {},
   "outputs": [
    {
     "data": {
      "text/plain": [
       "array([[10, 20, 30],\n",
       "       [40, 50, 60],\n",
       "       [70, 80, 95]])"
      ]
     },
     "execution_count": 49,
     "metadata": {},
     "output_type": "execute_result"
    }
   ],
   "source": [
    "# 90을 95로 변경\n",
    "a2[2, 2] = 95\n",
    "a2"
   ]
  },
  {
   "cell_type": "code",
   "execution_count": 58,
   "id": "139e2a2a-c16a-4ca7-8e53-78ad66a18dcc",
   "metadata": {},
   "outputs": [
    {
     "data": {
      "text/plain": [
       "array([[ 1,  2,  3],\n",
       "       [40, 50, 60],\n",
       "       [70, 80, 95]])"
      ]
     },
     "execution_count": 58,
     "metadata": {},
     "output_type": "execute_result"
    }
   ],
   "source": [
    "a2[0] = [1, 2, 3] # 좋은 코드는 아니다! \n",
    "a2"
   ]
  },
  {
   "cell_type": "code",
   "execution_count": 60,
   "id": "522cf11f-5204-4b04-be90-92d36c461e59",
   "metadata": {},
   "outputs": [
    {
     "data": {
      "text/plain": [
       "array([[ 4,  5,  6],\n",
       "       [40, 50, 60],\n",
       "       [70, 80, 95]])"
      ]
     },
     "execution_count": 60,
     "metadata": {},
     "output_type": "execute_result"
    }
   ],
   "source": [
    "a2[0] = np.array([4, 5, 6]) # 정석\n",
    "a2"
   ]
  },
  {
   "cell_type": "code",
   "execution_count": 61,
   "id": "aba15b76-7810-407d-bf01-0aff326a9da4",
   "metadata": {},
   "outputs": [
    {
     "ename": "ValueError",
     "evalue": "could not broadcast input array from shape (4,) into shape (3,)",
     "output_type": "error",
     "traceback": [
      "\u001b[1;31m---------------------------------------------------------------------------\u001b[0m",
      "\u001b[1;31mValueError\u001b[0m                                Traceback (most recent call last)",
      "Cell \u001b[1;32mIn[61], line 1\u001b[0m\n\u001b[1;32m----> 1\u001b[0m \u001b[43ma2\u001b[49m\u001b[43m[\u001b[49m\u001b[38;5;241;43m0\u001b[39;49m\u001b[43m]\u001b[49m \u001b[38;5;241m=\u001b[39m np\u001b[38;5;241m.\u001b[39marray([\u001b[38;5;241m4\u001b[39m, \u001b[38;5;241m5\u001b[39m, \u001b[38;5;241m6\u001b[39m, \u001b[38;5;241m7\u001b[39m]) \u001b[38;5;66;03m# 정석\u001b[39;00m\n\u001b[0;32m      2\u001b[0m a2\n",
      "\u001b[1;31mValueError\u001b[0m: could not broadcast input array from shape (4,) into shape (3,)"
     ]
    }
   ],
   "source": [
    "a2[0] = np.array([4, 5, 6, 7]) # 에러 확인, 이유 생각\n",
    "a2"
   ]
  },
  {
   "cell_type": "markdown",
   "id": "45685a11-9f42-4365-8e04-64aa80bb3339",
   "metadata": {},
   "source": [
    "- 2차원 배열의 행과 열 위치 지정해서 원소 추출\n",
    "  + (행의 위치1, 열의 위치1) / 행의 위치 2, 열의 위치2)"
   ]
  },
  {
   "cell_type": "code",
   "execution_count": 65,
   "id": "6fec40c8-697c-477c-9530-feb253f88133",
   "metadata": {},
   "outputs": [
    {
     "data": {
      "text/plain": [
       "array([[ 4,  5,  6],\n",
       "       [40, 50, 60],\n",
       "       [70, 80, 95]])"
      ]
     },
     "execution_count": 65,
     "metadata": {},
     "output_type": "execute_result"
    }
   ],
   "source": [
    "a2"
   ]
  },
  {
   "cell_type": "code",
   "execution_count": 75,
   "id": "66019717-092e-424f-9bfd-797b158fb17a",
   "metadata": {},
   "outputs": [
    {
     "data": {
      "text/plain": [
       "array([ 5, 80])"
      ]
     },
     "execution_count": 75,
     "metadata": {},
     "output_type": "execute_result"
    }
   ],
   "source": [
    "a2[[0, 2], [1, 1]]"
   ]
  },
  {
   "cell_type": "code",
   "execution_count": 74,
   "id": "fc5f610c-1dae-4fc1-8163-ae07362535b9",
   "metadata": {},
   "outputs": [
    {
     "data": {
      "text/plain": [
       "(4, 80)"
      ]
     },
     "execution_count": 74,
     "metadata": {},
     "output_type": "execute_result"
    }
   ],
   "source": [
    "a2[0, 0], a2[2, 1]"
   ]
  },
  {
   "cell_type": "markdown",
   "id": "9ea329ba-0dda-40f5-850f-b6fea2ed94fc",
   "metadata": {},
   "source": [
    "## 배열 조건문\n",
    "- pandas 문법과 유사하다"
   ]
  },
  {
   "cell_type": "code",
   "execution_count": 80,
   "id": "ccc81057-ed4f-47cc-833b-30941620da99",
   "metadata": {},
   "outputs": [
    {
     "data": {
      "text/plain": [
       "array([1, 2, 3, 4, 5, 6])"
      ]
     },
     "execution_count": 80,
     "metadata": {},
     "output_type": "execute_result"
    }
   ],
   "source": [
    "a = np.array([1, 2, 3, 4, 5, 6])\n",
    "a"
   ]
  },
  {
   "cell_type": "code",
   "execution_count": 82,
   "id": "79df0539-70c1-4ec9-868e-9803f509aa29",
   "metadata": {},
   "outputs": [
    {
     "data": {
      "text/plain": [
       "[array([False, False, False,  True,  True,  True])]"
      ]
     },
     "execution_count": 82,
     "metadata": {},
     "output_type": "execute_result"
    }
   ],
   "source": [
    "[a>3]"
   ]
  },
  {
   "cell_type": "code",
   "execution_count": 83,
   "id": "35fd9d21-dad8-45a9-a792-9f3258ac87ef",
   "metadata": {},
   "outputs": [
    {
     "data": {
      "text/plain": [
       "array([4, 5, 6])"
      ]
     },
     "execution_count": 83,
     "metadata": {},
     "output_type": "execute_result"
    }
   ],
   "source": [
    "a[a>3]"
   ]
  },
  {
   "cell_type": "code",
   "execution_count": 84,
   "id": "d0b8cc00-9902-48bc-9c9d-99f1b038eb83",
   "metadata": {},
   "outputs": [
    {
     "data": {
      "text/plain": [
       "array([False,  True, False,  True, False,  True])"
      ]
     },
     "execution_count": 84,
     "metadata": {},
     "output_type": "execute_result"
    }
   ],
   "source": [
    "a % 2 == 0 # 실무에서는 이런 코드를 작성하는 것이 핵심!!! "
   ]
  }
 ],
 "metadata": {
  "kernelspec": {
   "display_name": "Python 3 (ipykernel)",
   "language": "python",
   "name": "python3"
  },
  "language_info": {
   "codemirror_mode": {
    "name": "ipython",
    "version": 3
   },
   "file_extension": ".py",
   "mimetype": "text/x-python",
   "name": "python",
   "nbconvert_exporter": "python",
   "pygments_lexer": "ipython3",
   "version": "3.10.11"
  }
 },
 "nbformat": 4,
 "nbformat_minor": 5
}
