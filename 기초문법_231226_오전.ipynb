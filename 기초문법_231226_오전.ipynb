{
 "cells": [
  {
   "cell_type": "markdown",
   "metadata": {
    "id": "v3SKbd8j9FnE"
   },
   "source": [
    "# Section 1\n",
    "- 멀티캠퍼스 첫 수업\n"
   ]
  },
  {
   "cell_type": "markdown",
   "metadata": {
    "id": "GI7TKKWr-SAc"
   },
   "source": [
    "## Chapter 1. 구글 코랩 수업\n",
    "- ₩₩12₩12"
   ]
  },
  {
   "cell_type": "code",
   "execution_count": null,
   "metadata": {
    "id": "xNBX-dww-bSE"
   },
   "outputs": [],
   "source": [
    "a = 1\n",
    "b = 2"
   ]
  },
  {
   "cell_type": "markdown",
   "metadata": {
    "id": "fELC3Q3l-gO4"
   },
   "source": [
    "# Section 2\n",
    "- 아무 말\n"
   ]
  },
  {
   "cell_type": "code",
   "execution_count": null,
   "metadata": {
    "colab": {
     "base_uri": "https://localhost:8080/"
    },
    "id": "nyNkUPQ5-nfZ",
    "outputId": "810655f4-0805-462f-c0d9-c2dfbd07424c"
   },
   "outputs": [
    {
     "data": {
      "text/plain": [
       "True"
      ]
     },
     "execution_count": 3,
     "metadata": {},
     "output_type": "execute_result"
    }
   ],
   "source": [
    "1 == 1"
   ]
  },
  {
   "cell_type": "markdown",
   "metadata": {
    "id": "-W7idoY2-tXg"
   },
   "source": [
    "## Chapter 2."
   ]
  },
  {
   "cell_type": "code",
   "execution_count": null,
   "metadata": {
    "id": "u-ZasRWG_Vk7"
   },
   "outputs": [],
   "source": [
    "1"
   ]
  },
  {
   "cell_type": "markdown",
   "metadata": {
    "id": "fSd8LCJe_QCt"
   },
   "source": [
    "# Section 3 ~"
   ]
  },
  {
   "cell_type": "markdown",
   "metadata": {
    "id": "7x-oQ8SN_WHr"
   },
   "source": [
    "## Chapter 3. 아무 말\n"
   ]
  },
  {
   "cell_type": "markdown",
   "metadata": {
    "id": "CkbnU2eP_j7P"
   },
   "source": [
    "(1) 이건 1번"
   ]
  },
  {
   "cell_type": "code",
   "execution_count": null,
   "metadata": {
    "colab": {
     "base_uri": "https://localhost:8080/"
    },
    "id": "zBgk-GCV_bmY",
    "outputId": "19e5fa5b-eb30-4672-8e2d-c1d141166acb"
   },
   "outputs": [
    {
     "data": {
      "text/plain": [
       "2"
      ]
     },
     "execution_count": 6,
     "metadata": {},
     "output_type": "execute_result"
    }
   ],
   "source": [
    "1+1"
   ]
  }
 ],
 "metadata": {
  "colab": {
   "provenance": [],
   "toc_visible": true
  },
  "kernelspec": {
   "display_name": "Python 3 (ipykernel)",
   "language": "python",
   "name": "python3"
  },
  "language_info": {
   "codemirror_mode": {
    "name": "ipython",
    "version": 3
   },
   "file_extension": ".py",
   "mimetype": "text/x-python",
   "name": "python",
   "nbconvert_exporter": "python",
   "pygments_lexer": "ipython3",
   "version": "3.11.5"
  }
 },
 "nbformat": 4,
 "nbformat_minor": 4
}
