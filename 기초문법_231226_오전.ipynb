{
  "nbformat": 4,
  "nbformat_minor": 0,
  "metadata": {
    "colab": {
      "provenance": [],
      "toc_visible": true
    },
    "kernelspec": {
      "name": "python3",
      "display_name": "Python 3"
    },
    "language_info": {
      "name": "python"
    }
  },
  "cells": [
    {
      "cell_type": "markdown",
      "source": [
        "# Section 1\n",
        "- 멀티캠퍼스 첫 수업\n"
      ],
      "metadata": {
        "id": "v3SKbd8j9FnE"
      }
    },
    {
      "cell_type": "markdown",
      "source": [
        "## Chapter 1. 구글 코랩 수업\n",
        "- ₩₩12₩12"
      ],
      "metadata": {
        "id": "GI7TKKWr-SAc"
      }
    },
    {
      "cell_type": "code",
      "source": [
        "a = 1\n",
        "b = 2"
      ],
      "metadata": {
        "id": "xNBX-dww-bSE"
      },
      "execution_count": null,
      "outputs": []
    },
    {
      "cell_type": "markdown",
      "source": [
        "# Section 2\n",
        "- 아무 말\n"
      ],
      "metadata": {
        "id": "fELC3Q3l-gO4"
      }
    },
    {
      "cell_type": "code",
      "source": [
        "1 == 1"
      ],
      "metadata": {
        "colab": {
          "base_uri": "https://localhost:8080/"
        },
        "id": "nyNkUPQ5-nfZ",
        "outputId": "810655f4-0805-462f-c0d9-c2dfbd07424c"
      },
      "execution_count": null,
      "outputs": [
        {
          "output_type": "execute_result",
          "data": {
            "text/plain": [
              "True"
            ]
          },
          "metadata": {},
          "execution_count": 3
        }
      ]
    },
    {
      "cell_type": "markdown",
      "source": [
        "## Chapter 2."
      ],
      "metadata": {
        "id": "-W7idoY2-tXg"
      }
    },
    {
      "cell_type": "code",
      "source": [
        "1"
      ],
      "metadata": {
        "id": "u-ZasRWG_Vk7"
      },
      "execution_count": null,
      "outputs": []
    },
    {
      "cell_type": "markdown",
      "source": [
        "# Section 3 ~"
      ],
      "metadata": {
        "id": "fSd8LCJe_QCt"
      }
    },
    {
      "cell_type": "markdown",
      "source": [
        "## Chapter 3. 아무 말\n"
      ],
      "metadata": {
        "id": "7x-oQ8SN_WHr"
      }
    },
    {
      "cell_type": "markdown",
      "source": [
        "(1) 이건 1번"
      ],
      "metadata": {
        "id": "CkbnU2eP_j7P"
      }
    },
    {
      "cell_type": "code",
      "source": [
        "1+1"
      ],
      "metadata": {
        "colab": {
          "base_uri": "https://localhost:8080/"
        },
        "id": "zBgk-GCV_bmY",
        "outputId": "19e5fa5b-eb30-4672-8e2d-c1d141166acb"
      },
      "execution_count": null,
      "outputs": [
        {
          "output_type": "execute_result",
          "data": {
            "text/plain": [
              "2"
            ]
          },
          "metadata": {},
          "execution_count": 6
        }
      ]
    }
  ]
}