{
 "cells": [
  {
   "cell_type": "markdown",
   "metadata": {
    "id": "KY90EySdohsW"
   },
   "source": [
    "# Chapter 3. 파이썬을 계산기처럼\n",
    "## 사칙연산"
   ]
  },
  {
   "cell_type": "code",
   "execution_count": null,
   "metadata": {
    "colab": {
     "base_uri": "https://localhost:8080/"
    },
    "id": "9pNdcs-Qolhs",
    "outputId": "96f9258e-14a9-44ba-da15-f7c051d66d16"
   },
   "outputs": [
    {
     "data": {
      "text/plain": [
       "2"
      ]
     },
     "execution_count": 110,
     "metadata": {},
     "output_type": "execute_result"
    }
   ],
   "source": [
    "1+1 # 정수"
   ]
  },
  {
   "cell_type": "code",
   "execution_count": null,
   "metadata": {
    "colab": {
     "base_uri": "https://localhost:8080/"
    },
    "id": "tESRSPKurVtH",
    "outputId": "c47028f5-2bf2-4c4a-c42a-86e3b9f85e6f"
   },
   "outputs": [
    {
     "data": {
      "text/plain": [
       "3"
      ]
     },
     "execution_count": 111,
     "metadata": {},
     "output_type": "execute_result"
    }
   ],
   "source": [
    "5-2 # 졍수 연산 결과값은 정수로 반환"
   ]
  },
  {
   "cell_type": "code",
   "execution_count": null,
   "metadata": {
    "colab": {
     "base_uri": "https://localhost:8080/"
    },
    "id": "qAfMuy3rrYmo",
    "outputId": "98702d4f-1ee1-4deb-bfaa-6c98fd0df589"
   },
   "outputs": [
    {
     "data": {
      "text/plain": [
       "3"
      ]
     },
     "execution_count": 112,
     "metadata": {},
     "output_type": "execute_result"
    }
   ],
   "source": [
    "5 -2"
   ]
  },
  {
   "cell_type": "code",
   "execution_count": null,
   "metadata": {
    "colab": {
     "base_uri": "https://localhost:8080/"
    },
    "id": "O-lnmSldrdG0",
    "outputId": "e26ef252-c0f8-4558-dd9b-e9ba73234f8b"
   },
   "outputs": [
    {
     "data": {
      "text/plain": [
       "30"
      ]
     },
     "execution_count": 113,
     "metadata": {},
     "output_type": "execute_result"
    }
   ],
   "source": [
    "15*2"
   ]
  },
  {
   "cell_type": "code",
   "execution_count": null,
   "metadata": {
    "colab": {
     "base_uri": "https://localhost:8080/"
    },
    "id": "B_bDp9UpriyJ",
    "outputId": "f47456a6-3775-4614-e3f3-8ac147acfe2b"
   },
   "outputs": [
    {
     "data": {
      "text/plain": [
       "5.0"
      ]
     },
     "execution_count": 114,
     "metadata": {},
     "output_type": "execute_result"
    }
   ],
   "source": [
    "# 나눗셈\n",
    "# Python 3.x 버전은 실수로 처리\n",
    "# Python 2.x 버전은 정수로 처리\n",
    "10/2 # 정수 / 정수 ===> 반환값은 실수형으로 반환"
   ]
  },
  {
   "cell_type": "markdown",
   "metadata": {
    "id": "N2JvbH0LsP2-"
   },
   "source": [
    "- 실수 연산\n",
    "- 웹개발, IDE 환경에서 코드 작성 시 print() 필수."
   ]
  },
  {
   "cell_type": "code",
   "execution_count": null,
   "metadata": {
    "colab": {
     "base_uri": "https://localhost:8080/"
    },
    "id": "vb2zZ9L3sRxQ",
    "outputId": "63b2c504-2315-4d29-8e24-159a13678926"
   },
   "outputs": [
    {
     "name": "stdout",
     "output_type": "stream",
     "text": [
      "6.4\n",
      "-1.1\n",
      "14.489999999999998\n",
      "3.0\n"
     ]
    }
   ],
   "source": [
    "print(1.2 + 5.2) # 덧셈\n",
    "print(2.3 - 3.4) # 뺄셈\n",
    "print(6.3 * 2.3) # 곱셈\n",
    "print(3.0 / 1.0) # 나눗셈"
   ]
  },
  {
   "cell_type": "markdown",
   "metadata": {
    "id": "ZUHIXKqetZRJ"
   },
   "source": [
    "### 연산규칙\n",
    "- (1) 괄호 안 계산\n",
    "- (2) 지수 계산\n",
    "- (3) 곱셈과 나눗셈 계산\n",
    "- (4) 덧셈과 뺄셈 계산\n",
    "- (5) 같은 순위 연산이면, 왼쪽에서 오른쪽으로\n",
    "- (6) 중복된 괄호가 있을 경우, 안쪽에서부터 처리"
   ]
  },
  {
   "cell_type": "code",
   "execution_count": null,
   "metadata": {
    "colab": {
     "base_uri": "https://localhost:8080/"
    },
    "id": "oD63kp_utkGZ",
    "outputId": "3a6dfb27-be58-4c68-8a35-124cb6ec1a09"
   },
   "outputs": [
    {
     "name": "stdout",
     "output_type": "stream",
     "text": [
      "14\n"
     ]
    }
   ],
   "source": [
    "print(2 + 3 * 4)"
   ]
  },
  {
   "cell_type": "code",
   "execution_count": null,
   "metadata": {
    "colab": {
     "base_uri": "https://localhost:8080/"
    },
    "id": "OJ5CuVblt5oK",
    "outputId": "ae0dfee5-2042-4c5a-f0b0-e07e86fd04cd"
   },
   "outputs": [
    {
     "data": {
      "text/plain": [
       "3.5"
      ]
     },
     "execution_count": 117,
     "metadata": {},
     "output_type": "execute_result"
    }
   ],
   "source": [
    "3 / 2 * 4 - 5 / 2"
   ]
  },
  {
   "cell_type": "code",
   "execution_count": null,
   "metadata": {
    "colab": {
     "base_uri": "https://localhost:8080/"
    },
    "id": "WSgaAtg1uDHn",
    "outputId": "8d41f449-b2ac-43bf-f48a-f5894b616ed3"
   },
   "outputs": [
    {
     "data": {
      "text/plain": [
       "11"
      ]
     },
     "execution_count": 118,
     "metadata": {},
     "output_type": "execute_result"
    }
   ],
   "source": [
    "(5 * 4 - 15) + ((5 - 2) * (9 - 7)) #"
   ]
  },
  {
   "cell_type": "markdown",
   "metadata": {
    "id": "ojCTUlDJuvLU"
   },
   "source": [
    "## type()\n",
    "- 함수 : 특정 기능을 수행하도록 만든 매직박스\n",
    " + 특정 함수를 조건만 맞추주면 동작\n",
    " +"
   ]
  },
  {
   "cell_type": "markdown",
   "metadata": {
    "id": "yoUxErYQzvZ6"
   },
   "source": [
    "함수의 종류\n",
    "- 내장(built-in)함수 : 파이썬 설치와 함께 제공하는 기본적인 함수\n",
    " + print(), type()\n",
    " + 종류가 몇개인가요? (몰라요!)\n",
    " + Documentation : 함수를 설명해주는 문서 보는 법 익힐 것 (영어)\n",
    "\n",
    " - 라이브러리에서 제공하는 함수\n",
    "  + R : 패키지, Python : 라이브러리\n",
    "  + 목적이 분명.\n",
    "   - 웹사이트 개발 : 웹사이트와 관련된 라이브러리\n",
    "   - 통계분석 : 통계분석과 관련된 라이브러리 설치\n",
    "   - 시각화 : 시각화와 관련된 라이브러리 설치\n",
    "   - 게임개발 : 게임개발과 관련된 라이브러리 설치\n",
    "   - 수치연산 주요 라이브러리 : numpy, scipy\n"
   ]
  },
  {
   "cell_type": "code",
   "execution_count": null,
   "metadata": {
    "colab": {
     "base_uri": "https://localhost:8080/"
    },
    "id": "isvPxIubu2iY",
    "outputId": "ccc66855-7332-41ef-96ff-59485756bf4e"
   },
   "outputs": [
    {
     "name": "stdout",
     "output_type": "stream",
     "text": [
      "<class 'int'>\n"
     ]
    }
   ],
   "source": [
    "# 파이썬에서는 정수를 어떻게 표현할까?\n",
    "# 파이썬에서는 실수를 어떻게 표현할까?\n",
    "print(type(3))"
   ]
  },
  {
   "cell_type": "code",
   "execution_count": null,
   "metadata": {
    "colab": {
     "base_uri": "https://localhost:8080/"
    },
    "id": "clHXiUVFu4YH",
    "outputId": "e5327248-17bf-42a6-8298-b92c3b5aa1ec"
   },
   "outputs": [
    {
     "name": "stdout",
     "output_type": "stream",
     "text": [
      "<class 'float'>\n"
     ]
    }
   ],
   "source": [
    "print(type(3.5))"
   ]
  },
  {
   "cell_type": "markdown",
   "metadata": {
    "id": "_Pwn99Vj1z83"
   },
   "source": [
    "- 파이썬은 객체지향 언어임."
   ]
  },
  {
   "cell_type": "markdown",
   "metadata": {
    "id": "Ezf6yW2V2CEv"
   },
   "source": [
    "## 거듭 제곱과 나머지\n",
    "- 숫자 A를 n번 곱하는 거듭제곱(Power)\n",
    " + A는 밑, n은 지수라고 표현"
   ]
  },
  {
   "cell_type": "code",
   "execution_count": null,
   "metadata": {
    "colab": {
     "base_uri": "https://localhost:8080/"
    },
    "id": "nOMi2VRQzRbc",
    "outputId": "609437a3-1de2-4b19-940d-aab8c193e00b"
   },
   "outputs": [
    {
     "data": {
      "text/plain": [
       "32"
      ]
     },
     "execution_count": 121,
     "metadata": {},
     "output_type": "execute_result"
    }
   ],
   "source": [
    "2 * 2 * 2 * 2 * 2"
   ]
  },
  {
   "cell_type": "code",
   "execution_count": null,
   "metadata": {
    "colab": {
     "base_uri": "https://localhost:8080/"
    },
    "id": "5aK0glg72YvO",
    "outputId": "e3bb1b9d-15cd-4aca-f201-e475a5ddca0d"
   },
   "outputs": [
    {
     "data": {
      "text/plain": [
       "32"
      ]
     },
     "execution_count": 122,
     "metadata": {},
     "output_type": "execute_result"
    }
   ],
   "source": [
    "2 ** 5 # 거듭제곱"
   ]
  },
  {
   "cell_type": "markdown",
   "metadata": {
    "id": "5aJwgXpC2vZG"
   },
   "source": [
    "- 나머지 구하는 방법"
   ]
  },
  {
   "cell_type": "code",
   "execution_count": null,
   "metadata": {
    "colab": {
     "base_uri": "https://localhost:8080/"
    },
    "id": "X91KnA4j2zhM",
    "outputId": "1553e829-8c7f-471e-d4a2-3ae053442ef4"
   },
   "outputs": [
    {
     "data": {
      "text/plain": [
       "3"
      ]
     },
     "execution_count": 123,
     "metadata": {},
     "output_type": "execute_result"
    }
   ],
   "source": [
    "13 % 5 # 나머지"
   ]
  },
  {
   "cell_type": "code",
   "execution_count": null,
   "metadata": {
    "colab": {
     "base_uri": "https://localhost:8080/"
    },
    "id": "GniZutXb23I5",
    "outputId": "f6a619d3-e97c-4975-a9f6-4afc0fa07cea"
   },
   "outputs": [
    {
     "data": {
      "text/plain": [
       "2"
      ]
     },
     "execution_count": 124,
     "metadata": {},
     "output_type": "execute_result"
    }
   ],
   "source": [
    "# 몫을 구하는 방법\n",
    "13 // 5"
   ]
  },
  {
   "cell_type": "markdown",
   "metadata": {
    "id": "CivcazYe3Hn1"
   },
   "source": [
    "- 교재 표 3-1(p34), 산술연산자 표 정리"
   ]
  },
  {
   "cell_type": "markdown",
   "metadata": {
    "id": "uIoVqsUr3fKn"
   },
   "source": [
    "## 과학적 표기법\n",
    "- 아주 큰 수, 작은 수를 다뤄야하는 케이스\n",
    " + 빛은 초당 30만 km\n",
    " + 단위를 m/s 표현하면, 300,000,000m/s\n",
    " + 3x10^8 >> 과학적 표기법"
   ]
  },
  {
   "cell_type": "code",
   "execution_count": null,
   "metadata": {
    "colab": {
     "base_uri": "https://localhost:8080/"
    },
    "id": "IFQXEhhv4N8b",
    "outputId": "18379b18-2e06-4566-93f5-3890342fcaa7"
   },
   "outputs": [
    {
     "data": {
      "text/plain": [
       "300000000"
      ]
     },
     "execution_count": 125,
     "metadata": {},
     "output_type": "execute_result"
    }
   ],
   "source": [
    "3*10**8"
   ]
  },
  {
   "cell_type": "code",
   "execution_count": null,
   "metadata": {
    "colab": {
     "base_uri": "https://localhost:8080/"
    },
    "id": "XxlrkFvi4PpF",
    "outputId": "f655d5cd-716a-494b-eb46-eecd7f746e6c"
   },
   "outputs": [
    {
     "data": {
      "text/plain": [
       "300000000.0"
      ]
     },
     "execution_count": 126,
     "metadata": {},
     "output_type": "execute_result"
    }
   ],
   "source": [
    "3e8\n",
    "# P-Value 값을 구할 때 등 많이 사용됨."
   ]
  },
  {
   "cell_type": "code",
   "execution_count": null,
   "metadata": {
    "colab": {
     "base_uri": "https://localhost:8080/"
    },
    "id": "neYmBN1_4jAt",
    "outputId": "00b96ddd-5057-4432-83bc-84f1bc259553"
   },
   "outputs": [
    {
     "data": {
      "text/plain": [
       "0.0003"
      ]
     },
     "execution_count": 127,
     "metadata": {},
     "output_type": "execute_result"
    }
   ],
   "source": [
    "3e-4"
   ]
  },
  {
   "cell_type": "code",
   "execution_count": null,
   "metadata": {
    "colab": {
     "base_uri": "https://localhost:8080/"
    },
    "id": "Ts4Cvrdr4quv",
    "outputId": "c45b07c1-7b34-495c-8492-2347ef66e98c"
   },
   "outputs": [
    {
     "data": {
      "text/plain": [
       "0.0001"
      ]
     },
     "execution_count": 128,
     "metadata": {},
     "output_type": "execute_result"
    }
   ],
   "source": [
    "1e-4"
   ]
  },
  {
   "cell_type": "markdown",
   "metadata": {
    "id": "8FSUUMBi4kMk"
   },
   "source": [
    "## 진수 표현과 변환\n",
    "- 우리 일상생활에서는 10진법\n",
    "- 60진법: 60초가 1분, 60분이 1시간\n",
    "- 12진법: 오전 12시간, 오후 12시간, 1년 12달\n",
    "- 컴퓨터 프로그래밍, 숫자 0과 1로 이루어진 2진법 수행\n",
    "- 8진법 : 0~7까지의 숫자\n",
    "- 16진법 : 0~9, a,b,c,d,e,f\n",
    "-  메서드\n",
    "  + bin() : 10진수 > 2진수\n",
    "  + oct() : 10진수 > 8진수\n",
    "  + hex() : 10진수 > 16진수"
   ]
  },
  {
   "cell_type": "code",
   "execution_count": null,
   "metadata": {
    "colab": {
     "base_uri": "https://localhost:8080/"
    },
    "id": "-3HZLMFT6WLK",
    "outputId": "c14bf96a-d968-4781-fe92-4595f9bf1f7a"
   },
   "outputs": [
    {
     "data": {
      "text/plain": [
       "17"
      ]
     },
     "execution_count": 129,
     "metadata": {},
     "output_type": "execute_result"
    }
   ],
   "source": [
    "17 # 10진법"
   ]
  },
  {
   "cell_type": "code",
   "execution_count": null,
   "metadata": {
    "colab": {
     "base_uri": "https://localhost:8080/"
    },
    "id": "pQJnm98C6Xtx",
    "outputId": "8eeb109b-f750-4d05-d9f0-4142a4b17f1d"
   },
   "outputs": [
    {
     "data": {
      "text/plain": [
       "17"
      ]
     },
     "execution_count": 130,
     "metadata": {},
     "output_type": "execute_result"
    }
   ],
   "source": [
    "0b10001 #2진법"
   ]
  },
  {
   "cell_type": "code",
   "execution_count": null,
   "metadata": {
    "colab": {
     "base_uri": "https://localhost:8080/"
    },
    "id": "J9PVKB2u6YPU",
    "outputId": "e53110be-c15a-43ae-c657-1ae2cbd49150"
   },
   "outputs": [
    {
     "data": {
      "text/plain": [
       "17"
      ]
     },
     "execution_count": 131,
     "metadata": {},
     "output_type": "execute_result"
    }
   ],
   "source": [
    "0o21 # 8진법"
   ]
  },
  {
   "cell_type": "code",
   "execution_count": null,
   "metadata": {
    "colab": {
     "base_uri": "https://localhost:8080/"
    },
    "id": "kyPsuj4G6auR",
    "outputId": "ca269285-6a1f-48f3-9107-c383d4918dc0"
   },
   "outputs": [
    {
     "data": {
      "text/plain": [
       "17"
      ]
     },
     "execution_count": 132,
     "metadata": {},
     "output_type": "execute_result"
    }
   ],
   "source": [
    "0x11 # 16진법"
   ]
  },
  {
   "cell_type": "markdown",
   "metadata": {
    "id": "ClvFe3ro7HON"
   },
   "source": [
    "## 논리 연산 및 비교 연산\n",
    "- 참/거짓\n",
    "- 논리 연산을 잘 활용하는 것이 프로그래밍의 핵심\n"
   ]
  },
  {
   "cell_type": "code",
   "execution_count": null,
   "metadata": {
    "colab": {
     "base_uri": "https://localhost:8080/"
    },
    "id": "sjtmJABd76En",
    "outputId": "ad5b00a0-5680-4dbd-8610-7c9b27932cd6"
   },
   "outputs": [
    {
     "name": "stdout",
     "output_type": "stream",
     "text": [
      "True\n"
     ]
    }
   ],
   "source": [
    "print(True)"
   ]
  },
  {
   "cell_type": "code",
   "execution_count": null,
   "metadata": {
    "colab": {
     "base_uri": "https://localhost:8080/"
    },
    "id": "Gaht5Scr765g",
    "outputId": "cf9b5b72-0c96-4882-ac9e-5f821856d280"
   },
   "outputs": [
    {
     "name": "stdout",
     "output_type": "stream",
     "text": [
      "False\n"
     ]
    }
   ],
   "source": [
    "print(False)"
   ]
  },
  {
   "cell_type": "code",
   "execution_count": null,
   "metadata": {
    "colab": {
     "base_uri": "https://localhost:8080/"
    },
    "id": "bb4_5e4k7-Rt",
    "outputId": "d4e1e5bc-3970-43db-e635-417a7146f25b"
   },
   "outputs": [
    {
     "name": "stdout",
     "output_type": "stream",
     "text": [
      "<class 'bool'>\n"
     ]
    }
   ],
   "source": [
    "print(type(True))"
   ]
  },
  {
   "cell_type": "markdown",
   "metadata": {
    "id": "yhDTnmu27_J1"
   },
   "source": [
    "### 논리 연산자\n",
    "- and : A and B - A와 B 모두 참일 때 참\n",
    "- or : A or B - A와 B 중에서 하나라도 참이면 참\n",
    "- not : not A - A가 참일 때 거짓, A가 거짓이면 참"
   ]
  },
  {
   "cell_type": "code",
   "execution_count": null,
   "metadata": {
    "colab": {
     "base_uri": "https://localhost:8080/"
    },
    "id": "h_u47oYuBSL0",
    "outputId": "3cf88ad5-cbaa-4a86-8614-c8997372d9a9"
   },
   "outputs": [
    {
     "name": "stdout",
     "output_type": "stream",
     "text": [
      "True\n",
      "False\n",
      "False\n",
      "False\n"
     ]
    }
   ],
   "source": [
    "# 교집합\n",
    "# True 또는 False 결과가 나오도록 조건식을 만들어야 함\n",
    "print(True and True)\n",
    "print(True and False)\n",
    "print(False and True)\n",
    "print(False and False)"
   ]
  },
  {
   "cell_type": "code",
   "execution_count": null,
   "metadata": {
    "colab": {
     "base_uri": "https://localhost:8080/"
    },
    "id": "MwrkWBOYBmrj",
    "outputId": "1a75b460-87d2-48e3-882a-637fe1394b33"
   },
   "outputs": [
    {
     "name": "stdout",
     "output_type": "stream",
     "text": [
      "True\n",
      "True\n",
      "True\n",
      "False\n"
     ]
    }
   ],
   "source": [
    "# 합집합\n",
    "print(True or True)\n",
    "print(True or False)\n",
    "print(False or True)\n",
    "print(False or False)"
   ]
  },
  {
   "cell_type": "code",
   "execution_count": null,
   "metadata": {
    "colab": {
     "base_uri": "https://localhost:8080/"
    },
    "id": "oCfn_W4sB9bn",
    "outputId": "3f54f59b-d28a-4720-a45e-9493d9525e5b"
   },
   "outputs": [
    {
     "name": "stdout",
     "output_type": "stream",
     "text": [
      "False\n",
      "True\n"
     ]
    }
   ],
   "source": [
    "# 합집합\n",
    "print(not True)\n",
    "print(not False)"
   ]
  },
  {
   "cell_type": "markdown",
   "metadata": {
    "id": "ejZHPYxNCSNC"
   },
   "source": [
    "### 비교연산자"
   ]
  },
  {
   "cell_type": "code",
   "execution_count": null,
   "metadata": {
    "colab": {
     "base_uri": "https://localhost:8080/"
    },
    "id": "w0BkvH0OCfqE",
    "outputId": "61b3b867-9794-4e28-c728-640ad884c9db"
   },
   "outputs": [
    {
     "data": {
      "text/plain": [
       "False"
      ]
     },
     "execution_count": 139,
     "metadata": {},
     "output_type": "execute_result"
    }
   ],
   "source": [
    "# True 또는 False 결과가 나오도록 \"의도적\"으로 조건식을 만들어야 함\n",
    "1 == 2 # a와 b는 같다."
   ]
  },
  {
   "cell_type": "code",
   "execution_count": null,
   "metadata": {
    "colab": {
     "base_uri": "https://localhost:8080/"
    },
    "id": "mLotPieLDE7L",
    "outputId": "4ce6c6cc-245e-431f-fac4-9cab22bbf1d5"
   },
   "outputs": [
    {
     "data": {
      "text/plain": [
       "True"
      ]
     },
     "execution_count": 140,
     "metadata": {},
     "output_type": "execute_result"
    }
   ],
   "source": [
    "1 != 2 # a와 b는 같지 않다."
   ]
  },
  {
   "cell_type": "code",
   "execution_count": null,
   "metadata": {
    "colab": {
     "base_uri": "https://localhost:8080/"
    },
    "id": "E1ZmwkPuDRzX",
    "outputId": "161d5cd1-d436-4677-816c-fd07fda2242b"
   },
   "outputs": [
    {
     "data": {
      "text/plain": [
       "True"
      ]
     },
     "execution_count": 141,
     "metadata": {},
     "output_type": "execute_result"
    }
   ],
   "source": [
    "1 <= 2 # a는 b보다 작거나 같다."
   ]
  },
  {
   "cell_type": "code",
   "execution_count": null,
   "metadata": {
    "colab": {
     "base_uri": "https://localhost:8080/"
    },
    "id": "dcVhP1CVDVGu",
    "outputId": "b561e7e8-0a5e-477e-cc14-2e01755efe24"
   },
   "outputs": [
    {
     "data": {
      "text/plain": [
       "True"
      ]
     },
     "execution_count": 142,
     "metadata": {},
     "output_type": "execute_result"
    }
   ],
   "source": [
    "1 < 2 # a가 b보다 작다."
   ]
  },
  {
   "cell_type": "code",
   "execution_count": null,
   "metadata": {
    "colab": {
     "base_uri": "https://localhost:8080/"
    },
    "id": "lK1NiYVLDanw",
    "outputId": "a77a138c-abbb-4232-bd9d-6ee0999ff1a3"
   },
   "outputs": [
    {
     "data": {
      "text/plain": [
       "False"
      ]
     },
     "execution_count": 143,
     "metadata": {},
     "output_type": "execute_result"
    }
   ],
   "source": [
    "1 >= 2 # a가 b보다 크거나 같다."
   ]
  },
  {
   "cell_type": "code",
   "execution_count": null,
   "metadata": {
    "colab": {
     "base_uri": "https://localhost:8080/"
    },
    "id": "NraVC6B9DfgA",
    "outputId": "5b82e47d-3260-429e-f44b-2be8474045ed"
   },
   "outputs": [
    {
     "data": {
      "text/plain": [
       "False"
      ]
     },
     "execution_count": 144,
     "metadata": {},
     "output_type": "execute_result"
    }
   ],
   "source": [
    "1 > 2 # a가 b보다 크다."
   ]
  },
  {
   "cell_type": "markdown",
   "metadata": {
    "id": "Jh0E1xwuD34o"
   },
   "source": [
    "### 비교연산자 + 논리연산자"
   ]
  },
  {
   "cell_type": "code",
   "execution_count": null,
   "metadata": {
    "colab": {
     "base_uri": "https://localhost:8080/"
    },
    "id": "Uprr06sJEBCF",
    "outputId": "e5f52aa1-6e58-4068-b8a1-559f8611063c"
   },
   "outputs": [
    {
     "data": {
      "text/plain": [
       "True"
      ]
     },
     "execution_count": 145,
     "metadata": {},
     "output_type": "execute_result"
    }
   ],
   "source": [
    "1 > 0 and -2 < 0 # 비교연산자(1순위) 논리연산자(2순위)"
   ]
  },
  {
   "cell_type": "code",
   "execution_count": null,
   "metadata": {
    "colab": {
     "base_uri": "https://localhost:8080/"
    },
    "id": "jBLZfMnbEkQA",
    "outputId": "0ad01893-93b0-4947-8af0-9d7b387456e2"
   },
   "outputs": [
    {
     "data": {
      "text/plain": [
       "False"
      ]
     },
     "execution_count": 146,
     "metadata": {},
     "output_type": "execute_result"
    }
   ],
   "source": [
    "# 괄호안이 먼저 연산\n",
    "((3 < 0) and (-5 > 0) and (1 > 5))"
   ]
  },
  {
   "cell_type": "markdown",
   "metadata": {
    "id": "P2x8ntwlfHEN"
   },
   "source": [
    "\n",
    "- 이번주 8교시 (수업 안함)\n",
    "- 소회의실 운영 체험\n",
    "- 각 팀에서 자기소개, 배운 내용 서로 복습\n",
    "- Repo 1 : 학습 / 교육 - Mulcap-lectures\n",
    " + pandas, 시각화, django\n",
    "- Repo 2 : 멀캠 세미 프로젝트 Projects 관련\n",
    "- Repo 3 : 00 공모전\n",
    "\n",
    "- Option() : 자기소개 Repo\n",
    " + 링크 추가 (Repo1)\n",
    "\n",
    "- 전공자 : 여러가지 프로젝트 있는 경우에는, 사전에 정리\n",
    "+ 1월 3~4일 이후, 개별 면담 진행"
   ]
  },
  {
   "cell_type": "markdown",
   "metadata": {
    "id": "Kkpcr3--om5M"
   },
   "source": [
    "Chapter 4. 변수와 자료형"
   ]
  },
  {
   "cell_type": "markdown",
   "metadata": {
    "id": "qOWGpXqJfLdj"
   },
   "source": [
    "# Chapter 4. 변수와 자료형"
   ]
  },
  {
   "cell_type": "markdown",
   "metadata": {
    "id": "9FBNciPDIbaq"
   },
   "source": [
    "## 변수 (p.42)"
   ]
  },
  {
   "cell_type": "code",
   "execution_count": null,
   "metadata": {
    "id": "M5zXH7pmIcYI"
   },
   "outputs": [],
   "source": []
  },
  {
   "cell_type": "code",
   "execution_count": null,
   "metadata": {
    "colab": {
     "base_uri": "https://localhost:8080/"
    },
    "id": "caqvucJjfNr-",
    "outputId": "2a12369b-7a45-4f52-b4e6-4f06ba1d0afa"
   },
   "outputs": [
    {
     "data": {
      "text/plain": [
       "2"
      ]
     },
     "execution_count": 147,
     "metadata": {},
     "output_type": "execute_result"
    }
   ],
   "source": [
    "# 단순 계산기\n",
    "1 + 1"
   ]
  },
  {
   "cell_type": "markdown",
   "metadata": {
    "id": "0yUpWF9ZfYoN"
   },
   "source": [
    "변수명 = data"
   ]
  },
  {
   "cell_type": "code",
   "execution_count": null,
   "metadata": {
    "id": "tgYukjgb2-69"
   },
   "outputs": [],
   "source": [
    "# 변수 : Variable, 데이터\n",
    "# !! 주의 !! 변수 데이터를 변경했으면 반드시 실행해야 하위에 적용됨.\n",
    "a = 1000\n",
    "b = 1110"
   ]
  },
  {
   "cell_type": "code",
   "execution_count": null,
   "metadata": {
    "colab": {
     "base_uri": "https://localhost:8080/"
    },
    "id": "ieiCzg4vf1Uo",
    "outputId": "26acafe9-4351-4ed9-93d5-2b6110758e62"
   },
   "outputs": [
    {
     "name": "stdout",
     "output_type": "stream",
     "text": [
      "1000\n",
      "1110\n"
     ]
    }
   ],
   "source": [
    "print(a)\n",
    "print(b)"
   ]
  },
  {
   "cell_type": "markdown",
   "metadata": {
    "id": "BR7SnxWxfTHD"
   },
   "source": [
    "### 변수명 짓기 규칙\n",
    "- snake, camel"
   ]
  },
  {
   "cell_type": "code",
   "execution_count": null,
   "metadata": {
    "id": "TUhgASN3hCyT"
   },
   "outputs": [],
   "source": [
    "# snake\n",
    "num_a = 100\n",
    "num_b = 110\n",
    "\n",
    "# Camel\n",
    "myStudent = \"evan\"\n",
    "mySchool = \"학교이름\"\n",
    "\n",
    "# 주의해야할 것\n",
    "# 3star = \"이장군\" # 변수명 앞에 숫자가 오면 안됨!\n"
   ]
  },
  {
   "cell_type": "code",
   "execution_count": null,
   "metadata": {
    "colab": {
     "base_uri": "https://localhost:8080/"
    },
    "id": "Ql6_foegiRW-",
    "outputId": "ee215d85-2094-4b5b-ebf2-d0e1ee882b8d"
   },
   "outputs": [
    {
     "name": "stdout",
     "output_type": "stream",
     "text": [
      "100\n"
     ]
    }
   ],
   "source": [
    "# 내장 함수명을 변수명으로 만들면 안됨!\n",
    "print(num_a)"
   ]
  },
  {
   "cell_type": "code",
   "execution_count": null,
   "metadata": {
    "id": "_oUVyiKsirBv"
   },
   "outputs": [],
   "source": [
    "num = 1\n",
    "Num = 100"
   ]
  },
  {
   "cell_type": "code",
   "execution_count": null,
   "metadata": {
    "colab": {
     "base_uri": "https://localhost:8080/"
    },
    "id": "y093kxrwiuaP",
    "outputId": "a208ede6-77f3-480c-ffc8-937066ce1ea9"
   },
   "outputs": [
    {
     "name": "stdout",
     "output_type": "stream",
     "text": [
      "1\n",
      "100\n"
     ]
    }
   ],
   "source": [
    "# 변수명은 대소문자를 구분함!\n",
    "print(num)\n",
    "print(Num)"
   ]
  },
  {
   "cell_type": "code",
   "execution_count": null,
   "metadata": {
    "id": "tteVudnWiwlT"
   },
   "outputs": [],
   "source": [
    "# 변수명 작성 시, 공백 있으면 안됨!\n",
    "# my student = \"evan\""
   ]
  },
  {
   "cell_type": "markdown",
   "metadata": {
    "id": "W1j3pskwlGaX"
   },
   "source": [
    "### 예약어는 변수명으로 이용할 수 없음\n",
    "- (p.45)\n",
    "- print, None, True, etc"
   ]
  },
  {
   "cell_type": "markdown",
   "metadata": {
    "id": "iEUpdNbrlYzi"
   },
   "source": [
    "### 변수의 반대어 : 상수\n",
    "- 한번 지정 후 변하지 않는 고정 값\n"
   ]
  },
  {
   "cell_type": "code",
   "execution_count": null,
   "metadata": {
    "id": "SB4tI09Xli6F"
   },
   "outputs": [],
   "source": [
    "# 상수\n",
    "pi = 3.14"
   ]
  },
  {
   "cell_type": "code",
   "execution_count": null,
   "metadata": {
    "colab": {
     "base_uri": "https://localhost:8080/"
    },
    "id": "S463mlHKlnpL",
    "outputId": "92ff68b0-458f-46e9-e444-2d7ae9226783"
   },
   "outputs": [
    {
     "name": "stdout",
     "output_type": "stream",
     "text": [
      "숫자를 입력해주세요!!0\n",
      "숫자를 입력해주세요!!0\n",
      "0 0\n"
     ]
    }
   ],
   "source": [
    "# 실제 변수를 만들어보기\n",
    "num1 = input(\"숫자를 입력해주세요!!\") # 숫자를 입력해도 기본값\n",
    "num2 = input(\"숫자를 입력해주세요!!\")\n",
    "\n",
    "print(num1, num2)"
   ]
  },
  {
   "cell_type": "markdown",
   "metadata": {
    "id": "nM8AUDFSsJtJ"
   },
   "source": []
  },
  {
   "cell_type": "code",
   "execution_count": null,
   "metadata": {
    "colab": {
     "base_uri": "https://localhost:8080/"
    },
    "id": "t_CV2mhbr2B3",
    "outputId": "2cefbc89-3cee-477e-e6b0-632283fa75c7"
   },
   "outputs": [
    {
     "name": "stdout",
     "output_type": "stream",
     "text": [
      "00\n",
      "00\n"
     ]
    }
   ],
   "source": [
    "print(num1 + num2)\n",
    "print(num2 + num1)"
   ]
  },
  {
   "cell_type": "code",
   "execution_count": null,
   "metadata": {
    "colab": {
     "base_uri": "https://localhost:8080/"
    },
    "id": "Vx5oE5TqsKM9",
    "outputId": "50b09e59-80e0-4e01-d580-5233ce1e69ab"
   },
   "outputs": [
    {
     "name": "stdout",
     "output_type": "stream",
     "text": [
      "<class 'str'>\n",
      "<class 'str'>\n"
     ]
    }
   ],
   "source": [
    "print(type(num1)) # <class 'str'> 문자열\n",
    "print(type(num2)) # <class 'str'> 문자열"
   ]
  },
  {
   "cell_type": "markdown",
   "metadata": {
    "id": "xZuK3stzl2oi"
   },
   "source": [
    "프로그래밍에서 문자열 표현\n",
    "\"\", '' 사용"
   ]
  },
  {
   "cell_type": "code",
   "execution_count": null,
   "metadata": {
    "colab": {
     "base_uri": "https://localhost:8080/"
    },
    "id": "d3uu4LRqrij9",
    "outputId": "2fcf1221-1072-4c06-fd47-60411bdc87b8"
   },
   "outputs": [
    {
     "name": "stdout",
     "output_type": "stream",
     "text": [
      "0\n"
     ]
    }
   ],
   "source": [
    "# 하고싶은 것 : 사칙연산\n",
    "# 해결방안 : 문자열 100을 숫자 100으로 변경하면 될 것 같음\n",
    "# 코드를 찾기\n",
    "\n",
    "num_a = int(num1)\n",
    "num_b = int(num2)\n",
    "print(num_a + num_b)\n",
    "\n",
    "# string_num = \"42\"\n",
    "# int_num = int(string_num)\n",
    "# print(int_num) # Output: 42"
   ]
  },
  {
   "cell_type": "markdown",
   "metadata": {
    "id": "3yGbZYnVxToP"
   },
   "source": [
    "## 문자열\n",
    "- \"\"(큰 따옴표) 또는 ''(작은 따옴표) 지정"
   ]
  },
  {
   "cell_type": "code",
   "execution_count": null,
   "metadata": {
    "colab": {
     "base_uri": "https://localhost:8080/"
    },
    "id": "NRPqTNlux6g1",
    "outputId": "f0619b78-1160-4d7b-8f9c-8ecfb8ce4e2c"
   },
   "outputs": [
    {
     "name": "stdout",
     "output_type": "stream",
     "text": [
      "Hello String\n"
     ]
    }
   ],
   "source": [
    "greeting = 'Hello String'\n",
    "print(greeting)"
   ]
  },
  {
   "cell_type": "code",
   "execution_count": null,
   "metadata": {
    "colab": {
     "base_uri": "https://localhost:8080/"
    },
    "id": "9h-vnO6_yGuV",
    "outputId": "71182a07-8cb3-4776-f236-0bf4aac47b1f"
   },
   "outputs": [
    {
     "name": "stdout",
     "output_type": "stream",
     "text": [
      "This is a \"double\" quotation test\n"
     ]
    }
   ],
   "source": [
    "string3 = 'This is a \"double\" quotation test'\n",
    "print(string3)"
   ]
  },
  {
   "cell_type": "code",
   "execution_count": null,
   "metadata": {
    "colab": {
     "base_uri": "https://localhost:8080/"
    },
    "id": "V28_o6wByzup",
    "outputId": "1d6bed5f-22c3-4e8e-d541-caa40666af27"
   },
   "outputs": [
    {
     "name": "stdout",
     "output_type": "stream",
     "text": [
      "\n",
      "문장이 긴 텍스트\n",
      "문장이 긴 텍스트1\n",
      "문장이 긴 텍스트2\n",
      "문장이 긴 텍스트3\n",
      "\n"
     ]
    }
   ],
   "source": [
    "long_string = \"\"\"\n",
    "문장이 긴 텍스트\n",
    "문장이 긴 텍스트1\n",
    "문장이 긴 텍스트2\n",
    "문장이 긴 텍스트3\n",
    "\"\"\"\n",
    "\n",
    "print(long_string)"
   ]
  },
  {
   "cell_type": "code",
   "execution_count": null,
   "metadata": {
    "colab": {
     "base_uri": "https://localhost:8080/"
    },
    "id": "DYo5ipQizBuJ",
    "outputId": "0c18b933-bab9-4fa6-a375-85ccb0aeba44"
   },
   "outputs": [
    {
     "name": "stdout",
     "output_type": "stream",
     "text": [
      "Enjoy Python!\n"
     ]
    }
   ],
   "source": [
    "a = 'Enjoy '\n",
    "b = 'Python!'\n",
    "print(a + b)"
   ]
  },
  {
   "cell_type": "code",
   "execution_count": null,
   "metadata": {
    "colab": {
     "base_uri": "https://localhost:8080/"
    },
    "id": "94dJ2-KH34VM",
    "outputId": "110cc900-52e9-4a65-fbff-311984383b5f"
   },
   "outputs": [
    {
     "name": "stdout",
     "output_type": "stream",
     "text": [
      "Enjoy Enjoy Enjoy \n"
     ]
    }
   ],
   "source": [
    "print(a * 3)"
   ]
  },
  {
   "cell_type": "markdown",
   "metadata": {
    "id": "kpIRDxzk36BS"
   },
   "source": [
    "## 리스트 (List), p.49\n",
    "- 가장 중요한 자료형\n",
    "- 다른 프로그래밍 언어에서는 배열(Array)\n",
    "- 예시\n",
    " + 1반의 과목별 수학 점수\n",
    "- 다중의 데이터를 묶는다"
   ]
  },
  {
   "cell_type": "code",
   "execution_count": null,
   "metadata": {
    "colab": {
     "base_uri": "https://localhost:8080/"
    },
    "id": "0wXtHZtQ5GZH",
    "outputId": "c4702304-e38f-4c92-f004-93137607483e"
   },
   "outputs": [
    {
     "name": "stdout",
     "output_type": "stream",
     "text": [
      "[90, 95, 85, 80]\n"
     ]
    }
   ],
   "source": [
    "# 1번 학생의 국어, 영어, 수학, 과학\n",
    "student1 = [90, 95, 85, 80]\n",
    "print(student1)"
   ]
  },
  {
   "cell_type": "code",
   "execution_count": null,
   "metadata": {
    "colab": {
     "base_uri": "https://localhost:8080/"
    },
    "id": "WojoHVCP5MNS",
    "outputId": "c3394781-2e89-45bc-c46d-626e5c85a2a8"
   },
   "outputs": [
    {
     "name": "stdout",
     "output_type": "stream",
     "text": [
      "<class 'list'>\n"
     ]
    }
   ],
   "source": [
    "print(type(student1))"
   ]
  },
  {
   "cell_type": "markdown",
   "metadata": {
    "id": "GVIwsTY-5sZ7"
   },
   "source": [
    "### 인덱싱(Indexing)\n",
    "- 리스트에서 특정 데이터를 추출"
   ]
  },
  {
   "cell_type": "code",
   "execution_count": null,
   "metadata": {
    "colab": {
     "base_uri": "https://localhost:8080/"
    },
    "id": "faCZicui5yNA",
    "outputId": "b92e2b7d-3a86-4dd7-8a6a-258a40d966c8"
   },
   "outputs": [
    {
     "name": "stdout",
     "output_type": "stream",
     "text": [
      "90\n",
      "95\n",
      "85\n",
      "80\n"
     ]
    }
   ],
   "source": [
    "print(student1[0]) # 숫자 0은 리스트의 첫번째 항목 의미\n",
    "print(student1[1])\n",
    "print(student1[2])\n",
    "print(student1[3])"
   ]
  },
  {
   "cell_type": "code",
   "execution_count": null,
   "metadata": {
    "colab": {
     "base_uri": "https://localhost:8080/"
    },
    "id": "6A-uUBkf6lT5",
    "outputId": "79c31847-0d29-4d2f-bcbd-e716c7a9a389"
   },
   "outputs": [
    {
     "name": "stdout",
     "output_type": "stream",
     "text": [
      "P\n"
     ]
    }
   ],
   "source": [
    "greeting = 'Hello, Python'\n",
    "print(greeting[7])"
   ]
  },
  {
   "cell_type": "markdown",
   "metadata": {
    "id": "z3bE6yVP6wN9"
   },
   "source": [
    "### 리스트 수정, 삭제"
   ]
  },
  {
   "cell_type": "code",
   "execution_count": null,
   "metadata": {
    "colab": {
     "base_uri": "https://localhost:8080/"
    },
    "id": "_UuEVjii8bqq",
    "outputId": "3269918c-9733-43b4-9f15-81dee27f9bbf"
   },
   "outputs": [
    {
     "data": {
      "text/plain": [
       "[100, 95, 85, 80]"
      ]
     },
     "execution_count": 169,
     "metadata": {},
     "output_type": "execute_result"
    }
   ],
   "source": [
    "student1[0] = 100 # 새로운 데이터 할당\n",
    "student1"
   ]
  },
  {
   "cell_type": "code",
   "execution_count": null,
   "metadata": {
    "colab": {
     "base_uri": "https://localhost:8080/"
    },
    "id": "bSYBNWMw8-64",
    "outputId": "6c0c1a8d-aab1-4ccf-ffc0-ab5a654c88c0"
   },
   "outputs": [
    {
     "name": "stdout",
     "output_type": "stream",
     "text": [
      "['혜원', '시원', '규희', '상준', '려원']\n"
     ]
    }
   ],
   "source": [
    "# 문자열, 덧셈 연산자 + 곱셈 연산자\n",
    "# 리스트에 적용\n",
    "myFriends = ['혜원', '시원', '규희', '상준']\n",
    "newFriends = ['려원']\n",
    "\n",
    "myFriends2 = myFriends + newFriends\n",
    "print(myFriends2)"
   ]
  },
  {
   "cell_type": "code",
   "execution_count": null,
   "metadata": {
    "colab": {
     "base_uri": "https://localhost:8080/"
    },
    "id": "XmwqPRuE-eEJ",
    "outputId": "4a6e83fb-86dc-48eb-ddbf-266722c017ed"
   },
   "outputs": [
    {
     "data": {
      "text/plain": [
       "[1, 1, 1]"
      ]
     },
     "execution_count": 187,
     "metadata": {},
     "output_type": "execute_result"
    }
   ],
   "source": [
    "myNumbers = [1]\n",
    "myNumbers * 3"
   ]
  },
  {
   "cell_type": "code",
   "execution_count": null,
   "metadata": {
    "colab": {
     "base_uri": "https://localhost:8080/"
    },
    "id": "GJ31lIfa_dlD",
    "outputId": "dca52fa5-d7dd-44c4-cdc1-49ddf509bd9b"
   },
   "outputs": [
    {
     "name": "stdout",
     "output_type": "stream",
     "text": [
      "규\n"
     ]
    }
   ],
   "source": [
    "# 규희에서 규 추출\n",
    "result = myFriends[2][0]\n",
    "print(result)"
   ]
  },
  {
   "cell_type": "code",
   "execution_count": null,
   "metadata": {
    "colab": {
     "base_uri": "https://localhost:8080/"
    },
    "id": "Wong-9my-PkX",
    "outputId": "87dfef16-79e8-48c4-9424-8e8ac062d159"
   },
   "outputs": [
    {
     "data": {
      "text/plain": [
       "[0, 2, 3.14, 'python', True, ['혜원', '시원', '규희', '상준', '려원']]"
      ]
     },
     "execution_count": 189,
     "metadata": {},
     "output_type": "execute_result"
    }
   ],
   "source": [
    "mixed = [0, 2, 3.14, 'python', True, myFriends2]\n",
    "mixed"
   ]
  },
  {
   "cell_type": "code",
   "execution_count": null,
   "metadata": {
    "colab": {
     "base_uri": "https://localhost:8080/"
    },
    "id": "c7hbkc3E_3KK",
    "outputId": "0984fe2a-8ad2-482a-d57b-b4485e75fb3b"
   },
   "outputs": [
    {
     "name": "stdout",
     "output_type": "stream",
     "text": [
      "려\n"
     ]
    }
   ],
   "source": [
    "# mixed의 myFriends2 안의 려원에서 려 추출\n",
    "print(mixed[5][4][0])"
   ]
  },
  {
   "cell_type": "markdown",
   "metadata": {
    "id": "DCOT7tMcFw_f"
   },
   "source": [
    "### 슬라이싱\n",
    "- 문자열, 리스트 그 외 파이썬 자료형 원리 동일함."
   ]
  },
  {
   "cell_type": "code",
   "execution_count": null,
   "metadata": {
    "colab": {
     "base_uri": "https://localhost:8080/"
    },
    "id": "NqD9eZzIGTfp",
    "outputId": "990b79eb-9cc3-438a-b859-82b62313803a"
   },
   "outputs": [
    {
     "name": "stdout",
     "output_type": "stream",
     "text": [
      "[0, 1, 2, 3, 4, 5, 6, 7, 8, 9]\n",
      "[0, 1, 2]\n",
      "[0, 1, 2, 3, 4, 5]\n",
      "[0, 1, 2, 3, 4, 5]\n",
      "[4, 5, 6, 7, 8, 9]\n",
      "[0, 1, 2, 3, 4, 5, 6, 7, 8, 9]\n"
     ]
    }
   ],
   "source": [
    "list_data = [0, 1, 2, 3, 4, 5, 6, 7, 8, 9]\n",
    "print(list_data)\n",
    "print(list_data[0:3]) # 시작 인덱스: 끝인덱스-1\n",
    "\n",
    "# 5까지 추출\n",
    "print(list_data[0:6])\n",
    "print(list_data[:6])\n",
    "print(list_data[4:]) # list_data[4:10]\n",
    "print(list_data[:]) # 모든 데이터 조회"
   ]
  },
  {
   "cell_type": "code",
   "execution_count": null,
   "metadata": {
    "colab": {
     "base_uri": "https://localhost:8080/"
    },
    "id": "18nnh9qAI7y_",
    "outputId": "0694855f-a7aa-45ad-e5a6-e4f879e7c333"
   },
   "outputs": [
    {
     "name": "stdout",
     "output_type": "stream",
     "text": [
      "[0, 1, 2, 3, 4, 5, 6, 7, 8, 9]\n",
      "[0, 2, 4, 6, 8]\n",
      "[0, 3, 6, 9]\n"
     ]
    }
   ],
   "source": [
    "print(list_data[:])\n",
    "print(list_data[::2])\n",
    "print(list_data[::3])"
   ]
  },
  {
   "cell_type": "code",
   "execution_count": null,
   "metadata": {
    "colab": {
     "base_uri": "https://localhost:8080/"
    },
    "id": "0gSWBVEwHhLa",
    "outputId": "47f6f0e0-cd22-4959-d6fe-ef5b4f41e5ff"
   },
   "outputs": [
    {
     "name": "stdout",
     "output_type": "stream",
     "text": [
      "Hello\n"
     ]
    }
   ],
   "source": [
    "greeting = 'Hello, Python'\n",
    "\n",
    "# Hello만 추출\n",
    "print(greeting[0:5])"
   ]
  },
  {
   "cell_type": "markdown",
   "metadata": {
    "id": "jPTSPKXcKd9i"
   },
   "source": [
    "## 튜플(Tuple)\n",
    "- 기초 문법이 중요함 (면접 때 질문 받을 수 있음)\n"
   ]
  },
  {
   "cell_type": "code",
   "execution_count": null,
   "metadata": {
    "colab": {
     "base_uri": "https://localhost:8080/"
    },
    "id": "Iy0Lk3tuKkny",
    "outputId": "1af87b6c-5fa5-4bfc-b49b-775c43ea6668"
   },
   "outputs": [
    {
     "name": "stdout",
     "output_type": "stream",
     "text": [
      "(1, 2, 3, 4)\n",
      "<class 'tuple'>\n"
     ]
    }
   ],
   "source": [
    "tuple1 = (1, 2, 3, 4)\n",
    "print(tuple1)\n",
    "print(type(tuple1))"
   ]
  },
  {
   "cell_type": "markdown",
   "metadata": {
    "id": "mcHYNuWXMVze"
   },
   "source": [
    "### 유사한 것\n",
    "- 인덱싱과 슬라이싱이 동일"
   ]
  },
  {
   "cell_type": "code",
   "execution_count": null,
   "metadata": {
    "id": "hBJbacLsNPI5"
   },
   "outputs": [],
   "source": []
  },
  {
   "cell_type": "code",
   "execution_count": null,
   "metadata": {
    "id": "Kc1E0Y2-NNuD"
   },
   "outputs": [],
   "source": []
  },
  {
   "cell_type": "code",
   "execution_count": null,
   "metadata": {
    "colab": {
     "base_uri": "https://localhost:8080/"
    },
    "id": "CkKfqHUYMc1x",
    "outputId": "895a8361-26ac-4249-df53-72ae77129df6"
   },
   "outputs": [
    {
     "name": "stdout",
     "output_type": "stream",
     "text": [
      "4\n",
      "(0, 1, 2, 3, 4, 5, 6, 7, 8, 9)\n",
      "(0, 1, 2, 3, 4, 5, 6)\n",
      "(0, 1, 2, 3, 4, 5, 6)\n",
      "(4, 5, 6)\n",
      "(4, 5, 6, 7, 8, 9)\n",
      "(0, 2, 4, 6, 8)\n"
     ]
    }
   ],
   "source": [
    "tuple_data = (0, 1, 2, 3, 4, 5, 6, 7, 8, 9)\n",
    "print(tuple_data[4])\n",
    "print(tuple_data[:])\n",
    "print(tuple_data[0:7])\n",
    "print(tuple_data[:7])\n",
    "print(tuple_data[4:7])\n",
    "print(tuple_data[4:])\n",
    "print(tuple_data[::2])"
   ]
  },
  {
   "cell_type": "markdown",
   "metadata": {
    "id": "niEmvHJCMwxO"
   },
   "source": [
    "### 차이점\n",
    "- 리스트는 수정, 삭제 가능\n",
    "- 튜플은 수정, 삭제 불가"
   ]
  },
  {
   "cell_type": "code",
   "execution_count": null,
   "metadata": {
    "colab": {
     "base_uri": "https://localhost:8080/",
     "height": 232
    },
    "id": "j2ABy9W2NK1y",
    "outputId": "06c3523c-19be-4639-92e3-af8e35130e9e"
   },
   "outputs": [
    {
     "ename": "TypeError",
     "evalue": "ignored",
     "output_type": "error",
     "traceback": [
      "\u001b[0;31m---------------------------------------------------------------------------\u001b[0m",
      "\u001b[0;31mTypeError\u001b[0m                                 Traceback (most recent call last)",
      "\u001b[0;32m<ipython-input-232-b37e6821de51>\u001b[0m in \u001b[0;36m<cell line: 10>\u001b[0;34m()\u001b[0m\n\u001b[1;32m      8\u001b[0m \u001b[0;31m# del l_data[3]\u001b[0m\u001b[0;34m\u001b[0m\u001b[0;34m\u001b[0m\u001b[0m\n\u001b[1;32m      9\u001b[0m \u001b[0;31m# print(l_data)\u001b[0m\u001b[0;34m\u001b[0m\u001b[0;34m\u001b[0m\u001b[0m\n\u001b[0;32m---> 10\u001b[0;31m \u001b[0;32mdel\u001b[0m \u001b[0mt_data\u001b[0m\u001b[0;34m[\u001b[0m\u001b[0;36m3\u001b[0m\u001b[0;34m]\u001b[0m\u001b[0;34m\u001b[0m\u001b[0;34m\u001b[0m\u001b[0m\n\u001b[0m\u001b[1;32m     11\u001b[0m \u001b[0mprint\u001b[0m\u001b[0;34m(\u001b[0m\u001b[0mt_Data\u001b[0m\u001b[0;34m)\u001b[0m\u001b[0;34m\u001b[0m\u001b[0;34m\u001b[0m\u001b[0m\n",
      "\u001b[0;31mTypeError\u001b[0m: 'tuple' object doesn't support item deletion"
     ]
    }
   ],
   "source": [
    "l_data = [0, 1, 2, 3]\n",
    "t_data = (0, 1, 2, 3)\n",
    "\n",
    "# 숫자 3 대신, 30으로 변경\n",
    "# l_data[3] = 30\n",
    "# t_data[3] = 30\n",
    "\n",
    "# del l_data[3]\n",
    "# print(l_data)\n",
    "del t_data[3]\n",
    "print(t_Data)"
   ]
  },
  {
   "cell_type": "code",
   "execution_count": null,
   "metadata": {
    "id": "zyKBNN2lNiP4"
   },
   "outputs": [],
   "source": []
  }
 ],
 "metadata": {
  "colab": {
   "provenance": [],
   "toc_visible": true
  },
  "kernelspec": {
   "display_name": "Python 3 (ipykernel)",
   "language": "python",
   "name": "python3"
  },
  "language_info": {
   "codemirror_mode": {
    "name": "ipython",
    "version": 3
   },
   "file_extension": ".py",
   "mimetype": "text/x-python",
   "name": "python",
   "nbconvert_exporter": "python",
   "pygments_lexer": "ipython3",
   "version": "3.11.5"
  }
 },
 "nbformat": 4,
 "nbformat_minor": 4
}
