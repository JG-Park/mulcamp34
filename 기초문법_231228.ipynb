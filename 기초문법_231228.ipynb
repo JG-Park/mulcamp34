{
  "nbformat": 4,
  "nbformat_minor": 0,
  "metadata": {
    "colab": {
      "provenance": [],
      "toc_visible": true
    },
    "kernelspec": {
      "name": "python3",
      "display_name": "Python 3"
    },
    "language_info": {
      "name": "python"
    }
  },
  "cells": [
    {
      "cell_type": "markdown",
      "source": [
        "# 문자열 함수\n",
        "- 교재 (p.158)\n",
        "- 영어 : function, method"
      ],
      "metadata": {
        "id": "vIg_S19Bw6G8"
      }
    },
    {
      "cell_type": "code",
      "source": [
        "coffee_menu_str = \"에스프레소,아메리카노,카페라테,카푸치노\"\n",
        "print(coffee_menu_str.split(','))"
      ],
      "metadata": {
        "colab": {
          "base_uri": "https://localhost:8080/"
        },
        "id": "t3Bn6iK8x2lD",
        "outputId": "12ebdad1-3d78-49a5-acb1-acef22172846"
      },
      "execution_count": null,
      "outputs": [
        {
          "output_type": "stream",
          "name": "stdout",
          "text": [
            "['에스프레소', '아메리카노', '카페라테', '카푸치노']\n"
          ]
        }
      ]
    },
    {
      "cell_type": "code",
      "source": [
        "\"에스프레소,아메리카노,카페라테,카푸치노\".split(',')"
      ],
      "metadata": {
        "colab": {
          "base_uri": "https://localhost:8080/"
        },
        "id": "FvPXWRmvz3m_",
        "outputId": "8e914280-91dd-4e51-bdcf-55cfeec4bdf9"
      },
      "execution_count": null,
      "outputs": [
        {
          "output_type": "execute_result",
          "data": {
            "text/plain": [
              "['에스프레소', '아메리카노', '카페라테', '카푸치노']"
            ]
          },
          "metadata": {},
          "execution_count": 29
        }
      ]
    },
    {
      "cell_type": "code",
      "source": [
        "\"에스프레소 아메리카노 카페라테 카푸치노\".split(' ')"
      ],
      "metadata": {
        "colab": {
          "base_uri": "https://localhost:8080/"
        },
        "id": "e_Cje1Bsz5aU",
        "outputId": "1560e032-d2bf-46d0-92fd-e795241c2130"
      },
      "execution_count": null,
      "outputs": [
        {
          "output_type": "execute_result",
          "data": {
            "text/plain": [
              "['에스프레소', '아메리카노', '카페라테', '카푸치노']"
            ]
          },
          "metadata": {},
          "execution_count": 30
        }
      ]
    },
    {
      "cell_type": "code",
      "source": [
        "phone_number = \"+82-01-2345-6789\"\n",
        "\n",
        "# +82만 추출하기\n",
        "result = phone_number.split('-', maxsplit=3)\n",
        "result"
      ],
      "metadata": {
        "colab": {
          "base_uri": "https://localhost:8080/"
        },
        "id": "dWZYthY40o1E",
        "outputId": "1a864f0a-2f23-4c9c-a431-466acd25eb5d"
      },
      "execution_count": null,
      "outputs": [
        {
          "output_type": "execute_result",
          "data": {
            "text/plain": [
              "['+82', '01', '2345', '6789']"
            ]
          },
          "metadata": {},
          "execution_count": 31
        }
      ]
    },
    {
      "cell_type": "code",
      "source": [
        "# maxsplit, 매개변수 (arguments, parameters)\n",
        "phone_number.split('-', maxsplit=2)"
      ],
      "metadata": {
        "id": "47uDdkVn2VvZ",
        "colab": {
          "base_uri": "https://localhost:8080/"
        },
        "outputId": "0093aeef-f9c0-4e53-e73e-a4a74393cce5"
      },
      "execution_count": null,
      "outputs": [
        {
          "output_type": "execute_result",
          "data": {
            "text/plain": [
              "['+82', '01', '2345-6789']"
            ]
          },
          "metadata": {},
          "execution_count": 32
        }
      ]
    },
    {
      "cell_type": "markdown",
      "source": [
        "## strip() : 필요없는 문자열 삭제\n",
        "- 앞뒤 공백 혹은 개행문자와 같이 불필요한 부분을 지우고 싶을 때 사용"
      ],
      "metadata": {
        "id": "WXgfoqvu3hSd"
      }
    },
    {
      "cell_type": "code",
      "source": [
        "tempText = ' Python '\n",
        "tempText.strip(' ')"
      ],
      "metadata": {
        "colab": {
          "base_uri": "https://localhost:8080/",
          "height": 36
        },
        "id": "1qazwqqt3pb6",
        "outputId": "5fcb2262-9ffe-4692-9f18-47e2f38c0dca"
      },
      "execution_count": null,
      "outputs": [
        {
          "output_type": "execute_result",
          "data": {
            "text/plain": [
              "'Python'"
            ],
            "application/vnd.google.colaboratory.intrinsic+json": {
              "type": "string"
            }
          },
          "metadata": {},
          "execution_count": 33
        }
      ]
    },
    {
      "cell_type": "code",
      "source": [
        "tempText = 'aaaaaPythonbbaaaaa'\n",
        "result = tempText.strip('ab') # 특수문자 활용도 가능\n",
        "result"
      ],
      "metadata": {
        "colab": {
          "base_uri": "https://localhost:8080/",
          "height": 36
        },
        "id": "HXvhzm744HWz",
        "outputId": "382a3101-489b-4ae6-d512-9f9ab5d3308e"
      },
      "execution_count": null,
      "outputs": [
        {
          "output_type": "execute_result",
          "data": {
            "text/plain": [
              "'Python'"
            ],
            "application/vnd.google.colaboratory.intrinsic+json": {
              "type": "string"
            }
          },
          "metadata": {},
          "execution_count": 34
        }
      ]
    },
    {
      "cell_type": "code",
      "source": [
        "tempText = '\\n Python \\n\\n'\n",
        "tempText.strip('\\n')"
      ],
      "metadata": {
        "colab": {
          "base_uri": "https://localhost:8080/",
          "height": 36
        },
        "id": "iHFLpFxo9j_o",
        "outputId": "2518b8d3-7c4a-4466-9c5c-52229fe140d6"
      },
      "execution_count": null,
      "outputs": [
        {
          "output_type": "execute_result",
          "data": {
            "text/plain": [
              "' Python '"
            ],
            "application/vnd.google.colaboratory.intrinsic+json": {
              "type": "string"
            }
          },
          "metadata": {},
          "execution_count": 35
        }
      ]
    },
    {
      "cell_type": "code",
      "source": [
        "tempText.strip(' \\n')\n",
        "\n",
        "# lstrip(), 해당 텍스트의 왼쪽\n",
        "# rstrip(), 해당 텍스트의 오른쪽"
      ],
      "metadata": {
        "colab": {
          "base_uri": "https://localhost:8080/",
          "height": 36
        },
        "id": "HYnNTHxA9pNL",
        "outputId": "45b42775-b449-4473-c8cc-736b0dda9ffe"
      },
      "execution_count": null,
      "outputs": [
        {
          "output_type": "execute_result",
          "data": {
            "text/plain": [
              "'Python'"
            ],
            "application/vnd.google.colaboratory.intrinsic+json": {
              "type": "string"
            }
          },
          "metadata": {},
          "execution_count": 36
        }
      ]
    },
    {
      "cell_type": "markdown",
      "source": [
        "## join(): 문자열 연결\n",
        "- 더하기 연산자(+)로 두 문자열 연결 가능"
      ],
      "metadata": {
        "id": "LPiK_VRI-GHJ"
      }
    },
    {
      "cell_type": "code",
      "source": [
        "name1 = '철수'\n",
        "name2 = '영미'\n",
        "\n",
        "hello = '님, 주소와 전화번호를 입력해주세요.'\n",
        "\n",
        "print(name1 + hello)\n",
        "print(name2 + hello)"
      ],
      "metadata": {
        "colab": {
          "base_uri": "https://localhost:8080/"
        },
        "id": "S6JHG1_R-UB6",
        "outputId": "326615a1-c740-4dfd-d295-0fc007360ec0"
      },
      "execution_count": null,
      "outputs": [
        {
          "output_type": "stream",
          "name": "stdout",
          "text": [
            "철수님, 주소와 전화번호를 입력해주세요.\n",
            "영미님, 주소와 전화번호를 입력해주세요.\n"
          ]
        }
      ]
    },
    {
      "cell_type": "code",
      "source": [
        "address_list = ['서울시', '서초구', '반포대로', '201(반포동)']\n",
        "\n",
        "# 리스트의 각 값을 모두 연결해서 하나의 텍스트로\n",
        "a = \"-\"\n",
        "a.join(address_list)"
      ],
      "metadata": {
        "colab": {
          "base_uri": "https://localhost:8080/",
          "height": 36
        },
        "id": "9Hd0x_tr-0f4",
        "outputId": "a927e7f6-7590-4296-c83e-ba90beeda262"
      },
      "execution_count": null,
      "outputs": [
        {
          "output_type": "execute_result",
          "data": {
            "text/plain": [
              "'서울시-서초구-반포대로-201(반포동)'"
            ],
            "application/vnd.google.colaboratory.intrinsic+json": {
              "type": "string"
            }
          },
          "metadata": {},
          "execution_count": 38
        }
      ]
    },
    {
      "cell_type": "markdown",
      "source": [
        "## find() : 문자열 찾기\n",
        "- 문자열의 위치 값을 반환"
      ],
      "metadata": {
        "id": "yGkBNwkVAxmp"
      }
    },
    {
      "cell_type": "code",
      "source": [
        "str_f = 'Python code.'\n",
        "print(\"찾는 문자열의 위치:\", str_f.find('code'))\n",
        "print(\"찾는 문자열의 위치:\", str_f.find('Java')) # -1 :> 해당되는 문자 없음."
      ],
      "metadata": {
        "colab": {
          "base_uri": "https://localhost:8080/"
        },
        "id": "fUUZ9lEgA6kY",
        "outputId": "427de953-1a16-49ea-c85c-548dc3ca33ad"
      },
      "execution_count": null,
      "outputs": [
        {
          "output_type": "stream",
          "name": "stdout",
          "text": [
            "찾는 문자열의 위치: 7\n",
            "찾는 문자열의 위치: -1\n"
          ]
        }
      ]
    },
    {
      "cell_type": "markdown",
      "source": [
        "## count() : 찾고자 하는 문자열의 횟수 반환\n",
        "- 만약, 찾을 문자열이 없으면 0으로 반환"
      ],
      "metadata": {
        "id": "R3aoMoniBh1g"
      }
    },
    {
      "cell_type": "code",
      "source": [
        "str_c = \"Python is powerful. Python is easy to learn. Python is open\"\n",
        "print(\"Python의 갯수는?\", str_c.count(\"Python\"))\n",
        "print(\"powerful의 갯수는?\", str_c.count(\"powerful\"))\n",
        "print(\"Java의 갯수는?\", str_c.count(\"Java\"))"
      ],
      "metadata": {
        "colab": {
          "base_uri": "https://localhost:8080/"
        },
        "id": "3hSU4X4TDjGz",
        "outputId": "01af3461-ee3b-4baf-98b6-b7e53c6a94d8"
      },
      "execution_count": null,
      "outputs": [
        {
          "output_type": "stream",
          "name": "stdout",
          "text": [
            "Python의 갯수는? 3\n",
            "powerful의 갯수는? 1\n",
            "Java의 갯수는? 0\n"
          ]
        }
      ]
    },
    {
      "cell_type": "markdown",
      "source": [
        "## startswith, endswith\n",
        "- 각 문자열이 지정된 문자로 시작하는 또는 끝나는지 체크(검사)할 때 사용\n"
      ],
      "metadata": {
        "id": "vX-eG5mWEBya"
      }
    },
    {
      "cell_type": "code",
      "source": [
        "str_c = \"Python is powerful. Python is easy to learn. Python is open.\"\n",
        "print(\"Python으로 시작?\", str_c.startswith(\"Python\"))\n",
        "print(\"is로 시작?\", str_c.startswith(\"is\"))\n",
        "print(\".으로 끝?\", str_c.endswith(\".\"))\n",
        "print(\"!로 끝?\", str_c.endswith(\"!\"))"
      ],
      "metadata": {
        "colab": {
          "base_uri": "https://localhost:8080/"
        },
        "id": "1-5cVYphElJJ",
        "outputId": "1c7a907a-4ade-4d98-e4b1-bf7becd19ea8"
      },
      "execution_count": null,
      "outputs": [
        {
          "output_type": "stream",
          "name": "stdout",
          "text": [
            "Python으로 시작? True\n",
            "is로 시작? False\n",
            ".으로 끝? True\n",
            "!로 끝? False\n"
          ]
        }
      ]
    },
    {
      "cell_type": "markdown",
      "source": [
        "## replace() : 문자열 바꾸기\n",
        "- 지정한 문자열을 찾아서 바꾸는 메서드"
      ],
      "metadata": {
        "id": "sdpVIGcwE5Kn"
      }
    },
    {
      "cell_type": "code",
      "source": [
        "str_a = 'Python is fast. Python is friendly. Python is open.'\n",
        "\n",
        "# Python IPython\n",
        "print(str_a.replace('Python', 'IPython'))"
      ],
      "metadata": {
        "id": "1-okQavSE_rk",
        "colab": {
          "base_uri": "https://localhost:8080/"
        },
        "outputId": "7b2989d0-204b-40d4-c924-e66df79e4b29"
      },
      "execution_count": null,
      "outputs": [
        {
          "output_type": "stream",
          "name": "stdout",
          "text": [
            "IPython is fast. IPython is friendly. IPython is open.\n"
          ]
        }
      ]
    },
    {
      "cell_type": "code",
      "source": [
        "str_b = '[Python][is][fast]'\n",
        "str_b1 = str_b.replace('[','')\n",
        "str_b2 = str_b1.replace(']',' ')\n",
        "result = str_b2.rstrip()\n",
        "print(result)"
      ],
      "metadata": {
        "colab": {
          "base_uri": "https://localhost:8080/"
        },
        "id": "Cj75y2jvFlrd",
        "outputId": "730502a5-101b-4321-a0b3-f3f24b819348"
      },
      "execution_count": null,
      "outputs": [
        {
          "output_type": "stream",
          "name": "stdout",
          "text": [
            "Python is fast\n"
          ]
        }
      ]
    },
    {
      "cell_type": "markdown",
      "source": [
        "# 리스트 함수\n",
        "- 교재(p.54)"
      ],
      "metadata": {
        "id": "gaadv2u7xQEF"
      }
    },
    {
      "cell_type": "markdown",
      "source": [
        "## append()\n",
        "- 리스트에서 항목 하나를 맨 마지막에 추가"
      ],
      "metadata": {
        "id": "95F947b0K6vT"
      }
    },
    {
      "cell_type": "code",
      "source": [
        "myFriends = ['James', 'Robert', 'Lisa', 'Mary']\n",
        "myFriends.append('Thomas')\n",
        "print(myFriends)\n",
        "\n",
        "result = myFriends.append('Thomas')\n",
        "print(result)"
      ],
      "metadata": {
        "colab": {
          "base_uri": "https://localhost:8080/"
        },
        "id": "7omP2NoJOKmW",
        "outputId": "bd02ed55-6924-4df7-da56-b2c238c84a02"
      },
      "execution_count": null,
      "outputs": [
        {
          "output_type": "stream",
          "name": "stdout",
          "text": [
            "['James', 'Robert', 'Lisa', 'Mary', 'Thomas']\n",
            "None\n"
          ]
        }
      ]
    },
    {
      "cell_type": "markdown",
      "source": [
        "## extend()\n",
        "- 리스트에서 항목 여러 개를 맨 마지막에 추가"
      ],
      "metadata": {
        "id": "SoSt76hAPWD9"
      }
    },
    {
      "cell_type": "code",
      "source": [
        "myFriends = ['James', 'Robert', 'Lisa', 'Mary']\n",
        "myFriends.append('Thomas')\n",
        "\n",
        "newFriends = ['A', 'B', 'C']\n",
        "myFriends.extend(newFriends)\n",
        "myFriends"
      ],
      "metadata": {
        "colab": {
          "base_uri": "https://localhost:8080/"
        },
        "id": "F3Ui01vDPXo5",
        "outputId": "b73b38ea-5f28-4ee0-ff7e-0ee6722a237f"
      },
      "execution_count": null,
      "outputs": [
        {
          "output_type": "execute_result",
          "data": {
            "text/plain": [
              "['James', 'Robert', 'Lisa', 'Mary', 'Thomas', 'A', 'B', 'C']"
            ]
          },
          "metadata": {},
          "execution_count": 45
        }
      ]
    },
    {
      "cell_type": "code",
      "source": [
        "myFriends = ['James', 'Robert', 'Lisa', 'Mary']\n",
        "myFriends.insert(1, 'Evan')\n",
        "print(myFriends)"
      ],
      "metadata": {
        "colab": {
          "base_uri": "https://localhost:8080/"
        },
        "id": "MmHkp2nOS-VK",
        "outputId": "6744844d-dbf4-455e-eae8-cd6ab70fe8e8"
      },
      "execution_count": null,
      "outputs": [
        {
          "output_type": "stream",
          "name": "stdout",
          "text": [
            "['James', 'Evan', 'Robert', 'Lisa', 'Mary']\n"
          ]
        }
      ]
    },
    {
      "cell_type": "code",
      "source": [
        "text1_RAW = '그는 약간의. 수상,'\n",
        "text1 = text1_RAW.replace('.','').replace(',','')\n",
        "text2 = '하지만 사랑해요'\n",
        "result = f\"{text1} {text2}\"\n",
        "print(result)"
      ],
      "metadata": {
        "colab": {
          "base_uri": "https://localhost:8080/"
        },
        "id": "mQYhSsgiUlkt",
        "outputId": "cfbdb97b-c0d9-4db5-81e8-cf728e145058"
      },
      "execution_count": null,
      "outputs": [
        {
          "output_type": "stream",
          "name": "stdout",
          "text": [
            "그는 약간의 수상 하지만 사랑해요\n"
          ]
        }
      ]
    },
    {
      "cell_type": "markdown",
      "source": [
        "## insert()\n",
        "- 항목의 위치를 나타내는 인덱스"
      ],
      "metadata": {
        "id": "lWQaIx9aS3_y"
      }
    },
    {
      "cell_type": "markdown",
      "source": [
        "# 클래스"
      ],
      "metadata": {
        "id": "2BfUJgsoxSjP"
      }
    },
    {
      "cell_type": "markdown",
      "source": [
        "## 함수\n"
      ],
      "metadata": {
        "id": "P9wbKlFWxVHA"
      }
    },
    {
      "cell_type": "code",
      "source": [
        "# 함수의 구조\n",
        "# 매개변수, 인자\n",
        "# 116p\n",
        "\n",
        "# def 함수명([인자1, 인자2, ..., 인자n]_:\n",
        "        # 코드블록\n",
        "#       return 반환값"
      ],
      "metadata": {
        "id": "GFrZiSntqPjv"
      },
      "execution_count": null,
      "outputs": []
    },
    {
      "cell_type": "code",
      "source": [
        "def mySum(a,b):\n",
        "  c = a+b\n",
        "  return c\n",
        "\n",
        "a = 1\n",
        "b = 1\n",
        "\n",
        "result = mySum(a,b)\n",
        "print(result)"
      ],
      "metadata": {
        "colab": {
          "base_uri": "https://localhost:8080/"
        },
        "id": "9vlHzS1AqV80",
        "outputId": "ab1b2882-645c-4fef-d5a3-c34d60b7b894"
      },
      "execution_count": null,
      "outputs": [
        {
          "output_type": "stream",
          "name": "stdout",
          "text": [
            "2\n"
          ]
        }
      ]
    },
    {
      "cell_type": "code",
      "source": [
        "def mySubtract(a,b):\n",
        "  c = a - b\n",
        "  return c\n",
        "\n",
        "  a = 1\n",
        "  b = 1\n",
        "  result = mySubtract(a,b)\n",
        "  print(result)"
      ],
      "metadata": {
        "id": "hZBe6pChr0JT"
      },
      "execution_count": null,
      "outputs": []
    },
    {
      "cell_type": "code",
      "source": [
        "m = 1\n",
        "b = 0\n",
        "\n",
        "result = mySubtract(m, b)\n",
        "print(result)"
      ],
      "metadata": {
        "colab": {
          "base_uri": "https://localhost:8080/"
        },
        "id": "s6jgGnzTtCyP",
        "outputId": "f9a2541c-52d9-4c33-d6cb-5c44d01bb26b"
      },
      "execution_count": null,
      "outputs": [
        {
          "output_type": "stream",
          "name": "stdout",
          "text": [
            "1\n"
          ]
        }
      ]
    },
    {
      "cell_type": "code",
      "source": [
        "ex_list = [\"a\", \"b\", \"c\", \"d\"] # -1 => given position, 3번째 인덱스 값을 참조\n",
        "ex_list.insert(4, \"e\") # append(\"e\")\n",
        "print(ex_list)"
      ],
      "metadata": {
        "colab": {
          "base_uri": "https://localhost:8080/"
        },
        "id": "yq9MO7w0uRnU",
        "outputId": "003c3825-efc4-49f9-91c9-913f70863b20"
      },
      "execution_count": null,
      "outputs": [
        {
          "output_type": "stream",
          "name": "stdout",
          "text": [
            "['a', 'b', 'c', 'd', 'e']\n"
          ]
        }
      ]
    },
    {
      "cell_type": "code",
      "source": [
        "def mySubtract(a, b=0): # b의 초기 값을 0으로 지정\n",
        "  c = a - b\n",
        "  return c\n",
        "\n",
        "M = 1\n",
        "N = 100\n",
        "result = mySubtract(M, N) # b가 0 => 100으로 변경됨\n",
        "print(result)"
      ],
      "metadata": {
        "colab": {
          "base_uri": "https://localhost:8080/"
        },
        "id": "KNQY08z0utn0",
        "outputId": "8f7f5438-6e83-4c0d-e8af-d4c9fe5e821c"
      },
      "execution_count": null,
      "outputs": [
        {
          "output_type": "stream",
          "name": "stdout",
          "text": [
            "-99\n"
          ]
        }
      ]
    },
    {
      "cell_type": "code",
      "source": [
        "def my_func():\n",
        "  print(\"My first function\")\n",
        "  print(\"This is a function!\")"
      ],
      "metadata": {
        "id": "-A4-_m4rquAx"
      },
      "execution_count": null,
      "outputs": []
    },
    {
      "cell_type": "code",
      "source": [
        "result = mySubtract(M, N) # 반환값이 있는 메서드\n",
        "my_func() # 반환값이 없는 메서드"
      ],
      "metadata": {
        "colab": {
          "base_uri": "https://localhost:8080/"
        },
        "id": "GBFsARyV0row",
        "outputId": "0dff77f6-2426-4901-9d92-f6c2c2727b32"
      },
      "execution_count": null,
      "outputs": [
        {
          "output_type": "stream",
          "name": "stdout",
          "text": [
            "My first function\n",
            "This is a function!\n"
          ]
        }
      ]
    },
    {
      "cell_type": "code",
      "source": [
        "def mySum(a,b=0):\n",
        "  c = a + b\n",
        "  print(f'함수 잘 작동 중? {c}')\n",
        "  return c\n",
        "\n",
        "a = 1\n",
        "result = mySum(a)\n",
        "print(result)"
      ],
      "metadata": {
        "colab": {
          "base_uri": "https://localhost:8080/"
        },
        "id": "lLkDxtc51MfJ",
        "outputId": "3a2ee3eb-8773-4c18-9dc5-025d79752022"
      },
      "execution_count": null,
      "outputs": [
        {
          "output_type": "stream",
          "name": "stdout",
          "text": [
            "함수 잘 작동 중? 1\n",
            "1\n"
          ]
        }
      ]
    },
    {
      "cell_type": "markdown",
      "source": [
        "### 변수의 유효범위\n",
        "- p 121\n",
        "- 지역변수 & 전역 변수\n",
        "- Local Variable & Global Variable"
      ],
      "metadata": {
        "id": "PJGtJrFp2PPo"
      }
    },
    {
      "cell_type": "code",
      "source": [
        "a = 5 # 전역 변수\n",
        "\n",
        "def func1():\n",
        "  a = 1 # 지역 변수\n",
        "  print(f'func1 지역 변수 a = {a}')\n",
        "\n",
        "def func2():\n",
        "  a = 4 # 지역 변수\n",
        "  print(f'func2 지역 변수 a = {a}')\n",
        "\n",
        "def func3():\n",
        "  print(f'func3 전역 변수 a = {a}')\n",
        "\n",
        "def func4():\n",
        "  global a # 함수 내에서 전역 변수를 변경하기 위함\n",
        "  a = 500\n",
        "  print(f'func4 전역 변수 a = {a}')\n",
        "\n",
        "\n",
        "func1()\n",
        "func2()\n",
        "func3()\n",
        "func4() # 500이 나오는 이유 : 전역변수 global 기능 사용\n",
        "print(f'전역 변수 a = {a}') # 직전 함수 func4에서 전역변수를 덮어씌웠으므로 500 출력 **중요.\n",
        "func3()\n",
        "func2()\n",
        "func1()"
      ],
      "metadata": {
        "colab": {
          "base_uri": "https://localhost:8080/"
        },
        "id": "eniL4EbE2Wv1",
        "outputId": "d4bde7e9-0f68-48e4-eaa3-a0fc515d56ba"
      },
      "execution_count": null,
      "outputs": [
        {
          "output_type": "stream",
          "name": "stdout",
          "text": [
            "func1 지역 변수 a = 1\n",
            "func2 지역 변수 a = 4\n",
            "func3 전역 변수 a = 5\n",
            "func4 전역 변수 a = 500\n",
            "전역 변수 a = 500\n",
            "func3 전역 변수 a = 500\n",
            "func2 지역 변수 a = 4\n",
            "func1 지역 변수 a = 1\n"
          ]
        }
      ]
    },
    {
      "cell_type": "markdown",
      "source": [
        "### 람다 함수 (lambda)\n",
        "- 'def' 함수 같은 경우에는 복잡한 함수 로직을 만들 때 주로 사용\n",
        "- 단순 기능을 수행할 때는 lamda 함수 사용.\n",
        " + 함수를 한줄로 처리"
      ],
      "metadata": {
        "id": "W37liIJx6uvw"
      }
    },
    {
      "cell_type": "code",
      "source": [
        "(lambda x : x ** 2)(3)"
      ],
      "metadata": {
        "colab": {
          "base_uri": "https://localhost:8080/"
        },
        "id": "NbWASWML2RFg",
        "outputId": "145f9a92-3c65-49ef-987c-2611b1f632b6"
      },
      "execution_count": null,
      "outputs": [
        {
          "output_type": "execute_result",
          "data": {
            "text/plain": [
              "9"
            ]
          },
          "metadata": {},
          "execution_count": 77
        }
      ]
    },
    {
      "cell_type": "markdown",
      "source": [
        "- (lambda 인자(=매개변수) : 인자를 활용한 코드)(원하는 인자 코드 입력)"
      ],
      "metadata": {
        "id": "B6o12KyB71U2"
      }
    },
    {
      "cell_type": "code",
      "source": [
        "mySquare = lambda x : x ** 2\n",
        "mySquare(5)"
      ],
      "metadata": {
        "colab": {
          "base_uri": "https://localhost:8080/"
        },
        "id": "f8pkoP5-8N-h",
        "outputId": "8f86152d-abf1-41be-aca8-11bdc43985a7"
      },
      "execution_count": null,
      "outputs": [
        {
          "output_type": "execute_result",
          "data": {
            "text/plain": [
              "25"
            ]
          },
          "metadata": {},
          "execution_count": 79
        }
      ]
    },
    {
      "cell_type": "code",
      "source": [
        "def myPower(x):\n",
        "  y = x ** 2\n",
        "  print(y)\n",
        "\n",
        "myPower(3)"
      ],
      "metadata": {
        "colab": {
          "base_uri": "https://localhost:8080/"
        },
        "id": "UMjr7vms7zQP",
        "outputId": "4f1659a0-ce4d-41cf-9e6a-62be9d016c81"
      },
      "execution_count": null,
      "outputs": [
        {
          "output_type": "stream",
          "name": "stdout",
          "text": [
            "9\n"
          ]
        }
      ]
    },
    {
      "cell_type": "markdown",
      "source": [
        "## 클래스 선언과 객체 생성\n",
        "- 교재 p135\n",
        "- 함수의 확장\n",
        "- 함수와 클래스 비유적으로 비교\n",
        " + 함수, 각 덧셈함수, 뺄셈함수, 곱셈함수 등\n",
        " + 클래스 : 사칙연산 클래스, (예: 계산기)\n",
        " + 라이브러리 : 클래스들의 묶음\n",
        "    + 사칙연산 클래스\n",
        "    + 미분 클래스\n",
        "    + 적분 클래스\n",
        "    + etc ...\n",
        "    + 수학 라이브러리\n"
      ],
      "metadata": {
        "id": "HOozKPAkBZm6"
      }
    },
    {
      "cell_type": "code",
      "source": [
        "# 자전거의 속성 : data (바퀴의 크기, 자전거의 색상)\n",
        "# 자전거의 동작 : method (= function), 지정된 속도로 이동, 좌/우회전, 정지 기능"
      ],
      "metadata": {
        "id": "-UrRL5SxCoS3"
      },
      "execution_count": null,
      "outputs": []
    },
    {
      "cell_type": "code",
      "source": [
        "class Bycycle(): # 클래스 선언\n",
        "  # 클래스 변수\n",
        "  데이터1 = 바퀴의 크기\n",
        "  데이터2 = 자전거의 색상\n",
        "\n",
        "  def 속도():\n",
        "    pass\n",
        "\n",
        "  def 방향():\n",
        "    pass\n",
        "\n",
        "  def 정지():\n",
        "    pass\n",
        "\n",
        "  def 비행():\n",
        "    pass\n",
        "\n",
        "객체명 = Bycycle(데이터1, 데이터2) # 입력한 형태로 새로운 객체가 막 생기는 것\n",
        "\n",
        "# 상상\n",
        "벤츠자전거 = Bycycle(데이터1, 데이터2) # 매장 옵션\n",
        "\n",
        "# 문의\n",
        "벤츠자전거 하늘로 비행하나요? ==> 얘는 기능이 없음."
      ],
      "metadata": {
        "colab": {
          "base_uri": "https://localhost:8080/",
          "height": 145
        },
        "id": "3nAhCwp_EAAk",
        "outputId": "53763555-1541-4682-a2c5-04a714e24989"
      },
      "execution_count": null,
      "outputs": [
        {
          "output_type": "error",
          "ename": "SyntaxError",
          "evalue": "ignored",
          "traceback": [
            "\u001b[0;36m  File \u001b[0;32m\"<ipython-input-83-4397eae1bfa6>\"\u001b[0;36m, line \u001b[0;32m3\u001b[0m\n\u001b[0;31m    데이터1 = 바퀴의 크기\u001b[0m\n\u001b[0m               ^\u001b[0m\n\u001b[0;31mSyntaxError\u001b[0m\u001b[0;31m:\u001b[0m invalid syntax\n"
          ]
        }
      ]
    },
    {
      "cell_type": "markdown",
      "source": [
        "### why Class? 프로그래밍 관점"
      ],
      "metadata": {
        "id": "F4Otp1lDJZhk"
      }
    },
    {
      "cell_type": "code",
      "source": [
        "result1 = 0\n",
        "result2 = 0\n",
        "\n",
        "def add1(num): # 계산기 1대를 보유한 상태\n",
        "  global result1\n",
        "\n",
        "  result1 = result1 + num # 결과값(result)에 입력값(num) 더하기\n",
        "  return result1\n",
        "\n",
        "def add2(num): # 계산기 1대를 보유한 상태\n",
        "  global result2\n",
        "\n",
        "  result2 = result2 + num # 결과값(result)에 입력값(num) 더하기\n",
        "  return result2\n",
        "\n",
        "\n",
        "print(add1(3)) # + 5 ===> 8\n",
        "print(add1(5))\n",
        "print(add2(3))\n",
        "print(add2(8))\n",
        "\n"
      ],
      "metadata": {
        "colab": {
          "base_uri": "https://localhost:8080/"
        },
        "id": "OUbVGzAHJeO4",
        "outputId": "dd253d45-70bb-4c22-a154-3eb84ce72d10"
      },
      "execution_count": null,
      "outputs": [
        {
          "output_type": "stream",
          "name": "stdout",
          "text": [
            "3\n",
            "8\n",
            "3\n",
            "11\n"
          ]
        }
      ]
    },
    {
      "cell_type": "markdown",
      "source": [
        "- 위 코드의 문제점 : 같은 기능(덧셈)을 수행하는 함수가 중복될 수 있음 / 코드의 가독성이 매우 급격하게 떨어지기 시작\n"
      ],
      "metadata": {
        "id": "OXopIpa1KZGj"
      }
    },
    {
      "cell_type": "code",
      "source": [
        "class Calculator:\n",
        "  def __init__(self):\n",
        "    self.result = 0 # result 값을 초기화\n",
        "\n",
        "  # 클래스 메서드\n",
        "  def add(self, num):\n",
        "    self.result = self.result + num\n",
        "    return self.result\n",
        "\n",
        "cal1 = Calculator() # 인스턴스화, 계산기 번호 1\n",
        "cal2 = Calculator() # 인스턴스화, 계산기 번호 2\n",
        "\n",
        "print(cal1.add(2))\n",
        "print(cal1.add(5))\n",
        "print(cal2.add(3))\n",
        "print(cal2.add(100))\n"
      ],
      "metadata": {
        "colab": {
          "base_uri": "https://localhost:8080/"
        },
        "id": "nisH8qNtPTPX",
        "outputId": "83fbdff4-c35c-465b-9818-62efb933ed47"
      },
      "execution_count": null,
      "outputs": [
        {
          "output_type": "stream",
          "name": "stdout",
          "text": [
            "2\n",
            "7\n",
            "3\n",
            "103\n"
          ]
        }
      ]
    },
    {
      "cell_type": "markdown",
      "source": [
        "### 객체 초기화\n",
        "- __init__() : 객체 생성과 동시에 속성값을 지정할 수 있다.\n",
        " + 주로 클래스 선언 시 변수 초기화"
      ],
      "metadata": {
        "id": "HhMvbqh5U9n9"
      }
    },
    {
      "cell_type": "code",
      "source": [
        "class Bicycle():\n",
        "  # 변수 초기화\n",
        "  def __init__(self, wheel_size, color):\n",
        "    self.wheel_size = wheel_size\n",
        "    self.color = color\n",
        "\n",
        "  def stop(self):\n",
        "    print('자전거({0}, {1}) : 정지'.format(self.wheel_size, self.color))\n",
        "\n",
        "bike1 = Bicycle(\"26\", \"Black\")\n",
        "bike2 = Bicycle(\"10\", \"Pink\")\n",
        "\n",
        "bike1.stop()\n",
        "bike2.stop()"
      ],
      "metadata": {
        "colab": {
          "base_uri": "https://localhost:8080/"
        },
        "id": "COPa3iBLU_05",
        "outputId": "e7a79540-e325-4b80-92a4-2aa546536bfd"
      },
      "execution_count": null,
      "outputs": [
        {
          "output_type": "stream",
          "name": "stdout",
          "text": [
            "자전거(26, Black) : 정지\n",
            "자전거(10, Pink) : 정지\n"
          ]
        }
      ]
    }
  ]
}