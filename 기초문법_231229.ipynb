{
  "nbformat": 4,
  "nbformat_minor": 0,
  "metadata": {
    "colab": {
      "provenance": [],
      "toc_visible": true,
      "authorship_tag": "ABX9TyM9Qh63RS3cYzdzK5Se0Dr8",
      "include_colab_link": true
    },
    "kernelspec": {
      "name": "python3",
      "display_name": "Python 3"
    },
    "language_info": {
      "name": "python"
    }
  },
  "cells": [
    {
      "cell_type": "markdown",
      "metadata": {
        "id": "view-in-github",
        "colab_type": "text"
      },
      "source": [
        "<a href=\"https://colab.research.google.com/github/JG-Park/mulcamp34/blob/main/%EA%B8%B0%EC%B4%88%EB%AC%B8%EB%B2%95_231229.ipynb\" target=\"_parent\"><img src=\"https://colab.research.google.com/assets/colab-badge.svg\" alt=\"Open In Colab\"/></a>"
      ]
    },
    {
      "cell_type": "markdown",
      "source": [
        "# 어제 배운 것 리뷰\n",
        "- 클래스, 함수\n",
        "- 문자열 클래스 다양한 메서드\n",
        "- 리스트 클래스 다양한 메서드\n",
        " + append, extend, insert, remove ...\n",
        "\n"
      ],
      "metadata": {
        "id": "bf9D1gn06dKW"
      }
    },
    {
      "cell_type": "markdown",
      "source": [
        "# 딕셔너리\n",
        "- Dictionary : 사전\n",
        "- 구성 : key-value, keyword(=key), 결과값(=value)\n",
        " + 문자열, 리스트, tuple : 데이터 조회 시, 인덱싱 또는 슬라이싱\n",
        " + 딕셔너리에서 값을 조회하는 방법은 key 값을 통해서 값을 조회\n"
      ],
      "metadata": {
        "id": "hXgvkiPL7k6E"
      }
    },
    {
      "cell_type": "code",
      "source": [
        "# 나라-수도 이름\n",
        "country_capital = {\n",
        "    \"대한민국\": \"서울\",\n",
        "    \"프랑스\": \"파리\",\n",
        "    \"미국\": \"워싱턴\",\n",
        "    \"영국\": \"런던\",\n",
        "    \"독일\": \"베를린\"\n",
        "}\n",
        "\n",
        "country_capital['대한민국']"
      ],
      "metadata": {
        "colab": {
          "base_uri": "https://localhost:8080/",
          "height": 36
        },
        "id": "3Ashq26p8txa",
        "outputId": "f65f0f16-d162-4cd2-c3b0-50b52f49d2c4"
      },
      "execution_count": null,
      "outputs": [
        {
          "output_type": "execute_result",
          "data": {
            "text/plain": [
              "'서울'"
            ],
            "application/vnd.google.colaboratory.intrinsic+json": {
              "type": "string"
            }
          },
          "metadata": {},
          "execution_count": 99
        }
      ]
    },
    {
      "cell_type": "code",
      "source": [
        "data = {1:\"버스\", 3:\"비행기\"}\n",
        "data"
      ],
      "metadata": {
        "colab": {
          "base_uri": "https://localhost:8080/"
        },
        "id": "usy4YOue-grL",
        "outputId": "022e3c23-05a9-4a66-e71c-94634e2eb043"
      },
      "execution_count": null,
      "outputs": [
        {
          "output_type": "execute_result",
          "data": {
            "text/plain": [
              "{1: '버스', 3: '비행기'}"
            ]
          },
          "metadata": {},
          "execution_count": 74
        }
      ]
    },
    {
      "cell_type": "code",
      "source": [
        "# 숫자 1은, 리스트, 문자열, tuple 인덱스 번호와는 다른 숫자\n",
        "# 현재 여기에서는 숫자 1은 key값이다!\n",
        "data[1]"
      ],
      "metadata": {
        "colab": {
          "base_uri": "https://localhost:8080/",
          "height": 36
        },
        "id": "5MeCTY3I-pVh",
        "outputId": "ecd6f6a2-314f-436f-b5fd-9245c760b547"
      },
      "execution_count": null,
      "outputs": [
        {
          "output_type": "execute_result",
          "data": {
            "text/plain": [
              "'버스'"
            ],
            "application/vnd.google.colaboratory.intrinsic+json": {
              "type": "string"
            }
          },
          "metadata": {},
          "execution_count": 75
        }
      ]
    },
    {
      "cell_type": "code",
      "source": [
        "data2 = {'list1': [1,2,3], 'list2': [4,5,6]}\n",
        "data2"
      ],
      "metadata": {
        "colab": {
          "base_uri": "https://localhost:8080/"
        },
        "id": "0ekahzrB_E4l",
        "outputId": "d048103f-470a-4277-cb5f-178132ed73f0"
      },
      "execution_count": null,
      "outputs": [
        {
          "output_type": "execute_result",
          "data": {
            "text/plain": [
              "{'list1': [1, 2, 3], 'list2': [4, 5, 6]}"
            ]
          },
          "metadata": {},
          "execution_count": 76
        }
      ]
    },
    {
      "cell_type": "markdown",
      "source": [
        "## 딕셔너리 사용처\n",
        "- 데이터 분석 : 엑셀 레이블\n",
        " + 1억개, 데이터 가공(최소 1-2시간 가공작업)\n",
        " + 임시 테이블\n",
        "- HTML, CSS, 인터넷 자료형 중, JSON 데이터 포맷\n",
        "- JSON 데이터 포맷 ==> 딕셔너리와 동일\n",
        " + API 데이터 크롤링, 기본 자료형(JSON) ==> 딕셔너리 변환, 변환 후 데이터 가공"
      ],
      "metadata": {
        "id": "9D0N4yNsFw_0"
      }
    },
    {
      "cell_type": "code",
      "source": [
        "import pandas as pd\n",
        "\n",
        "# 이 데이터가 있음\n",
        "data = {\n",
        "    'A': [1,2,3],\n",
        "    'B': [4,5,6]\n",
        "}\n",
        "\n"
      ],
      "metadata": {
        "id": "mkwO2aytLKdt"
      },
      "execution_count": null,
      "outputs": []
    },
    {
      "cell_type": "markdown",
      "source": [
        "## 딕셔너리 다루기\n",
        "- 딕셔너리의 value 값 수정하는 방법"
      ],
      "metadata": {
        "id": "VMp7LdMSFzeD"
      }
    },
    {
      "cell_type": "code",
      "source": [
        "# 내가 좋아하는 도시 이름\n",
        "country_capital['대한민국'] = '부산'\n",
        "country_capital"
      ],
      "metadata": {
        "colab": {
          "base_uri": "https://localhost:8080/"
        },
        "id": "PuxqXPQdF19V",
        "outputId": "e95e8402-e46d-4ec7-e57b-9a885a182649"
      },
      "execution_count": null,
      "outputs": [
        {
          "output_type": "execute_result",
          "data": {
            "text/plain": [
              "{'대한민국': '부산', '프랑스': '파리', '미국': '워싱턴', '영국': '런던', '독일': '베를린'}"
            ]
          },
          "metadata": {},
          "execution_count": 78
        }
      ]
    },
    {
      "cell_type": "markdown",
      "source": [
        "- 딕셔너리 삭제 방법"
      ],
      "metadata": {
        "id": "KmY6lj_KGKqA"
      }
    },
    {
      "cell_type": "code",
      "source": [
        "# del\n",
        "del country_capital['영국']\n",
        "country_capital"
      ],
      "metadata": {
        "colab": {
          "base_uri": "https://localhost:8080/"
        },
        "id": "NktzyUa8GQoU",
        "outputId": "c2c5f00b-c96d-468c-dded-d8642e411b32"
      },
      "execution_count": null,
      "outputs": [
        {
          "output_type": "execute_result",
          "data": {
            "text/plain": [
              "{'대한민국': '부산', '프랑스': '파리', '미국': '워싱턴', '독일': '베를린'}"
            ]
          },
          "metadata": {},
          "execution_count": 79
        }
      ]
    },
    {
      "cell_type": "code",
      "source": [
        "country_capital['프랑스'] = None\n",
        "country_capital"
      ],
      "metadata": {
        "colab": {
          "base_uri": "https://localhost:8080/"
        },
        "id": "IGo0f3VtGtvQ",
        "outputId": "e6ef3785-33e9-45a0-932b-a11dd61b1dcc"
      },
      "execution_count": null,
      "outputs": [
        {
          "output_type": "execute_result",
          "data": {
            "text/plain": [
              "{'대한민국': '부산', '프랑스': None, '미국': '워싱턴', '독일': '베를린'}"
            ]
          },
          "metadata": {},
          "execution_count": 80
        }
      ]
    },
    {
      "cell_type": "code",
      "source": [
        "country_capital['일본'] = '도쿄'\n",
        "country_capital"
      ],
      "metadata": {
        "colab": {
          "base_uri": "https://localhost:8080/"
        },
        "id": "JdGPyphiG47V",
        "outputId": "31e2bb9f-bdfd-4e8a-8439-e5ac8f745981"
      },
      "execution_count": null,
      "outputs": [
        {
          "output_type": "execute_result",
          "data": {
            "text/plain": [
              "{'대한민국': '부산', '프랑스': None, '미국': '워싱턴', '독일': '베를린', '일본': '도쿄'}"
            ]
          },
          "metadata": {},
          "execution_count": 81
        }
      ]
    },
    {
      "cell_type": "markdown",
      "source": [
        "## 딕셔너리 메서드"
      ],
      "metadata": {
        "id": "HpwkUtGDHGK-"
      }
    },
    {
      "cell_type": "code",
      "source": [
        "print(type(country_capital)) # 딕셔너리 객체\n",
        "# 딕셔너리가 보유한 클래스 메서드를 사용할 수 있음.\n",
        "country_capital.keys()"
      ],
      "metadata": {
        "colab": {
          "base_uri": "https://localhost:8080/"
        },
        "id": "xzjP7m2XHKwK",
        "outputId": "f041e9cd-f1c0-4009-9775-03c4cc9a311e"
      },
      "execution_count": null,
      "outputs": [
        {
          "output_type": "stream",
          "name": "stdout",
          "text": [
            "<class 'dict'>\n"
          ]
        },
        {
          "output_type": "execute_result",
          "data": {
            "text/plain": [
              "dict_keys(['대한민국', '프랑스', '미국', '독일', '일본'])"
            ]
          },
          "metadata": {},
          "execution_count": 82
        }
      ]
    },
    {
      "cell_type": "code",
      "source": [
        "# 딕셔너리에서 키 전체를 리스트 형태로 반환\n",
        "print(type(country_capital.values()))"
      ],
      "metadata": {
        "colab": {
          "base_uri": "https://localhost:8080/"
        },
        "id": "8mEy4OHZG0fT",
        "outputId": "9f2d8211-d161-45cf-d018-5d9744ea2cdd"
      },
      "execution_count": null,
      "outputs": [
        {
          "output_type": "stream",
          "name": "stdout",
          "text": [
            "<class 'dict_values'>\n"
          ]
        }
      ]
    },
    {
      "cell_type": "code",
      "source": [
        "# 데이터 형 변환\n",
        "list(country_capital.values())"
      ],
      "metadata": {
        "colab": {
          "base_uri": "https://localhost:8080/"
        },
        "id": "gsyFxA6lIKCX",
        "outputId": "6a76401a-071d-4f63-9c05-c2e5b2cda78e"
      },
      "execution_count": null,
      "outputs": [
        {
          "output_type": "execute_result",
          "data": {
            "text/plain": [
              "['부산', None, '워싱턴', '베를린', '도쿄']"
            ]
          },
          "metadata": {},
          "execution_count": 84
        }
      ]
    },
    {
      "cell_type": "code",
      "source": [
        "country_capital.items()"
      ],
      "metadata": {
        "colab": {
          "base_uri": "https://localhost:8080/"
        },
        "id": "SE0Ak6N5JJXN",
        "outputId": "7a216759-1ac6-490e-e565-97e61a3032e3"
      },
      "execution_count": null,
      "outputs": [
        {
          "output_type": "execute_result",
          "data": {
            "text/plain": [
              "dict_items([('대한민국', '부산'), ('프랑스', None), ('미국', '워싱턴'), ('독일', '베를린'), ('일본', '도쿄')])"
            ]
          },
          "metadata": {},
          "execution_count": 85
        }
      ]
    },
    {
      "cell_type": "code",
      "source": [
        "new_df = {\n",
        "    '중국': '베이징', '필리핀': '마닐라', '호주': '캔버라'\n",
        "}\n",
        "country_capital.update(new_df)\n",
        "country_capital"
      ],
      "metadata": {
        "colab": {
          "base_uri": "https://localhost:8080/"
        },
        "id": "jYHutHXfJLfn",
        "outputId": "8944a28f-6f6f-47d8-d512-e2055c66a2ce"
      },
      "execution_count": null,
      "outputs": [
        {
          "output_type": "execute_result",
          "data": {
            "text/plain": [
              "{'대한민국': '부산',\n",
              " '프랑스': None,\n",
              " '미국': '워싱턴',\n",
              " '독일': '베를린',\n",
              " '일본': '도쿄',\n",
              " '중국': '베이징',\n",
              " '필리핀': '마닐라',\n",
              " '호주': '캔버라'}"
            ]
          },
          "metadata": {},
          "execution_count": 86
        }
      ]
    },
    {
      "cell_type": "code",
      "source": [
        "country_capital.clear() # 빈 Dictionary 생성\n",
        "country_capital"
      ],
      "metadata": {
        "colab": {
          "base_uri": "https://localhost:8080/"
        },
        "id": "r0ZUzrgtJdz6",
        "outputId": "7b173a76-9bec-445f-c9cd-8a410dadc348"
      },
      "execution_count": null,
      "outputs": [
        {
          "output_type": "execute_result",
          "data": {
            "text/plain": [
              "{}"
            ]
          },
          "metadata": {},
          "execution_count": 87
        }
      ]
    },
    {
      "cell_type": "markdown",
      "source": [
        "# If 조건문\n",
        "- 만약 A라면 ~일 것이다.\n",
        "- 프로그래밍에서 조건문\n",
        "  + 만약 조건이 True라면 ~를 해라\n",
        "  + 참과 거짓을 만드는 것이 포인트"
      ],
      "metadata": {
        "id": "gHzEmWBSL4kb"
      }
    },
    {
      "cell_type": "code",
      "source": [
        "x = int(input(\"점수를 입력하세요\")) # 문자를 숫자로 형변환\n",
        "if x >= 80: ### <- 조건문을 직접 설계하는 것이 포인트!\n",
        "  print(\"합격\")\n",
        "  # 코드블록 개념(들여쓰기) Syntax Error.\n",
        "  print(x)\n",
        "else:\n",
        "  print(\"불합격\")"
      ],
      "metadata": {
        "colab": {
          "base_uri": "https://localhost:8080/"
        },
        "id": "HW7uVlrYMsvS",
        "outputId": "2140d0cd-c2ae-4823-b8ce-a42b05740f50"
      },
      "execution_count": null,
      "outputs": [
        {
          "output_type": "stream",
          "name": "stdout",
          "text": [
            "점수를 입력하세요90\n",
            "합격\n",
            "90\n"
          ]
        }
      ]
    },
    {
      "cell_type": "code",
      "source": [
        "x = int(input(\"점수를 입력하세요\")) # 문자를 숫자로 형변환\n",
        "if x >= 90: ### <- 조건문을 직접 설계하는 것이 포인트!\n",
        "  print(\"합격\")\n",
        "\n",
        "elif x >= 80:\n",
        "  print(\"부분합격, 면접 필요\")\n",
        "\n",
        "else:\n",
        "  print(\"불합격\")"
      ],
      "metadata": {
        "colab": {
          "base_uri": "https://localhost:8080/"
        },
        "id": "CkMN4tPGMAIN",
        "outputId": "a1c4cf12-1ff1-416a-ef84-b745de544933"
      },
      "execution_count": null,
      "outputs": [
        {
          "output_type": "stream",
          "name": "stdout",
          "text": [
            "점수를 입력하세요90\n",
            "합격\n"
          ]
        }
      ]
    },
    {
      "cell_type": "markdown",
      "source": [
        "# 문제\n",
        "- 학생 성적에 따라서 등급을 정합니다.\n",
        "- 등급: A,B,C,D,F\n",
        "- 점수: 0~100점\n",
        "  + 90점 이상 A가 나오게"
      ],
      "metadata": {
        "id": "OZa-okIJO2EY"
      }
    },
    {
      "cell_type": "code",
      "source": [
        "class exam_grader():\n",
        "  def __init__(self):\n",
        "    self.result = {}\n",
        "\n",
        "  def grading(self, name, score):\n",
        "    if score >= 90:\n",
        "      print(f\"{name} 학생의 등급은 A입니다. 등록되었습니다.\\n\")\n",
        "      self.result[name] = [score, \"A\"]\n",
        "    elif score >= 80:\n",
        "      print(f\"{name} 학생의 등급은 B입니다. 등록되었습니다.\\n\")\n",
        "      self.result[name] = [score, \"B\"]\n",
        "    elif score >= 70:\n",
        "      print(f\"{name} 학생의 등급은 C입니다. 등록되었습니다.\\n\")\n",
        "      self.result[name] = [score, \"C\"]\n",
        "    elif score >= 60:\n",
        "      print(f\"{name} 학생의 등급은 D입니다. 등록되었습니다.\\n\")\n",
        "      self.result[name] = [score, \"D\"]\n",
        "    else:\n",
        "      print(f\"{name} 학생의 등급은 F입니다. 등록되었습니다.\\n\")\n",
        "      self.result[name] = [score, \"F\"]\n",
        "\n",
        "  def new(self):\n",
        "    name = str(input(\"이름을 입력하십시오. \"))\n",
        "    score = int(input(\"점수를 입력하십시오. \"))\n",
        "    self.grading(name, score)\n",
        "\n",
        "\n",
        "  def modify(self):\n",
        "    name = str(input(\"변경할 학생의 이름을 입력하십시오. \"))\n",
        "    score = int(input(\"변경할 점수를 입력하십시오. \"))\n",
        "    self.grading(name, score)\n",
        "\n",
        "  def lookup(self):\n",
        "    name = str(input(\"조회할 학생의 이름을 입력하십시오. \"))\n",
        "    print(f\"{name} 학생의 점수 : {self.result[name][0]}\")\n",
        "    print(f\"{name} 학생의 등급 : {self.result[name][1]}\\n\")\n",
        "\n",
        "\n",
        "  def lookup_all(self):\n",
        "    print(self.result)\n",
        "\n",
        "exam1 = exam_grader()\n"
      ],
      "metadata": {
        "id": "h3OuJz3mPHsv"
      },
      "execution_count": null,
      "outputs": []
    },
    {
      "cell_type": "code",
      "source": [
        "exam1.new()\n",
        "exam1.lookup()\n",
        "exam1.lookup_all()"
      ],
      "metadata": {
        "colab": {
          "base_uri": "https://localhost:8080/"
        },
        "id": "uc_hSakzS1E1",
        "outputId": "348ea967-cbeb-48df-f728-7a47ae6d48f8"
      },
      "execution_count": null,
      "outputs": [
        {
          "output_type": "stream",
          "name": "stdout",
          "text": [
            "이름을 입력하십시오. 박지건\n",
            "점수를 입력하십시오. 100\n",
            "박지건 학생의 등급은 A입니다. 등록되었습니다.\n",
            "\n",
            "조회할 학생의 이름을 입력하십시오. 박지건\n",
            "박지건 학생의 점수 : 100\n",
            "박지건 학생의 등급 : A\n",
            "\n",
            "{'박지건': [100, 'A']}\n"
          ]
        }
      ]
    },
    {
      "cell_type": "markdown",
      "source": [
        "# 반복문\n",
        "## for-loop 특징"
      ],
      "metadata": {
        "id": "0jJQneKrbhK3"
      }
    },
    {
      "cell_type": "code",
      "source": [
        "for i in range(3):\n",
        "  print(f'{i}번째 Hello Python')\n"
      ],
      "metadata": {
        "colab": {
          "base_uri": "https://localhost:8080/"
        },
        "id": "1Ij77-r8blNi",
        "outputId": "c36c1570-ae65-4e32-e556-0c7ab52726a0"
      },
      "execution_count": null,
      "outputs": [
        {
          "output_type": "stream",
          "name": "stdout",
          "text": [
            "0번째 Hello Python\n",
            "1번째 Hello Python\n",
            "2번째 Hello Python\n"
          ]
        }
      ]
    },
    {
      "cell_type": "code",
      "source": [
        "for idx in range(3):\n",
        "  print(f'{idx}번째 Hello Python')"
      ],
      "metadata": {
        "colab": {
          "base_uri": "https://localhost:8080/"
        },
        "id": "yj2gGqcebrKO",
        "outputId": "1ff1f7a2-4730-4d57-9b50-be4b49a2997d"
      },
      "execution_count": null,
      "outputs": [
        {
          "output_type": "stream",
          "name": "stdout",
          "text": [
            "0번째 Hello Python\n",
            "1번째 Hello Python\n",
            "2번째 Hello Python\n"
          ]
        }
      ]
    },
    {
      "cell_type": "markdown",
      "source": [
        "- 반복 범위 지정 시, 시퀀스 자료형도 사용 가능\n",
        "  + 오늘/내일 블로그 주제: 시퀀스 자료형에 대해서 정리\n",
        "  + 대표적인 것 : 리스트, 문자열\n"
      ],
      "metadata": {
        "id": "oH7G6e8bbx0h"
      }
    },
    {
      "cell_type": "code",
      "source": [
        "nums = [1,2,3,4,5]\n",
        "for num in nums:\n",
        "  print(num)"
      ],
      "metadata": {
        "colab": {
          "base_uri": "https://localhost:8080/"
        },
        "id": "AeMDz2M9b6oj",
        "outputId": "1fa28bdf-5ff9-4cad-c3c6-0a2ce5403537"
      },
      "execution_count": null,
      "outputs": [
        {
          "output_type": "stream",
          "name": "stdout",
          "text": [
            "1\n",
            "2\n",
            "3\n",
            "4\n",
            "5\n"
          ]
        }
      ]
    },
    {
      "cell_type": "code",
      "source": [
        "strings = \"Hello\"\n",
        "for text in strings:\n",
        "  print(text)"
      ],
      "metadata": {
        "colab": {
          "base_uri": "https://localhost:8080/"
        },
        "id": "MVcQZ2jFcS2s",
        "outputId": "40d31fdc-2e27-49c3-b7a4-218cdc06d065"
      },
      "execution_count": null,
      "outputs": [
        {
          "output_type": "stream",
          "name": "stdout",
          "text": [
            "H\n",
            "e\n",
            "l\n",
            "l\n",
            "o\n"
          ]
        }
      ]
    },
    {
      "cell_type": "code",
      "source": [
        "tuples = (1,2,3,4)\n",
        "for num in tuples:\n",
        "  print(num)"
      ],
      "metadata": {
        "colab": {
          "base_uri": "https://localhost:8080/"
        },
        "id": "gA9pR8PccX6c",
        "outputId": "92f45d06-cced-414c-b90a-9a67c447ae4a"
      },
      "execution_count": null,
      "outputs": [
        {
          "output_type": "stream",
          "name": "stdout",
          "text": [
            "1\n",
            "2\n",
            "3\n",
            "4\n"
          ]
        }
      ]
    },
    {
      "cell_type": "code",
      "source": [
        "country_capital\n",
        "\n",
        "for country in country_capital:\n",
        "  # print(country) # key 값만 출력, 원하는 것은 value 값\n",
        "  print(f'{country}의 수도는 {country_capital[country]}이다.')"
      ],
      "metadata": {
        "colab": {
          "base_uri": "https://localhost:8080/"
        },
        "id": "AjqE0hKLcjM4",
        "outputId": "46a7ff7a-a655-41d2-8423-5706a9edffdc"
      },
      "execution_count": null,
      "outputs": [
        {
          "output_type": "stream",
          "name": "stdout",
          "text": [
            "대한민국\n",
            "대한민국의 수도는 서울이다.\n",
            "프랑스\n",
            "프랑스의 수도는 파리이다.\n",
            "미국\n",
            "미국의 수도는 워싱턴이다.\n",
            "영국\n",
            "영국의 수도는 런던이다.\n",
            "독일\n",
            "독일의 수도는 베를린이다.\n"
          ]
        }
      ]
    },
    {
      "cell_type": "code",
      "source": [
        "# 중첩 포문\n",
        "# 반복문 내 또 다른 반복문\n",
        "x_list = ['x1', 'x2']\n",
        "y_list = ['y1', 'y2']\n",
        "\n",
        "# print('x1 y1')\n",
        "# print('x1 y2')\n",
        "# print('x2 y1')\n",
        "# print('x2 y2')\n",
        "\n",
        "for x in x_list:\n",
        "  # print(x)\n",
        "  for y in y_list:\n",
        "    print(x, y)"
      ],
      "metadata": {
        "colab": {
          "base_uri": "https://localhost:8080/"
        },
        "id": "L4UbUc6ac3Y5",
        "outputId": "98547942-496b-4c90-95a7-c6fa773ea25d"
      },
      "execution_count": null,
      "outputs": [
        {
          "output_type": "stream",
          "name": "stdout",
          "text": [
            "x1 y1\n",
            "x1 y2\n",
            "x2 y1\n",
            "x2 y2\n"
          ]
        }
      ]
    },
    {
      "cell_type": "markdown",
      "source": [
        "## 구구단\n",
        "- 2 x 1 = 2"
      ],
      "metadata": {
        "id": "7UTNnu6tzrWZ"
      }
    },
    {
      "cell_type": "code",
      "source": [
        "x_list = [2,3,4,5,6,7,8,9]\n",
        "y_list = [1,2,3,4,5,6,7,8,9]\n",
        "\n",
        "for x in x_list:\n",
        "  for y in y_list:\n",
        "    print(f\"{x} * {y} = {x * y}\")"
      ],
      "metadata": {
        "colab": {
          "base_uri": "https://localhost:8080/"
        },
        "id": "UJ5zSgMc0w0h",
        "outputId": "d0e9e68c-9bdb-4e76-c745-5db649619e56"
      },
      "execution_count": null,
      "outputs": [
        {
          "output_type": "stream",
          "name": "stdout",
          "text": [
            "2 * 1 = 2\n",
            "2 * 2 = 4\n",
            "2 * 3 = 6\n",
            "2 * 4 = 8\n",
            "2 * 5 = 10\n",
            "2 * 6 = 12\n",
            "2 * 7 = 14\n",
            "2 * 8 = 16\n",
            "2 * 9 = 18\n",
            "3 * 1 = 3\n",
            "3 * 2 = 6\n",
            "3 * 3 = 9\n",
            "3 * 4 = 12\n",
            "3 * 5 = 15\n",
            "3 * 6 = 18\n",
            "3 * 7 = 21\n",
            "3 * 8 = 24\n",
            "3 * 9 = 27\n",
            "4 * 1 = 4\n",
            "4 * 2 = 8\n",
            "4 * 3 = 12\n",
            "4 * 4 = 16\n",
            "4 * 5 = 20\n",
            "4 * 6 = 24\n",
            "4 * 7 = 28\n",
            "4 * 8 = 32\n",
            "4 * 9 = 36\n",
            "5 * 1 = 5\n",
            "5 * 2 = 10\n",
            "5 * 3 = 15\n",
            "5 * 4 = 20\n",
            "5 * 5 = 25\n",
            "5 * 6 = 30\n",
            "5 * 7 = 35\n",
            "5 * 8 = 40\n",
            "5 * 9 = 45\n",
            "6 * 1 = 6\n",
            "6 * 2 = 12\n",
            "6 * 3 = 18\n",
            "6 * 4 = 24\n",
            "6 * 5 = 30\n",
            "6 * 6 = 36\n",
            "6 * 7 = 42\n",
            "6 * 8 = 48\n",
            "6 * 9 = 54\n",
            "7 * 1 = 7\n",
            "7 * 2 = 14\n",
            "7 * 3 = 21\n",
            "7 * 4 = 28\n",
            "7 * 5 = 35\n",
            "7 * 6 = 42\n",
            "7 * 7 = 49\n",
            "7 * 8 = 56\n",
            "7 * 9 = 63\n",
            "8 * 1 = 8\n",
            "8 * 2 = 16\n",
            "8 * 3 = 24\n",
            "8 * 4 = 32\n",
            "8 * 5 = 40\n",
            "8 * 6 = 48\n",
            "8 * 7 = 56\n",
            "8 * 8 = 64\n",
            "8 * 9 = 72\n",
            "9 * 1 = 9\n",
            "9 * 2 = 18\n",
            "9 * 3 = 27\n",
            "9 * 4 = 36\n",
            "9 * 5 = 45\n",
            "9 * 6 = 54\n",
            "9 * 7 = 63\n",
            "9 * 8 = 72\n",
            "9 * 9 = 81\n"
          ]
        }
      ]
    },
    {
      "cell_type": "code",
      "source": [
        "for x in range(2,10):\n",
        "  for y in range(1,10):\n",
        "    print(f\"{x} * {y} = {x * y}\")\n",
        "  print(\"-----------\")"
      ],
      "metadata": {
        "colab": {
          "base_uri": "https://localhost:8080/"
        },
        "id": "NF2PFG524mUP",
        "outputId": "b90fa5c1-0d75-4a79-d355-bf63b717b717"
      },
      "execution_count": null,
      "outputs": [
        {
          "output_type": "stream",
          "name": "stdout",
          "text": [
            "2 * 1 = 2\n",
            "2 * 2 = 4\n",
            "2 * 3 = 6\n",
            "2 * 4 = 8\n",
            "2 * 5 = 10\n",
            "2 * 6 = 12\n",
            "2 * 7 = 14\n",
            "2 * 8 = 16\n",
            "2 * 9 = 18\n",
            "-----------\n",
            "3 * 1 = 3\n",
            "3 * 2 = 6\n",
            "3 * 3 = 9\n",
            "3 * 4 = 12\n",
            "3 * 5 = 15\n",
            "3 * 6 = 18\n",
            "3 * 7 = 21\n",
            "3 * 8 = 24\n",
            "3 * 9 = 27\n",
            "-----------\n",
            "4 * 1 = 4\n",
            "4 * 2 = 8\n",
            "4 * 3 = 12\n",
            "4 * 4 = 16\n",
            "4 * 5 = 20\n",
            "4 * 6 = 24\n",
            "4 * 7 = 28\n",
            "4 * 8 = 32\n",
            "4 * 9 = 36\n",
            "-----------\n",
            "5 * 1 = 5\n",
            "5 * 2 = 10\n",
            "5 * 3 = 15\n",
            "5 * 4 = 20\n",
            "5 * 5 = 25\n",
            "5 * 6 = 30\n",
            "5 * 7 = 35\n",
            "5 * 8 = 40\n",
            "5 * 9 = 45\n",
            "-----------\n",
            "6 * 1 = 6\n",
            "6 * 2 = 12\n",
            "6 * 3 = 18\n",
            "6 * 4 = 24\n",
            "6 * 5 = 30\n",
            "6 * 6 = 36\n",
            "6 * 7 = 42\n",
            "6 * 8 = 48\n",
            "6 * 9 = 54\n",
            "-----------\n",
            "7 * 1 = 7\n",
            "7 * 2 = 14\n",
            "7 * 3 = 21\n",
            "7 * 4 = 28\n",
            "7 * 5 = 35\n",
            "7 * 6 = 42\n",
            "7 * 7 = 49\n",
            "7 * 8 = 56\n",
            "7 * 9 = 63\n",
            "-----------\n",
            "8 * 1 = 8\n",
            "8 * 2 = 16\n",
            "8 * 3 = 24\n",
            "8 * 4 = 32\n",
            "8 * 5 = 40\n",
            "8 * 6 = 48\n",
            "8 * 7 = 56\n",
            "8 * 8 = 64\n",
            "8 * 9 = 72\n",
            "-----------\n",
            "9 * 1 = 9\n",
            "9 * 2 = 18\n",
            "9 * 3 = 27\n",
            "9 * 4 = 36\n",
            "9 * 5 = 45\n",
            "9 * 6 = 54\n",
            "9 * 7 = 63\n",
            "9 * 8 = 72\n",
            "9 * 9 = 81\n",
            "-----------\n"
          ]
        }
      ]
    },
    {
      "cell_type": "code",
      "source": [
        "names = [\"A\", \"B\", \"C\"]\n",
        "ages = [10, 20, 30]\n",
        "\n",
        "for name, age in zip(names, ages):\n",
        "  print(name, age)"
      ],
      "metadata": {
        "colab": {
          "base_uri": "https://localhost:8080/"
        },
        "id": "9fM-JNe50_2k",
        "outputId": "8d3ff402-c3f5-404d-c5b2-a0065433832f"
      },
      "execution_count": null,
      "outputs": [
        {
          "output_type": "stream",
          "name": "stdout",
          "text": [
            "A 10\n",
            "B 20\n",
            "C 30\n"
          ]
        }
      ]
    },
    {
      "cell_type": "code",
      "source": [
        "names = [\"A\", \"B\", \"C\"]\n",
        "for idx, name in enumerate(names):\n",
        "  print(idx, name)"
      ],
      "metadata": {
        "colab": {
          "base_uri": "https://localhost:8080/"
        },
        "id": "iZjDHqae5I_b",
        "outputId": "19681089-17b1-489c-cb40-247dec428d5c"
      },
      "execution_count": null,
      "outputs": [
        {
          "output_type": "stream",
          "name": "stdout",
          "text": [
            "0 A\n",
            "1 B\n",
            "2 C\n"
          ]
        }
      ]
    },
    {
      "cell_type": "markdown",
      "source": [
        "## While 특징\n",
        "- for-loop 특징: 항상 반복문의 범위를 지정한다.\n",
        "  + 몇 번 반복문을 수행할지 숫자로 컨트롤 가능\n",
        "\n",
        "- While 특징\n",
        "  + 조건문이 False가 될 때까지 반복문을 수행\n",
        "  + 조건문이 True면 반복문은 무한 수행"
      ],
      "metadata": {
        "id": "QAawxdr78m5R"
      }
    },
    {
      "cell_type": "code",
      "source": [
        "# 초기 값 지정\n",
        "i = 1\n",
        "n = 3\n",
        "\n",
        "while i <= n:\n",
        "  print(f'현재 {i}')\n",
        "  i = i + 1"
      ],
      "metadata": {
        "colab": {
          "base_uri": "https://localhost:8080/"
        },
        "id": "SGOFVX6L8__N",
        "outputId": "5b171e76-230f-40ee-dab7-573ae14dda6b"
      },
      "execution_count": null,
      "outputs": [
        {
          "output_type": "stream",
          "name": "stdout",
          "text": [
            "현재 1\n",
            "현재 2\n",
            "현재 3\n"
          ]
        }
      ]
    },
    {
      "cell_type": "markdown",
      "source": [
        "## for-loop, while 비교\n",
        "- Only 데이터 분석만 하겠습니다.\n",
        "(for-loop만 집중 공부)\n",
        "   + 행과 열은 거의 고정\n",
        "   + 범위가 주어져 있음.\n",
        "\n",
        "- 개발자로 경력을 쌓고 싶습니다.\n",
        "(for-loop, while 문 둘 다 익힐 것)\n",
        "  + 카메라가 켜진 상태에서, 필터를 추가한다...\n",
        "  + 카메라 is ON (==True)\n",
        "    + ~~~ 기능 수행하라\n",
        "  + 카메라 OFF (==False)\n",
        "    + 기능 수행하는 코드 미 작성"
      ],
      "metadata": {
        "id": "PBb24c3CAoeX"
      }
    },
    {
      "cell_type": "markdown",
      "source": [
        "## break 문\n",
        "- 중간에 반복문 강제 종료\n",
        "  + 특정 시점에 반복문 강제종료"
      ],
      "metadata": {
        "id": "THhEshCIBt4y"
      }
    },
    {
      "cell_type": "code",
      "source": [
        "# 초기 값 지정\n",
        "i = 1\n",
        "n = 3\n",
        "\n",
        "while True:\n",
        "  print(f'현재 {i}')\n",
        "\n",
        "  if i >= 5:\n",
        "    break\n",
        "\n",
        "  i = i + 1"
      ],
      "metadata": {
        "colab": {
          "base_uri": "https://localhost:8080/"
        },
        "id": "WMI8EBSuCQYd",
        "outputId": "6a48bdbc-a090-4a43-d397-9368b5d259d6"
      },
      "execution_count": null,
      "outputs": [
        {
          "output_type": "stream",
          "name": "stdout",
          "text": [
            "현재 1\n",
            "현재 2\n",
            "현재 3\n",
            "현재 4\n",
            "현재 5\n"
          ]
        }
      ]
    },
    {
      "cell_type": "code",
      "source": [
        "for i in range(10):\n",
        "  print(f'현재 {i}번')\n",
        "  if i > 5:\n",
        "    print(\"if 조건문 만족\")\n",
        "    break"
      ],
      "metadata": {
        "colab": {
          "base_uri": "https://localhost:8080/"
        },
        "id": "ZMrpjpXoC6bn",
        "outputId": "e43a2b39-9f25-42c2-e9ca-95e53e41fc3c"
      },
      "execution_count": null,
      "outputs": [
        {
          "output_type": "stream",
          "name": "stdout",
          "text": [
            "현재 0번\n",
            "현재 1번\n",
            "현재 2번\n",
            "현재 3번\n",
            "현재 4번\n",
            "현재 5번\n",
            "현재 6번\n",
            "if 조건문 만족\n"
          ]
        }
      ]
    },
    {
      "cell_type": "markdown",
      "source": [
        "### 문자열과 for-loop"
      ],
      "metadata": {
        "id": "PM-CpgSaG0hR"
      }
    },
    {
      "cell_type": "markdown",
      "source": [
        "## 리스트 컴프리헨션"
      ],
      "metadata": {
        "id": "UsCP56OyGp9-"
      }
    },
    {
      "cell_type": "code",
      "source": [
        "\n",
        "numbers = [1,2,3,4,5]\n",
        "result = []\n",
        "for i in numbers:\n",
        "  result.append(i ** 2)\n",
        "\n",
        "result"
      ],
      "metadata": {
        "colab": {
          "base_uri": "https://localhost:8080/"
        },
        "id": "zImfv3RzGKZr",
        "outputId": "a23ad4e6-2991-471b-9f70-da2b6095b80d"
      },
      "execution_count": null,
      "outputs": [
        {
          "output_type": "execute_result",
          "data": {
            "text/plain": [
              "[1, 4, 9, 16, 25]"
            ]
          },
          "metadata": {},
          "execution_count": 31
        }
      ]
    },
    {
      "cell_type": "code",
      "source": [
        "# 초기 값 지정\n",
        "i = 1\n",
        "n = 3\n",
        "\n",
        "while i <= n:\n",
        "  print(f'현재 {i}')\n",
        "  i = i + 1"
      ],
      "metadata": {
        "colab": {
          "base_uri": "https://localhost:8080/"
        },
        "id": "nEwuHVaUGVKp",
        "outputId": "9be70712-b51d-4dd7-df23-d104490a7a08"
      },
      "execution_count": null,
      "outputs": [
        {
          "output_type": "stream",
          "name": "stdout",
          "text": [
            "현재 1\n",
            "현재 2\n",
            "현재 3\n"
          ]
        }
      ]
    },
    {
      "cell_type": "code",
      "source": [
        "numbers = [1,2,3,4,5]\n",
        "result2 = [i ** 2 for i in numbers]\n",
        "result"
      ],
      "metadata": {
        "colab": {
          "base_uri": "https://localhost:8080/"
        },
        "id": "AIwSpRDmGhdW",
        "outputId": "6197b0b5-d868-4e7e-8c8c-63838059ed9b"
      },
      "execution_count": null,
      "outputs": [
        {
          "output_type": "execute_result",
          "data": {
            "text/plain": [
              "[1, 4, 9, 16, 25]"
            ]
          },
          "metadata": {},
          "execution_count": 36
        }
      ]
    },
    {
      "cell_type": "code",
      "source": [
        "numbers = [1,2,3,4,5]\n",
        "result = []\n",
        "\n",
        "for i in numbers:\n",
        "  if i >= 3:\n",
        "    result.append (i ** 2)\n",
        "\n",
        "result"
      ],
      "metadata": {
        "colab": {
          "base_uri": "https://localhost:8080/"
        },
        "id": "3RybiPynK6eb",
        "outputId": "56ce5afc-03d7-4097-f6cf-b05c3f9d2958"
      },
      "execution_count": null,
      "outputs": [
        {
          "output_type": "execute_result",
          "data": {
            "text/plain": [
              "[9, 16, 25]"
            ]
          },
          "metadata": {},
          "execution_count": 37
        }
      ]
    },
    {
      "cell_type": "code",
      "source": [
        "numbers = [1,2,3,4,5]\n",
        "result2 = [i ** 2 for i in numbers if i >= 3]\n",
        "result"
      ],
      "metadata": {
        "colab": {
          "base_uri": "https://localhost:8080/"
        },
        "id": "uat-1Q3qLGDF",
        "outputId": "6143f3bb-e548-4f05-cc0a-caa8251c4b82"
      },
      "execution_count": null,
      "outputs": [
        {
          "output_type": "execute_result",
          "data": {
            "text/plain": [
              "[9, 16, 25]"
            ]
          },
          "metadata": {},
          "execution_count": 40
        }
      ]
    },
    {
      "cell_type": "markdown",
      "source": [
        "- 시각화 라이브러리\n",
        "  + matplotlib, plotly 옵션 설정 할 때, 자주 사용됨."
      ],
      "metadata": {
        "id": "GkquOk7DMGCd"
      }
    },
    {
      "cell_type": "markdown",
      "source": [
        "# 파이썬 문서화 (Docstring)\n",
        "- 코딩을 한다. 프로그래밍을 한다.\n",
        "- 누군가에게 관련 지식을 전달하는 것과 동일\n",
        "  + 혼자 코딩하고, 혼자만 알 수 있는 언어로 코딩을 했다 ==> 협업 불가능\n",
        "  + 취업, 퇴사, 이직 ==> 업무 인수인계를 해야 함.\n",
        "  + 코딩한 것에 문서화를 하지 못하면, 업무 인수인계 자체가 불가능.\n",
        "\n",
        "- 프로젝트 진행\n",
        "  + 3주 / 4주 ==> 마지막주에는\n",
        "    - 2-3명, PPT 보고서 작성\n",
        "    - 남은 인원, Docstring을 이용해서, 문서화\n",
        "    - help() 명령어를 사용해서 불러오기 할 수 있음 (예. read_csv() 문서처럼 출력이 가능)\n",
        "    "
      ],
      "metadata": {
        "id": "QAf4rxZoNFDA"
      }
    },
    {
      "cell_type": "code",
      "source": [
        "help(print)"
      ],
      "metadata": {
        "colab": {
          "base_uri": "https://localhost:8080/"
        },
        "id": "3VmaDTS1Qzsn",
        "outputId": "4eb4faff-4dc7-47c3-94d7-f18a988c3616"
      },
      "execution_count": null,
      "outputs": [
        {
          "output_type": "stream",
          "name": "stdout",
          "text": [
            "Help on built-in function print in module builtins:\n",
            "\n",
            "print(...)\n",
            "    print(value, ..., sep=' ', end='\\n', file=sys.stdout, flush=False)\n",
            "    \n",
            "    Prints the values to a stream, or to sys.stdout by default.\n",
            "    Optional keyword arguments:\n",
            "    file:  a file-like object (stream); defaults to the current sys.stdout.\n",
            "    sep:   string inserted between values, default a space.\n",
            "    end:   string appended after the last value, default a newline.\n",
            "    flush: whether to forcibly flush the stream.\n",
            "\n"
          ]
        }
      ]
    },
    {
      "cell_type": "code",
      "source": [
        "import math\n",
        "help(math)"
      ],
      "metadata": {
        "colab": {
          "base_uri": "https://localhost:8080/"
        },
        "id": "yK4fCwIRQ4ux",
        "outputId": "3d501a93-571a-4c57-bbd8-e574041b2927"
      },
      "execution_count": null,
      "outputs": [
        {
          "output_type": "stream",
          "name": "stdout",
          "text": [
            "Help on built-in module math:\n",
            "\n",
            "NAME\n",
            "    math\n",
            "\n",
            "DESCRIPTION\n",
            "    This module provides access to the mathematical functions\n",
            "    defined by the C standard.\n",
            "\n",
            "FUNCTIONS\n",
            "    acos(x, /)\n",
            "        Return the arc cosine (measured in radians) of x.\n",
            "        \n",
            "        The result is between 0 and pi.\n",
            "    \n",
            "    acosh(x, /)\n",
            "        Return the inverse hyperbolic cosine of x.\n",
            "    \n",
            "    asin(x, /)\n",
            "        Return the arc sine (measured in radians) of x.\n",
            "        \n",
            "        The result is between -pi/2 and pi/2.\n",
            "    \n",
            "    asinh(x, /)\n",
            "        Return the inverse hyperbolic sine of x.\n",
            "    \n",
            "    atan(x, /)\n",
            "        Return the arc tangent (measured in radians) of x.\n",
            "        \n",
            "        The result is between -pi/2 and pi/2.\n",
            "    \n",
            "    atan2(y, x, /)\n",
            "        Return the arc tangent (measured in radians) of y/x.\n",
            "        \n",
            "        Unlike atan(y/x), the signs of both x and y are considered.\n",
            "    \n",
            "    atanh(x, /)\n",
            "        Return the inverse hyperbolic tangent of x.\n",
            "    \n",
            "    ceil(x, /)\n",
            "        Return the ceiling of x as an Integral.\n",
            "        \n",
            "        This is the smallest integer >= x.\n",
            "    \n",
            "    comb(n, k, /)\n",
            "        Number of ways to choose k items from n items without repetition and without order.\n",
            "        \n",
            "        Evaluates to n! / (k! * (n - k)!) when k <= n and evaluates\n",
            "        to zero when k > n.\n",
            "        \n",
            "        Also called the binomial coefficient because it is equivalent\n",
            "        to the coefficient of k-th term in polynomial expansion of the\n",
            "        expression (1 + x)**n.\n",
            "        \n",
            "        Raises TypeError if either of the arguments are not integers.\n",
            "        Raises ValueError if either of the arguments are negative.\n",
            "    \n",
            "    copysign(x, y, /)\n",
            "        Return a float with the magnitude (absolute value) of x but the sign of y.\n",
            "        \n",
            "        On platforms that support signed zeros, copysign(1.0, -0.0)\n",
            "        returns -1.0.\n",
            "    \n",
            "    cos(x, /)\n",
            "        Return the cosine of x (measured in radians).\n",
            "    \n",
            "    cosh(x, /)\n",
            "        Return the hyperbolic cosine of x.\n",
            "    \n",
            "    degrees(x, /)\n",
            "        Convert angle x from radians to degrees.\n",
            "    \n",
            "    dist(p, q, /)\n",
            "        Return the Euclidean distance between two points p and q.\n",
            "        \n",
            "        The points should be specified as sequences (or iterables) of\n",
            "        coordinates.  Both inputs must have the same dimension.\n",
            "        \n",
            "        Roughly equivalent to:\n",
            "            sqrt(sum((px - qx) ** 2.0 for px, qx in zip(p, q)))\n",
            "    \n",
            "    erf(x, /)\n",
            "        Error function at x.\n",
            "    \n",
            "    erfc(x, /)\n",
            "        Complementary error function at x.\n",
            "    \n",
            "    exp(x, /)\n",
            "        Return e raised to the power of x.\n",
            "    \n",
            "    expm1(x, /)\n",
            "        Return exp(x)-1.\n",
            "        \n",
            "        This function avoids the loss of precision involved in the direct evaluation of exp(x)-1 for small x.\n",
            "    \n",
            "    fabs(x, /)\n",
            "        Return the absolute value of the float x.\n",
            "    \n",
            "    factorial(x, /)\n",
            "        Find x!.\n",
            "        \n",
            "        Raise a ValueError if x is negative or non-integral.\n",
            "    \n",
            "    floor(x, /)\n",
            "        Return the floor of x as an Integral.\n",
            "        \n",
            "        This is the largest integer <= x.\n",
            "    \n",
            "    fmod(x, y, /)\n",
            "        Return fmod(x, y), according to platform C.\n",
            "        \n",
            "        x % y may differ.\n",
            "    \n",
            "    frexp(x, /)\n",
            "        Return the mantissa and exponent of x, as pair (m, e).\n",
            "        \n",
            "        m is a float and e is an int, such that x = m * 2.**e.\n",
            "        If x is 0, m and e are both 0.  Else 0.5 <= abs(m) < 1.0.\n",
            "    \n",
            "    fsum(seq, /)\n",
            "        Return an accurate floating point sum of values in the iterable seq.\n",
            "        \n",
            "        Assumes IEEE-754 floating point arithmetic.\n",
            "    \n",
            "    gamma(x, /)\n",
            "        Gamma function at x.\n",
            "    \n",
            "    gcd(*integers)\n",
            "        Greatest Common Divisor.\n",
            "    \n",
            "    hypot(...)\n",
            "        hypot(*coordinates) -> value\n",
            "        \n",
            "        Multidimensional Euclidean distance from the origin to a point.\n",
            "        \n",
            "        Roughly equivalent to:\n",
            "            sqrt(sum(x**2 for x in coordinates))\n",
            "        \n",
            "        For a two dimensional point (x, y), gives the hypotenuse\n",
            "        using the Pythagorean theorem:  sqrt(x*x + y*y).\n",
            "        \n",
            "        For example, the hypotenuse of a 3/4/5 right triangle is:\n",
            "        \n",
            "            >>> hypot(3.0, 4.0)\n",
            "            5.0\n",
            "    \n",
            "    isclose(a, b, *, rel_tol=1e-09, abs_tol=0.0)\n",
            "        Determine whether two floating point numbers are close in value.\n",
            "        \n",
            "          rel_tol\n",
            "            maximum difference for being considered \"close\", relative to the\n",
            "            magnitude of the input values\n",
            "          abs_tol\n",
            "            maximum difference for being considered \"close\", regardless of the\n",
            "            magnitude of the input values\n",
            "        \n",
            "        Return True if a is close in value to b, and False otherwise.\n",
            "        \n",
            "        For the values to be considered close, the difference between them\n",
            "        must be smaller than at least one of the tolerances.\n",
            "        \n",
            "        -inf, inf and NaN behave similarly to the IEEE 754 Standard.  That\n",
            "        is, NaN is not close to anything, even itself.  inf and -inf are\n",
            "        only close to themselves.\n",
            "    \n",
            "    isfinite(x, /)\n",
            "        Return True if x is neither an infinity nor a NaN, and False otherwise.\n",
            "    \n",
            "    isinf(x, /)\n",
            "        Return True if x is a positive or negative infinity, and False otherwise.\n",
            "    \n",
            "    isnan(x, /)\n",
            "        Return True if x is a NaN (not a number), and False otherwise.\n",
            "    \n",
            "    isqrt(n, /)\n",
            "        Return the integer part of the square root of the input.\n",
            "    \n",
            "    lcm(*integers)\n",
            "        Least Common Multiple.\n",
            "    \n",
            "    ldexp(x, i, /)\n",
            "        Return x * (2**i).\n",
            "        \n",
            "        This is essentially the inverse of frexp().\n",
            "    \n",
            "    lgamma(x, /)\n",
            "        Natural logarithm of absolute value of Gamma function at x.\n",
            "    \n",
            "    log(...)\n",
            "        log(x, [base=math.e])\n",
            "        Return the logarithm of x to the given base.\n",
            "        \n",
            "        If the base not specified, returns the natural logarithm (base e) of x.\n",
            "    \n",
            "    log10(x, /)\n",
            "        Return the base 10 logarithm of x.\n",
            "    \n",
            "    log1p(x, /)\n",
            "        Return the natural logarithm of 1+x (base e).\n",
            "        \n",
            "        The result is computed in a way which is accurate for x near zero.\n",
            "    \n",
            "    log2(x, /)\n",
            "        Return the base 2 logarithm of x.\n",
            "    \n",
            "    modf(x, /)\n",
            "        Return the fractional and integer parts of x.\n",
            "        \n",
            "        Both results carry the sign of x and are floats.\n",
            "    \n",
            "    nextafter(x, y, /)\n",
            "        Return the next floating-point value after x towards y.\n",
            "    \n",
            "    perm(n, k=None, /)\n",
            "        Number of ways to choose k items from n items without repetition and with order.\n",
            "        \n",
            "        Evaluates to n! / (n - k)! when k <= n and evaluates\n",
            "        to zero when k > n.\n",
            "        \n",
            "        If k is not specified or is None, then k defaults to n\n",
            "        and the function returns n!.\n",
            "        \n",
            "        Raises TypeError if either of the arguments are not integers.\n",
            "        Raises ValueError if either of the arguments are negative.\n",
            "    \n",
            "    pow(x, y, /)\n",
            "        Return x**y (x to the power of y).\n",
            "    \n",
            "    prod(iterable, /, *, start=1)\n",
            "        Calculate the product of all the elements in the input iterable.\n",
            "        \n",
            "        The default start value for the product is 1.\n",
            "        \n",
            "        When the iterable is empty, return the start value.  This function is\n",
            "        intended specifically for use with numeric values and may reject\n",
            "        non-numeric types.\n",
            "    \n",
            "    radians(x, /)\n",
            "        Convert angle x from degrees to radians.\n",
            "    \n",
            "    remainder(x, y, /)\n",
            "        Difference between x and the closest integer multiple of y.\n",
            "        \n",
            "        Return x - n*y where n*y is the closest integer multiple of y.\n",
            "        In the case where x is exactly halfway between two multiples of\n",
            "        y, the nearest even value of n is used. The result is always exact.\n",
            "    \n",
            "    sin(x, /)\n",
            "        Return the sine of x (measured in radians).\n",
            "    \n",
            "    sinh(x, /)\n",
            "        Return the hyperbolic sine of x.\n",
            "    \n",
            "    sqrt(x, /)\n",
            "        Return the square root of x.\n",
            "    \n",
            "    tan(x, /)\n",
            "        Return the tangent of x (measured in radians).\n",
            "    \n",
            "    tanh(x, /)\n",
            "        Return the hyperbolic tangent of x.\n",
            "    \n",
            "    trunc(x, /)\n",
            "        Truncates the Real x to the nearest Integral toward 0.\n",
            "        \n",
            "        Uses the __trunc__ magic method.\n",
            "    \n",
            "    ulp(x, /)\n",
            "        Return the value of the least significant bit of the float x.\n",
            "\n",
            "DATA\n",
            "    e = 2.718281828459045\n",
            "    inf = inf\n",
            "    nan = nan\n",
            "    pi = 3.141592653589793\n",
            "    tau = 6.283185307179586\n",
            "\n",
            "FILE\n",
            "    (built-in)\n",
            "\n",
            "\n"
          ]
        }
      ]
    },
    {
      "cell_type": "code",
      "source": [
        "def myPower(n):\n",
        "  '''숫자 n을 입력하면 n의 거듭제곱으로 반환'''\n",
        "  result = n ** 2\n",
        "  return result"
      ],
      "metadata": {
        "id": "BW0GGtDBRS2E"
      },
      "execution_count": null,
      "outputs": []
    },
    {
      "cell_type": "code",
      "source": [
        "print(myPower(3))"
      ],
      "metadata": {
        "colab": {
          "base_uri": "https://localhost:8080/"
        },
        "id": "nuxhh_-oRhTK",
        "outputId": "6b68f631-04b7-4c54-f416-f065d2f7942d"
      },
      "execution_count": null,
      "outputs": [
        {
          "output_type": "stream",
          "name": "stdout",
          "text": [
            "9\n"
          ]
        }
      ]
    },
    {
      "cell_type": "code",
      "source": [
        "print(myPower.__doc__)"
      ],
      "metadata": {
        "colab": {
          "base_uri": "https://localhost:8080/"
        },
        "id": "nLyX19bQRsy0",
        "outputId": "32af558f-79ed-4d0d-e244-d72c8bc1d984"
      },
      "execution_count": null,
      "outputs": [
        {
          "output_type": "stream",
          "name": "stdout",
          "text": [
            "숫자 n을 입력하면 n의 거듭제곱으로 반환\n"
          ]
        }
      ]
    },
    {
      "cell_type": "code",
      "source": [
        "print(print.__doc__)"
      ],
      "metadata": {
        "colab": {
          "base_uri": "https://localhost:8080/"
        },
        "id": "yVZVBO5GR0z0",
        "outputId": "aaef8719-6c83-4058-cb02-cb338a571077"
      },
      "execution_count": null,
      "outputs": [
        {
          "output_type": "stream",
          "name": "stdout",
          "text": [
            "print(value, ..., sep=' ', end='\\n', file=sys.stdout, flush=False)\n",
            "\n",
            "Prints the values to a stream, or to sys.stdout by default.\n",
            "Optional keyword arguments:\n",
            "file:  a file-like object (stream); defaults to the current sys.stdout.\n",
            "sep:   string inserted between values, default a space.\n",
            "end:   string appended after the last value, default a newline.\n",
            "flush: whether to forcibly flush the stream.\n"
          ]
        }
      ]
    },
    {
      "cell_type": "code",
      "source": [
        "def read_csv(sep, header):\n",
        "  '''\n",
        "  Returns the sum of ~~~ .\n",
        "\n",
        "    Parameters:\n",
        "      sep(str) : Character or regex pattern to treat as the delimiter.\n",
        "      header(int) : Row number(s) containing column labels and marking the start of the data (zero-indexed).\n",
        "\n",
        "    Returns:\n",
        "    c(int) : Sum of ~~\n",
        "  '''\n",
        "  c = sep + header\n",
        "  return c\n",
        "\n",
        "print(read_csv.__doc__)"
      ],
      "metadata": {
        "colab": {
          "base_uri": "https://localhost:8080/"
        },
        "id": "7pfRMGA1SAbg",
        "outputId": "8b8fea29-3d77-4f51-8933-b940719a654e"
      },
      "execution_count": null,
      "outputs": [
        {
          "output_type": "stream",
          "name": "stdout",
          "text": [
            "\n",
            "  Returns the sum of ~~~ .\n",
            "\n",
            "    Parameters:\n",
            "      sep(str) : Character or regex pattern to treat as the delimiter.\n",
            "      header(int) : Row number(s) containing column labels and marking the start of the data (zero-indexed).\n",
            "\n",
            "    Returns:\n",
            "    c(int) : Sum of ~~\n",
            "  \n"
          ]
        }
      ]
    },
    {
      "cell_type": "markdown",
      "source": [
        "- 코드 문서화를 좋아한다 ==> 네카라쿠배.. 갈 확률이 높아짐\n",
        "- 코드 문서화를 싫어한다 ==> 네카라쿠배.. 갈 확률이 낮아짐\n",
        "\n",
        "- swagger 같은 API 명세서가 docstring일까요?\n",
        "  + 클라이언트 용 명세서(공공기관, 한글 또는 워드 작업)\n"
      ],
      "metadata": {
        "id": "9fLRARoaTt6N"
      }
    },
    {
      "cell_type": "markdown",
      "source": [
        "# 클래스 상속\n",
        "- 부모 > 자식\n",
        "- 대분류 > 중분류 > 소분류\n",
        "\n",
        "- 동물\n",
        "  + 동물의 공통적인 특징 : 살아움직인다.\n",
        "- 포유류\n",
        "  + (살아 움직인다) 4발이 있다, 새끼를 낳는다.\n",
        "- 파충류\n",
        "  + (살아 움직인다) 알을 낳는다."
      ],
      "metadata": {
        "id": "Rg1GHudhT3j8"
      }
    },
    {
      "cell_type": "code",
      "source": [
        "class Animal:\n",
        "  # Attribute 정의(=클래스 변수)\n",
        "  name = \"\"\n",
        "\n",
        "  # 공통함수\n",
        "  def eat(self):\n",
        "    print(\"나는 먹을 수 있음\")\n",
        "\n",
        "class Dog(Animal): # 클래스 상속을 했다.\n",
        "                   # 동물 ==> 강아지로 기본 기능을 제공함\n",
        "  # name = \"\" # 이 코드는 불 필요함\n",
        "\n",
        "  # 새로운 메서드\n",
        "  def dance(self):\n",
        "    print(f\"{self.name} 강아지가 춤을 춘다\")"
      ],
      "metadata": {
        "id": "yH5heSuNZR99"
      },
      "execution_count": null,
      "outputs": []
    },
    {
      "cell_type": "code",
      "source": [
        "# 객체 생성\n",
        "a = Dog()\n",
        "a.name = \"코코\"\n",
        "a.eat()"
      ],
      "metadata": {
        "colab": {
          "base_uri": "https://localhost:8080/"
        },
        "id": "acMK-_xoaYaK",
        "outputId": "6b8538d3-a277-4662-a3ba-51815d6488bf"
      },
      "execution_count": null,
      "outputs": [
        {
          "output_type": "stream",
          "name": "stdout",
          "text": [
            "나는 먹을 수 있음\n",
            "코코 강아지가 춤을 춘다\n"
          ]
        }
      ]
    },
    {
      "cell_type": "code",
      "source": [
        "a.dance()"
      ],
      "metadata": {
        "id": "AP3tu5fybw_7"
      },
      "execution_count": null,
      "outputs": []
    },
    {
      "cell_type": "code",
      "source": [
        "b = Animal()\n",
        "b.name = \"시고르자브종\"\n",
        "b.eat()"
      ],
      "metadata": {
        "colab": {
          "base_uri": "https://localhost:8080/"
        },
        "id": "8oFU_gjHbnYS",
        "outputId": "72e39c43-a2c0-46b4-edfb-e1825a9880a3"
      },
      "execution_count": null,
      "outputs": [
        {
          "output_type": "stream",
          "name": "stdout",
          "text": [
            "나는 먹을 수 있음\n"
          ]
        }
      ]
    },
    {
      "cell_type": "code",
      "source": [
        "b.dance()"
      ],
      "metadata": {
        "colab": {
          "base_uri": "https://localhost:8080/",
          "height": 179
        },
        "id": "Dzx5KC-Zb44R",
        "outputId": "a46acbbe-2711-4ac6-e65a-40b80ecc0d4d"
      },
      "execution_count": null,
      "outputs": [
        {
          "output_type": "error",
          "ename": "AttributeError",
          "evalue": "ignored",
          "traceback": [
            "\u001b[0;31m---------------------------------------------------------------------------\u001b[0m",
            "\u001b[0;31mAttributeError\u001b[0m                            Traceback (most recent call last)",
            "\u001b[0;32m<ipython-input-71-a091c07220b8>\u001b[0m in \u001b[0;36m<cell line: 1>\u001b[0;34m()\u001b[0m\n\u001b[0;32m----> 1\u001b[0;31m \u001b[0mb\u001b[0m\u001b[0;34m.\u001b[0m\u001b[0mdance\u001b[0m\u001b[0;34m(\u001b[0m\u001b[0;34m)\u001b[0m\u001b[0;34m\u001b[0m\u001b[0;34m\u001b[0m\u001b[0m\n\u001b[0m",
            "\u001b[0;31mAttributeError\u001b[0m: 'Animal' object has no attribute 'dance'"
          ]
        }
      ]
    },
    {
      "cell_type": "markdown",
      "source": [
        "## 클래스 Docstring"
      ],
      "metadata": {
        "id": "HhvFIvFncSGZ"
      }
    },
    {
      "cell_type": "code",
      "source": [
        "class Person:\n",
        "  \"\"\"\n",
        "  자기 소개하는 Person 클래스.\n",
        "\n",
        "  '''\n",
        "  Attributes\n",
        "  -----------\n",
        "  name : str\n",
        "    사람의 이름을 의미\n",
        "  age : int\n",
        "    사람의 나이를 의미\n",
        "  grade : int\n",
        "    사람의 현재 학년을 의미\n",
        "\n",
        "  Methods\n",
        "  -----------\n",
        "  info(comment=\"\"):\n",
        "    사람의 개인정보를 출력\n",
        "\n",
        "  \"\"\"\n",
        "\n",
        "  def __init__(self, name, age, grade):\n",
        "    \"\"\"\n",
        "\n",
        "    \"\"\"\n",
        "    self.name = name\n",
        "    self.age = age\n",
        "    self.grade = grade\n",
        "\n",
        "  def info(self, comment = \"\"):\n",
        "    \"\"\"\n",
        "\n",
        "    \"\"\"\n",
        "    print(f'내 이름은 {self.name}. 내 나이는 {self.age}. 현재 학년은 {self.grade}. {comment}')"
      ],
      "metadata": {
        "id": "AbdMcs-8cl9R"
      },
      "execution_count": null,
      "outputs": []
    },
    {
      "cell_type": "code",
      "source": [
        "print(Person.__doc__)"
      ],
      "metadata": {
        "colab": {
          "base_uri": "https://localhost:8080/"
        },
        "id": "5nVaSgV5dyi-",
        "outputId": "830811d7-6f7a-4d31-dd9d-5e838070696d"
      },
      "execution_count": null,
      "outputs": [
        {
          "output_type": "stream",
          "name": "stdout",
          "text": [
            "\n",
            "  자기 소개하는 Person 클래스. \n",
            "\n",
            "  '''\n",
            "  Attributes\n",
            "  -----------\n",
            "  name : str\n",
            "    사람의 이름을 의미\n",
            "  age : int\n",
            "    사람의 나이를 의미\n",
            "  grade : int\n",
            "    사람의 현재 학년을 의미\n",
            "\n",
            "  Methods\n",
            "  -----------\n",
            "  info(comment=\"\"):\n",
            "    사람의 개인정보를 출력\n",
            "\n",
            "  \n"
          ]
        }
      ]
    },
    {
      "cell_type": "code",
      "source": [
        "help(Person)"
      ],
      "metadata": {
        "id": "2ole1A73eWPl",
        "outputId": "b3348817-d187-42d3-eb47-0f8a5a4977c3",
        "colab": {
          "base_uri": "https://localhost:8080/"
        }
      },
      "execution_count": null,
      "outputs": [
        {
          "output_type": "stream",
          "name": "stdout",
          "text": [
            "Help on class Person in module __main__:\n",
            "\n",
            "class Person(builtins.object)\n",
            " |  Person(name, age, grade)\n",
            " |  \n",
            " |  자기 소개하는 Person 클래스. \n",
            " |  \n",
            " |  '''\n",
            " |  Attributes\n",
            " |  -----------\n",
            " |  name : str\n",
            " |    사람의 이름을 의미\n",
            " |  age : int\n",
            " |    사람의 나이를 의미\n",
            " |  grade : int\n",
            " |    사람의 현재 학년을 의미\n",
            " |  \n",
            " |  Methods\n",
            " |  -----------\n",
            " |  info(comment=\"\"):\n",
            " |    사람의 개인정보를 출력\n",
            " |  \n",
            " |  Methods defined here:\n",
            " |  \n",
            " |  __init__(self, name, age, grade)\n",
            " |  \n",
            " |  info(self, comment='')\n",
            " |  \n",
            " |  ----------------------------------------------------------------------\n",
            " |  Data descriptors defined here:\n",
            " |  \n",
            " |  __dict__\n",
            " |      dictionary for instance variables (if defined)\n",
            " |  \n",
            " |  __weakref__\n",
            " |      list of weak references to the object (if defined)\n",
            "\n"
          ]
        }
      ]
    }
  ]
}